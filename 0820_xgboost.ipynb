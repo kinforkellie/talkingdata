{
 "cells": [
  {
   "cell_type": "markdown",
   "metadata": {},
   "source": [
    "* data shape 유지 및 xgboost 사용"
   ]
  },
  {
   "cell_type": "code",
   "execution_count": 1,
   "metadata": {
    "collapsed": true
   },
   "outputs": [],
   "source": [
    "#-*- coding: utf-8 -*-\n",
    "\n",
    "import numpy as np\n",
    "import pandas as pd\n",
    "from matplotlib import pyplot as plt\n",
    "import seaborn as sns\n",
    "from pandas import DataFrame, Series\n",
    "from sklearn.preprocessing import LabelEncoder\n",
    "\n",
    "%matplotlib inline\n",
    "\n",
    "pd.set_option('display.max_columns', None)\n",
    "pd.set_option('display.max_rows', None)"
   ]
  },
  {
   "cell_type": "code",
   "execution_count": 2,
   "metadata": {
    "collapsed": true
   },
   "outputs": [],
   "source": [
    "phone_brand_device_model = pd.read_csv('data/phone_brand_device_model.csv')\n",
    "gender_age_train = pd.read_csv('data/gender_age_train.csv')\n",
    "label_categories = pd.read_csv('data/label_categories.csv')\n",
    "events = pd.read_csv('data/events.csv')\n",
    "app_labels = pd.read_csv('data/app_labels.csv')\n",
    "app_events = pd.read_csv('data/app_events.csv', dtype = {'event_id' : np.int8, 'app_id' : np.int64, \n",
    "                                                   'is_installed' : np.int8, 'is_active' : np.int8})\n",
    "gender_age_test = pd.read_csv('data/gender_age_test.csv')"
   ]
  },
  {
   "cell_type": "markdown",
   "metadata": {},
   "source": [
    "### TimeStamp Split"
   ]
  },
  {
   "cell_type": "code",
   "execution_count": 3,
   "metadata": {
    "collapsed": true
   },
   "outputs": [],
   "source": [
    "events['timestamp'].replace('-', '', regex = True, inplace = True)\n",
    "events['timestamp'].replace(':', '', regex = True, inplace = True)\n",
    "events['timestamp'].replace(' ', '', regex = True, inplace = True)\n",
    "\n",
    "events['year'] = events['timestamp'].map(lambda x: x[0:4])\n",
    "events['month'] = events['timestamp'].map(lambda x: x[4:6])\n",
    "events['day'] = events['timestamp'].map(lambda x: x[6:8])\n",
    "events['time'] = events['timestamp'].map(lambda x: x[8:10])\n",
    "\n",
    "events.drop(['timestamp'], axis = 1, inplace = True)\n",
    "events.drop(['year'], axis = 1, inplace = True)\n",
    "\n"
   ]
  },
  {
   "cell_type": "markdown",
   "metadata": {},
   "source": [
    "### 명목형 변수 치환"
   ]
  },
  {
   "cell_type": "markdown",
   "metadata": {
    "collapsed": true
   },
   "source": [
    "phone_brand_device_model.phone_brand.fillna(phone_brand_device_model.phone_brand.dropna().max(), inplace = True)\n",
    "phone_brand_device_model.device_model.fillna(phone_brand_device_model.device_model.dropna().max(), inplace = True)"
   ]
  },
  {
   "cell_type": "code",
   "execution_count": 3,
   "metadata": {
    "collapsed": true
   },
   "outputs": [],
   "source": [
    "le_br = LabelEncoder()\n",
    "le_mo = LabelEncoder()\n",
    "\n",
    "\n",
    "phone_brand_device_model['brand'] = le_br.fit_transform(phone_brand_device_model['phone_brand'])\n",
    "phone_brand_device_model['device'] = le_mo.fit_transform(phone_brand_device_model['device_model'])\n",
    "\n",
    "\n",
    "\n",
    "phone_brand_label = phone_brand_device_model.copy()\n",
    "\n",
    "phone_brand_label = phone_brand_label.drop('phone_brand', 1)\n",
    "phone_brand_label = phone_brand_label.drop('device_model', 1)"
   ]
  },
  {
   "cell_type": "code",
   "execution_count": 4,
   "metadata": {
    "collapsed": true
   },
   "outputs": [],
   "source": [
    "#M = 1, F = 0\n",
    "le_gen = LabelEncoder()\n",
    "gender_age_train['M_F'] = le_gen.fit_transform(gender_age_train['gender'])"
   ]
  },
  {
   "cell_type": "code",
   "execution_count": 5,
   "metadata": {
    "collapsed": true
   },
   "outputs": [],
   "source": [
    "#group 치환\n",
    "le_g = LabelEncoder()\n",
    "gender_age_train['group_e'] = le_g.fit_transform(gender_age_train['group'])"
   ]
  },
  {
   "cell_type": "markdown",
   "metadata": {},
   "source": [
    "### Data set 기초자료 (train + test)"
   ]
  },
  {
   "cell_type": "code",
   "execution_count": 6,
   "metadata": {
    "collapsed": true
   },
   "outputs": [],
   "source": [
    "tmp_train = pd.merge(gender_age_train, phone_brand_label, how='inner', on = 'device_id')\n",
    "tmp_test = pd.merge(gender_age_test, phone_brand_label,  how='inner', on = 'device_id')\n",
    "\n",
    "tmp_train = tmp_train.drop_duplicates(subset=['device_id'])\n",
    "\n",
    "tmp_test = tmp_test.drop_duplicates(subset=['device_id'])"
   ]
  },
  {
   "cell_type": "code",
   "execution_count": 9,
   "metadata": {},
   "outputs": [],
   "source": [
    "con = pd.concat([tmp_train, tmp_test])\n",
    "\n",
    "tmp = pd.merge(con, events, how='left', on='device_id')\n",
    "\n",
    "tmp = tmp[['device_id', 'age', 'M_F', 'group_e', 'brand', 'device']]\n",
    "\n",
    "tmp = tmp.drop_duplicates(subset=['device_id'])"
   ]
  },
  {
   "cell_type": "markdown",
   "metadata": {},
   "source": [
    "* 브랜드별 남녀 사용자 수\n",
    "* 브랜드별 사용자 나이 분포\n",
    "* 모델별 남녀 사용자 수\n",
    "* 모델별 사용자 나이 분포\n",
    "* 라벨별 남녀 사용자 수\n",
    "* 라벨별 사용자 나이 분포"
   ]
  },
  {
   "cell_type": "code",
   "execution_count": 104,
   "metadata": {
    "collapsed": true
   },
   "outputs": [],
   "source": [
    "tmp['brand_mf'] = tmp.groupby('brand')['M_F'].apply(lambda x: x/x.sum())\n",
    "\n",
    "tmp = tmp.drop('label_id', 1)\n",
    "\n",
    "tmp = tmp.drop('brand_mf', 1)\n",
    "\n",
    "tmp = tmp.drop_duplicates(subset=['device_id', 'age', 'M_F', 'group_e', 'brand', 'device'], keep='first')"
   ]
  },
  {
   "cell_type": "code",
   "execution_count": null,
   "metadata": {
    "collapsed": true
   },
   "outputs": [],
   "source": []
  },
  {
   "cell_type": "code",
   "execution_count": null,
   "metadata": {
    "collapsed": true
   },
   "outputs": [],
   "source": []
  },
  {
   "cell_type": "code",
   "execution_count": 16,
   "metadata": {
    "collapsed": true
   },
   "outputs": [],
   "source": [
    "brand_mf = pd.DataFrame()\n",
    "brand_mf['count'] = tmp.groupby(['brand', 'M_F'])['M_F'].count()\n",
    "brand_mf = brand_mf.reset_index()\n",
    "\n",
    "brand_sum = brand_mf.groupby('brand')['count'].sum()\n",
    "brand_mf = brand_mf.join(brand_sum, on = 'brand', rsuffix='_')\n",
    "brand_mf['brand_ratio'] = brand_mf['count'] / brand_mf['count_']\n",
    "brand_mf = brand_mf.drop(['count', 'count_'], 1)\n",
    "brand_mf = brand_mf.set_index(['brand', 'M_F'])\n",
    "brand_mf = brand_mf.unstack()"
   ]
  },
  {
   "cell_type": "code",
   "execution_count": 17,
   "metadata": {},
   "outputs": [],
   "source": [
    "device_mf = pd.DataFrame()\n",
    "device_mf['count'] = tmp.groupby(['device', 'M_F'])['M_F'].count()\n",
    "device_mf = device_mf.reset_index()\n",
    "\n",
    "device_sum = device_mf.groupby('device')['count'].sum()\n",
    "device_mf = device_mf.join(device_sum, on = 'device', rsuffix='_')\n",
    "device_mf['device_ratio'] = device_mf['count'] / device_mf['count_']\n",
    "device_mf = device_mf.drop(['count', 'count_'], 1)\n",
    "device_mf = device_mf.set_index(['device', 'M_F'])\n",
    "device_mf = device_mf.unstack()"
   ]
  },
  {
   "cell_type": "markdown",
   "metadata": {},
   "source": [
    "### label은 못씀. 편향되어 있음"
   ]
  },
  {
   "cell_type": "markdown",
   "metadata": {},
   "source": [
    "label_id_mf = pd.DataFrame()\n",
    "label_id_mf['count'] = tmp.groupby(['label_id', 'M_F'])['M_F'].count()\n",
    "\n",
    "label_id_mf = label_id_mf.reset_index()\n",
    "\n",
    "label_id_sum = label_id_mf.groupby('label_id')['count'].sum()\n",
    "label_id_mf = label_id_mf.join(label_id_sum, on = 'label_id', rsuffix='_')\n",
    "label_id_mf['label_id_ratio'] = label_id_mf['count'] / label_id_mf['count_']\n",
    "label_id_mf = label_id_mf.drop(['count', 'count_'], 1)\n",
    "label_id_mf = label_id_mf.set_index(['label_id', 'M_F'])\n",
    "label_id_mf = label_id_mf.unstack()"
   ]
  },
  {
   "cell_type": "code",
   "execution_count": null,
   "metadata": {
    "collapsed": true
   },
   "outputs": [],
   "source": []
  },
  {
   "cell_type": "code",
   "execution_count": 18,
   "metadata": {
    "collapsed": true
   },
   "outputs": [],
   "source": [
    "brand_g = pd.DataFrame()\n",
    "brand_g['count'] = tmp.groupby(['brand', 'group_e'])['group_e'].count()\n",
    "brand_g = brand_g.reset_index()\n",
    "\n",
    "brand_sum = brand_g.groupby('brand')['count'].sum()\n",
    "brand_g = brand_g.join(brand_sum, on = 'brand', rsuffix='_')\n",
    "brand_g['bran_g_ratio'] = brand_g['count'] / brand_g['count_']\n",
    "brand_g = brand_g.drop(['count', 'count_'], 1)\n",
    "brand_g = brand_g.set_index(['brand', 'group_e'])\n",
    "brand_g = brand_g.unstack()"
   ]
  },
  {
   "cell_type": "code",
   "execution_count": 19,
   "metadata": {
    "collapsed": true
   },
   "outputs": [],
   "source": [
    "device_g = pd.DataFrame()\n",
    "device_g['count'] = tmp.groupby(['device', 'group_e'])['group_e'].count()\n",
    "device_g = device_g.reset_index()\n",
    "\n",
    "device_sum = device_g.groupby('device')['count'].sum()\n",
    "device_g = device_g.join(device_sum, on = 'device', rsuffix='_')\n",
    "device_g['devi_g_ratio'] = device_g['count'] / device_g['count_']\n",
    "device_g = device_g.drop(['count', 'count_'], 1)\n",
    "device_g = device_g.set_index(['device', 'group_e'])\n",
    "device_g = device_g.unstack()"
   ]
  },
  {
   "cell_type": "code",
   "execution_count": 20,
   "metadata": {
    "collapsed": true
   },
   "outputs": [],
   "source": [
    "brand_mf = brand_mf.reset_index()\n",
    "device_mf = device_mf.reset_index()\n",
    "brand_g = brand_g.reset_index()\n",
    "device_g = device_g.reset_index()"
   ]
  },
  {
   "cell_type": "code",
   "execution_count": 22,
   "metadata": {
    "scrolled": false
   },
   "outputs": [
    {
     "name": "stderr",
     "output_type": "stream",
     "text": [
      "C:\\Python36\\lib\\site-packages\\pandas\\core\\reshape\\merge.py:551: UserWarning: merging between different levels can give an unintended result (1 levels on the left, 2 on the right)\n",
      "  warnings.warn(msg, UserWarning)\n",
      "C:\\Python36\\lib\\site-packages\\pandas\\core\\reshape\\merge.py:862: PerformanceWarning: dropping on a non-lexsorted multi-index without a level parameter may impact performance.\n",
      "  self.right = self.right.drop(right_drop, axis=1)\n"
     ]
    }
   ],
   "source": [
    "tmp = pd.merge(tmp, brand_mf, how='left', on='brand')\n",
    "tmp = pd.merge(tmp, device_mf, how='left', on='device')\n",
    "tmp = pd.merge(tmp, brand_g, how='left', on='brand')\n",
    "tmp = pd.merge(tmp, device_g, how='left', on='device')"
   ]
  },
  {
   "cell_type": "code",
   "execution_count": 24,
   "metadata": {
    "collapsed": true
   },
   "outputs": [],
   "source": [
    "tmp = tmp.drop(['brand_x', 'device_x'], 1)"
   ]
  },
  {
   "cell_type": "code",
   "execution_count": 25,
   "metadata": {},
   "outputs": [
    {
     "data": {
      "text/html": [
       "<div>\n",
       "<style>\n",
       "    .dataframe thead tr:only-child th {\n",
       "        text-align: right;\n",
       "    }\n",
       "\n",
       "    .dataframe thead th {\n",
       "        text-align: left;\n",
       "    }\n",
       "\n",
       "    .dataframe tbody tr th {\n",
       "        vertical-align: top;\n",
       "    }\n",
       "</style>\n",
       "<table border=\"1\" class=\"dataframe\">\n",
       "  <thead>\n",
       "    <tr style=\"text-align: right;\">\n",
       "      <th></th>\n",
       "      <th>device</th>\n",
       "      <th>brand</th>\n",
       "      <th>device_id</th>\n",
       "      <th>age</th>\n",
       "      <th>M_F</th>\n",
       "      <th>group_e</th>\n",
       "      <th>('brand_ratio', 0.0)_x</th>\n",
       "      <th>('brand_ratio', 1.0)_x</th>\n",
       "      <th>('device_ratio', 0.0)_x</th>\n",
       "      <th>('device_ratio', 1.0)_x</th>\n",
       "      <th>(brand_ratio_y, 0.0)</th>\n",
       "      <th>(brand_ratio_y, 1.0)</th>\n",
       "      <th>(brand_ratio_y, 2.0)</th>\n",
       "      <th>(brand_ratio_y, 3.0)</th>\n",
       "      <th>(brand_ratio_y, 4.0)</th>\n",
       "      <th>(brand_ratio_y, 5.0)</th>\n",
       "      <th>(brand_ratio_y, 6.0)</th>\n",
       "      <th>(brand_ratio_y, 7.0)</th>\n",
       "      <th>(brand_ratio_y, 8.0)</th>\n",
       "      <th>(brand_ratio_y, 9.0)</th>\n",
       "      <th>(brand_ratio_y, 10.0)</th>\n",
       "      <th>(brand_ratio_y, 11.0)</th>\n",
       "      <th>(device_ratio_y, 0.0)</th>\n",
       "      <th>(device_ratio_y, 1.0)</th>\n",
       "      <th>(device_ratio_y, 2.0)</th>\n",
       "      <th>(device_ratio_y, 3.0)</th>\n",
       "      <th>(device_ratio_y, 4.0)</th>\n",
       "      <th>(device_ratio_y, 5.0)</th>\n",
       "      <th>(device_ratio_y, 6.0)</th>\n",
       "      <th>(device_ratio_y, 7.0)</th>\n",
       "      <th>(device_ratio_y, 8.0)</th>\n",
       "      <th>(device_ratio_y, 9.0)</th>\n",
       "      <th>(device_ratio_y, 10.0)</th>\n",
       "      <th>(device_ratio_y, 11.0)</th>\n",
       "    </tr>\n",
       "  </thead>\n",
       "  <tbody>\n",
       "    <tr>\n",
       "      <th>0</th>\n",
       "      <td>749</td>\n",
       "      <td>51</td>\n",
       "      <td>-8076087639492063270</td>\n",
       "      <td>35.0</td>\n",
       "      <td>1.0</td>\n",
       "      <td>10.0</td>\n",
       "      <td>0.342101</td>\n",
       "      <td>0.657899</td>\n",
       "      <td>0.293542</td>\n",
       "      <td>0.706458</td>\n",
       "      <td>0.05457</td>\n",
       "      <td>0.056651</td>\n",
       "      <td>0.046014</td>\n",
       "      <td>0.063356</td>\n",
       "      <td>0.06775</td>\n",
       "      <td>0.05376</td>\n",
       "      <td>0.111278</td>\n",
       "      <td>0.140817</td>\n",
       "      <td>0.079427</td>\n",
       "      <td>0.10174</td>\n",
       "      <td>0.123938</td>\n",
       "      <td>0.100699</td>\n",
       "      <td>0.031311</td>\n",
       "      <td>0.076321</td>\n",
       "      <td>0.039139</td>\n",
       "      <td>0.064579</td>\n",
       "      <td>0.046967</td>\n",
       "      <td>0.035225</td>\n",
       "      <td>0.060665</td>\n",
       "      <td>0.170254</td>\n",
       "      <td>0.113503</td>\n",
       "      <td>0.107632</td>\n",
       "      <td>0.154599</td>\n",
       "      <td>0.099804</td>\n",
       "    </tr>\n",
       "    <tr>\n",
       "      <th>1</th>\n",
       "      <td>749</td>\n",
       "      <td>51</td>\n",
       "      <td>-2897161552818060146</td>\n",
       "      <td>35.0</td>\n",
       "      <td>1.0</td>\n",
       "      <td>10.0</td>\n",
       "      <td>0.342101</td>\n",
       "      <td>0.657899</td>\n",
       "      <td>0.293542</td>\n",
       "      <td>0.706458</td>\n",
       "      <td>0.05457</td>\n",
       "      <td>0.056651</td>\n",
       "      <td>0.046014</td>\n",
       "      <td>0.063356</td>\n",
       "      <td>0.06775</td>\n",
       "      <td>0.05376</td>\n",
       "      <td>0.111278</td>\n",
       "      <td>0.140817</td>\n",
       "      <td>0.079427</td>\n",
       "      <td>0.10174</td>\n",
       "      <td>0.123938</td>\n",
       "      <td>0.100699</td>\n",
       "      <td>0.031311</td>\n",
       "      <td>0.076321</td>\n",
       "      <td>0.039139</td>\n",
       "      <td>0.064579</td>\n",
       "      <td>0.046967</td>\n",
       "      <td>0.035225</td>\n",
       "      <td>0.060665</td>\n",
       "      <td>0.170254</td>\n",
       "      <td>0.113503</td>\n",
       "      <td>0.107632</td>\n",
       "      <td>0.154599</td>\n",
       "      <td>0.099804</td>\n",
       "    </tr>\n",
       "    <tr>\n",
       "      <th>2</th>\n",
       "      <td>749</td>\n",
       "      <td>51</td>\n",
       "      <td>-8260683887967679142</td>\n",
       "      <td>35.0</td>\n",
       "      <td>1.0</td>\n",
       "      <td>10.0</td>\n",
       "      <td>0.342101</td>\n",
       "      <td>0.657899</td>\n",
       "      <td>0.293542</td>\n",
       "      <td>0.706458</td>\n",
       "      <td>0.05457</td>\n",
       "      <td>0.056651</td>\n",
       "      <td>0.046014</td>\n",
       "      <td>0.063356</td>\n",
       "      <td>0.06775</td>\n",
       "      <td>0.05376</td>\n",
       "      <td>0.111278</td>\n",
       "      <td>0.140817</td>\n",
       "      <td>0.079427</td>\n",
       "      <td>0.10174</td>\n",
       "      <td>0.123938</td>\n",
       "      <td>0.100699</td>\n",
       "      <td>0.031311</td>\n",
       "      <td>0.076321</td>\n",
       "      <td>0.039139</td>\n",
       "      <td>0.064579</td>\n",
       "      <td>0.046967</td>\n",
       "      <td>0.035225</td>\n",
       "      <td>0.060665</td>\n",
       "      <td>0.170254</td>\n",
       "      <td>0.113503</td>\n",
       "      <td>0.107632</td>\n",
       "      <td>0.154599</td>\n",
       "      <td>0.099804</td>\n",
       "    </tr>\n",
       "    <tr>\n",
       "      <th>3</th>\n",
       "      <td>1524</td>\n",
       "      <td>51</td>\n",
       "      <td>-4938849341048082022</td>\n",
       "      <td>30.0</td>\n",
       "      <td>1.0</td>\n",
       "      <td>9.0</td>\n",
       "      <td>0.342101</td>\n",
       "      <td>0.657899</td>\n",
       "      <td>0.377697</td>\n",
       "      <td>0.622303</td>\n",
       "      <td>0.05457</td>\n",
       "      <td>0.056651</td>\n",
       "      <td>0.046014</td>\n",
       "      <td>0.063356</td>\n",
       "      <td>0.06775</td>\n",
       "      <td>0.05376</td>\n",
       "      <td>0.111278</td>\n",
       "      <td>0.140817</td>\n",
       "      <td>0.079427</td>\n",
       "      <td>0.10174</td>\n",
       "      <td>0.123938</td>\n",
       "      <td>0.100699</td>\n",
       "      <td>0.056754</td>\n",
       "      <td>0.057418</td>\n",
       "      <td>0.041487</td>\n",
       "      <td>0.066379</td>\n",
       "      <td>0.086293</td>\n",
       "      <td>0.069366</td>\n",
       "      <td>0.086625</td>\n",
       "      <td>0.110853</td>\n",
       "      <td>0.071689</td>\n",
       "      <td>0.100232</td>\n",
       "      <td>0.130767</td>\n",
       "      <td>0.122137</td>\n",
       "    </tr>\n",
       "    <tr>\n",
       "      <th>4</th>\n",
       "      <td>753</td>\n",
       "      <td>51</td>\n",
       "      <td>245133531816851882</td>\n",
       "      <td>30.0</td>\n",
       "      <td>1.0</td>\n",
       "      <td>9.0</td>\n",
       "      <td>0.342101</td>\n",
       "      <td>0.657899</td>\n",
       "      <td>0.377120</td>\n",
       "      <td>0.622880</td>\n",
       "      <td>0.05457</td>\n",
       "      <td>0.056651</td>\n",
       "      <td>0.046014</td>\n",
       "      <td>0.063356</td>\n",
       "      <td>0.06775</td>\n",
       "      <td>0.05376</td>\n",
       "      <td>0.111278</td>\n",
       "      <td>0.140817</td>\n",
       "      <td>0.079427</td>\n",
       "      <td>0.10174</td>\n",
       "      <td>0.123938</td>\n",
       "      <td>0.100699</td>\n",
       "      <td>0.066551</td>\n",
       "      <td>0.074815</td>\n",
       "      <td>0.053502</td>\n",
       "      <td>0.061766</td>\n",
       "      <td>0.076120</td>\n",
       "      <td>0.044367</td>\n",
       "      <td>0.123967</td>\n",
       "      <td>0.134841</td>\n",
       "      <td>0.076990</td>\n",
       "      <td>0.099174</td>\n",
       "      <td>0.096564</td>\n",
       "      <td>0.091344</td>\n",
       "    </tr>\n",
       "  </tbody>\n",
       "</table>\n",
       "</div>"
      ],
      "text/plain": [
       "   device  brand            device_id   age  M_F  group_e  \\\n",
       "0     749     51 -8076087639492063270  35.0  1.0     10.0   \n",
       "1     749     51 -2897161552818060146  35.0  1.0     10.0   \n",
       "2     749     51 -8260683887967679142  35.0  1.0     10.0   \n",
       "3    1524     51 -4938849341048082022  30.0  1.0      9.0   \n",
       "4     753     51   245133531816851882  30.0  1.0      9.0   \n",
       "\n",
       "   ('brand_ratio', 0.0)_x  ('brand_ratio', 1.0)_x  ('device_ratio', 0.0)_x  \\\n",
       "0                0.342101                0.657899                 0.293542   \n",
       "1                0.342101                0.657899                 0.293542   \n",
       "2                0.342101                0.657899                 0.293542   \n",
       "3                0.342101                0.657899                 0.377697   \n",
       "4                0.342101                0.657899                 0.377120   \n",
       "\n",
       "   ('device_ratio', 1.0)_x  (brand_ratio_y, 0.0)  (brand_ratio_y, 1.0)  \\\n",
       "0                 0.706458               0.05457              0.056651   \n",
       "1                 0.706458               0.05457              0.056651   \n",
       "2                 0.706458               0.05457              0.056651   \n",
       "3                 0.622303               0.05457              0.056651   \n",
       "4                 0.622880               0.05457              0.056651   \n",
       "\n",
       "   (brand_ratio_y, 2.0)  (brand_ratio_y, 3.0)  (brand_ratio_y, 4.0)  \\\n",
       "0              0.046014              0.063356               0.06775   \n",
       "1              0.046014              0.063356               0.06775   \n",
       "2              0.046014              0.063356               0.06775   \n",
       "3              0.046014              0.063356               0.06775   \n",
       "4              0.046014              0.063356               0.06775   \n",
       "\n",
       "   (brand_ratio_y, 5.0)  (brand_ratio_y, 6.0)  (brand_ratio_y, 7.0)  \\\n",
       "0               0.05376              0.111278              0.140817   \n",
       "1               0.05376              0.111278              0.140817   \n",
       "2               0.05376              0.111278              0.140817   \n",
       "3               0.05376              0.111278              0.140817   \n",
       "4               0.05376              0.111278              0.140817   \n",
       "\n",
       "   (brand_ratio_y, 8.0)  (brand_ratio_y, 9.0)  (brand_ratio_y, 10.0)  \\\n",
       "0              0.079427               0.10174               0.123938   \n",
       "1              0.079427               0.10174               0.123938   \n",
       "2              0.079427               0.10174               0.123938   \n",
       "3              0.079427               0.10174               0.123938   \n",
       "4              0.079427               0.10174               0.123938   \n",
       "\n",
       "   (brand_ratio_y, 11.0)  (device_ratio_y, 0.0)  (device_ratio_y, 1.0)  \\\n",
       "0               0.100699               0.031311               0.076321   \n",
       "1               0.100699               0.031311               0.076321   \n",
       "2               0.100699               0.031311               0.076321   \n",
       "3               0.100699               0.056754               0.057418   \n",
       "4               0.100699               0.066551               0.074815   \n",
       "\n",
       "   (device_ratio_y, 2.0)  (device_ratio_y, 3.0)  (device_ratio_y, 4.0)  \\\n",
       "0               0.039139               0.064579               0.046967   \n",
       "1               0.039139               0.064579               0.046967   \n",
       "2               0.039139               0.064579               0.046967   \n",
       "3               0.041487               0.066379               0.086293   \n",
       "4               0.053502               0.061766               0.076120   \n",
       "\n",
       "   (device_ratio_y, 5.0)  (device_ratio_y, 6.0)  (device_ratio_y, 7.0)  \\\n",
       "0               0.035225               0.060665               0.170254   \n",
       "1               0.035225               0.060665               0.170254   \n",
       "2               0.035225               0.060665               0.170254   \n",
       "3               0.069366               0.086625               0.110853   \n",
       "4               0.044367               0.123967               0.134841   \n",
       "\n",
       "   (device_ratio_y, 8.0)  (device_ratio_y, 9.0)  (device_ratio_y, 10.0)  \\\n",
       "0               0.113503               0.107632                0.154599   \n",
       "1               0.113503               0.107632                0.154599   \n",
       "2               0.113503               0.107632                0.154599   \n",
       "3               0.071689               0.100232                0.130767   \n",
       "4               0.076990               0.099174                0.096564   \n",
       "\n",
       "   (device_ratio_y, 11.0)  \n",
       "0                0.099804  \n",
       "1                0.099804  \n",
       "2                0.099804  \n",
       "3                0.122137  \n",
       "4                0.091344  "
      ]
     },
     "execution_count": 25,
     "metadata": {},
     "output_type": "execute_result"
    }
   ],
   "source": [
    "tmp.head()"
   ]
  },
  {
   "cell_type": "code",
   "execution_count": null,
   "metadata": {
    "collapsed": true
   },
   "outputs": [],
   "source": []
  },
  {
   "cell_type": "markdown",
   "metadata": {
    "collapsed": true
   },
   "source": [
    "# train / test 분리"
   ]
  },
  {
   "cell_type": "markdown",
   "metadata": {},
   "source": []
  },
  {
   "cell_type": "code",
   "execution_count": 26,
   "metadata": {},
   "outputs": [],
   "source": [
    "train = pd.merge(tmp, gender_age_train, on = 'device_id')\n",
    "test = pd.merge(tmp, gender_age_test, on = 'device_id')"
   ]
  },
  {
   "cell_type": "code",
   "execution_count": 28,
   "metadata": {
    "collapsed": true
   },
   "outputs": [],
   "source": [
    "X = train.copy()\n",
    "\n",
    "y = train.group_e_x\n",
    "\n",
    "X = X.drop(['device_id', 'age_x','M_F_x', 'gender', 'age_y', 'group', 'M_F_y', 'group_e_y', 'group_e_x'], 1)\n",
    "\n",
    "test_e = test.drop(['device_id', 'age', 'M_F', 'group_e'], 1)"
   ]
  },
  {
   "cell_type": "code",
   "execution_count": 39,
   "metadata": {},
   "outputs": [],
   "source": [
    "X = X.fillna(X.mean())"
   ]
  },
  {
   "cell_type": "code",
   "execution_count": 40,
   "metadata": {},
   "outputs": [],
   "source": [
    "test_e = test_e.fillna(test_e.mean())"
   ]
  },
  {
   "cell_type": "markdown",
   "metadata": {},
   "source": [
    "## train_test_split"
   ]
  },
  {
   "cell_type": "code",
   "execution_count": 30,
   "metadata": {
    "collapsed": true
   },
   "outputs": [],
   "source": [
    "from sklearn.model_selection import train_test_split"
   ]
  },
  {
   "cell_type": "code",
   "execution_count": 41,
   "metadata": {
    "collapsed": true
   },
   "outputs": [],
   "source": [
    "X_train, X_test, y_train, y_test = train_test_split(X, y, random_state = 1)"
   ]
  },
  {
   "cell_type": "markdown",
   "metadata": {},
   "source": [
    "# Random Forest"
   ]
  },
  {
   "cell_type": "code",
   "execution_count": 32,
   "metadata": {
    "collapsed": true
   },
   "outputs": [],
   "source": [
    "from sklearn.ensemble import RandomForestClassifier\n",
    "\n",
    "from matplotlib import pyplot as plt"
   ]
  },
  {
   "cell_type": "code",
   "execution_count": 33,
   "metadata": {
    "collapsed": true
   },
   "outputs": [],
   "source": [
    "forest = RandomForestClassifier(criterion = 'gini', n_estimators = 10, random_state = 1, n_jobs = -1)"
   ]
  },
  {
   "cell_type": "code",
   "execution_count": 34,
   "metadata": {
    "collapsed": true
   },
   "outputs": [],
   "source": [
    "# y_train이 2D로 되어 있어서 변경\n",
    "y_train = list(y_train.values)"
   ]
  },
  {
   "cell_type": "code",
   "execution_count": 42,
   "metadata": {},
   "outputs": [
    {
     "data": {
      "text/plain": [
       "RandomForestClassifier(bootstrap=True, class_weight=None, criterion='gini',\n",
       "            max_depth=None, max_features='auto', max_leaf_nodes=None,\n",
       "            min_impurity_split=1e-07, min_samples_leaf=1,\n",
       "            min_samples_split=2, min_weight_fraction_leaf=0.0,\n",
       "            n_estimators=10, n_jobs=-1, oob_score=False, random_state=1,\n",
       "            verbose=0, warm_start=False)"
      ]
     },
     "execution_count": 42,
     "metadata": {},
     "output_type": "execute_result"
    }
   ],
   "source": [
    "forest.fit(X_train, y_train)"
   ]
  },
  {
   "cell_type": "code",
   "execution_count": 43,
   "metadata": {
    "collapsed": true
   },
   "outputs": [],
   "source": [
    "importance = forest.feature_importances_"
   ]
  },
  {
   "cell_type": "code",
   "execution_count": 44,
   "metadata": {
    "collapsed": true
   },
   "outputs": [],
   "source": [
    "featurename = X.columns"
   ]
  },
  {
   "cell_type": "code",
   "execution_count": 45,
   "metadata": {
    "scrolled": false
   },
   "outputs": [
    {
     "data": {
      "text/plain": [
       "<matplotlib.axes._subplots.AxesSubplot at 0x1a62583a860>"
      ]
     },
     "execution_count": 45,
     "metadata": {},
     "output_type": "execute_result"
    },
    {
     "data": {
      "image/png": "[encoded data removed]",
      "text/plain": [
       "<matplotlib.figure.Figure at 0x1a60f265320>"
      ]
     },
     "metadata": {},
     "output_type": "display_data"
    }
   ],
   "source": [
    "pd.Series(importance, index = featurename).plot(kind='bar', figsize=(16,6))"
   ]
  },
  {
   "cell_type": "code",
   "execution_count": null,
   "metadata": {
    "collapsed": true
   },
   "outputs": [],
   "source": []
  },
  {
   "cell_type": "markdown",
   "metadata": {
    "collapsed": true
   },
   "source": [
    "# XGBoost"
   ]
  },
  {
   "cell_type": "code",
   "execution_count": 61,
   "metadata": {
    "collapsed": true
   },
   "outputs": [],
   "source": [
    "import xgboost as xgb"
   ]
  },
  {
   "cell_type": "code",
   "execution_count": 63,
   "metadata": {
    "collapsed": true
   },
   "outputs": [],
   "source": [
    "dtrain = xgb.DMatrix(X_train, y_train)\n",
    "dtest = xgb.DMatrix(X_test, y_test)"
   ]
  },
  {
   "cell_type": "code",
   "execution_count": 64,
   "metadata": {},
   "outputs": [],
   "source": [
    "params = {\n",
    "    'objective' : 'multi:softprob',\n",
    "    'num_class' : 12,\n",
    "    'booster' : 'gblinear',\n",
    "    'max_depth' : 10,\n",
    "    'eval_metric' : 'mlogloss',\n",
    "    'eta' : 0.07,\n",
    "    'silent' : 1,\n",
    "    'alpha' : 3\n",
    "}\n",
    "\n",
    "watchlist = [(dtrain, 'train'), (dtest, 'test')]\n"
   ]
  },
  {
   "cell_type": "code",
   "execution_count": 67,
   "metadata": {
    "scrolled": true
   },
   "outputs": [
    {
     "name": "stdout",
     "output_type": "stream",
     "text": [
      "[0]\ttrain-mlogloss:2.44092\ttest-mlogloss:2.441\n",
      "Multiple eval metrics have been passed: 'test-mlogloss' will be used for early stopping.\n",
      "\n",
      "Will train until test-mlogloss hasn't improved in 25 rounds.\n",
      "[1]\ttrain-mlogloss:2.42602\ttest-mlogloss:2.42608\n",
      "[2]\ttrain-mlogloss:2.41895\ttest-mlogloss:2.41898\n",
      "[3]\ttrain-mlogloss:2.41436\ttest-mlogloss:2.41435\n",
      "[4]\ttrain-mlogloss:2.41067\ttest-mlogloss:2.41063\n",
      "[5]\ttrain-mlogloss:2.40739\ttest-mlogloss:2.40732\n",
      "[6]\ttrain-mlogloss:2.40431\ttest-mlogloss:2.40422\n",
      "[7]\ttrain-mlogloss:2.40141\ttest-mlogloss:2.4013\n",
      "[8]\ttrain-mlogloss:2.39866\ttest-mlogloss:2.39854\n",
      "[9]\ttrain-mlogloss:2.39604\ttest-mlogloss:2.3959\n",
      "[10]\ttrain-mlogloss:2.39354\ttest-mlogloss:2.39339\n",
      "[11]\ttrain-mlogloss:2.39116\ttest-mlogloss:2.391\n",
      "[12]\ttrain-mlogloss:2.3889\ttest-mlogloss:2.38872\n",
      "[13]\ttrain-mlogloss:2.38673\ttest-mlogloss:2.38655\n",
      "[14]\ttrain-mlogloss:2.38467\ttest-mlogloss:2.38447\n",
      "[15]\ttrain-mlogloss:2.38269\ttest-mlogloss:2.38249\n",
      "[16]\ttrain-mlogloss:2.38081\ttest-mlogloss:2.38059\n",
      "[17]\ttrain-mlogloss:2.379\ttest-mlogloss:2.37878\n",
      "[18]\ttrain-mlogloss:2.37728\ttest-mlogloss:2.37704\n",
      "[19]\ttrain-mlogloss:2.37562\ttest-mlogloss:2.37538\n",
      "[20]\ttrain-mlogloss:2.37404\ttest-mlogloss:2.37379\n",
      "[21]\ttrain-mlogloss:2.37252\ttest-mlogloss:2.37226\n",
      "[22]\ttrain-mlogloss:2.37106\ttest-mlogloss:2.3708\n",
      "[23]\ttrain-mlogloss:2.36966\ttest-mlogloss:2.36939\n",
      "[24]\ttrain-mlogloss:2.36831\ttest-mlogloss:2.36804\n",
      "[25]\ttrain-mlogloss:2.36702\ttest-mlogloss:2.36673\n",
      "[26]\ttrain-mlogloss:2.36577\ttest-mlogloss:2.36548\n",
      "[27]\ttrain-mlogloss:2.36457\ttest-mlogloss:2.36428\n",
      "[28]\ttrain-mlogloss:2.36342\ttest-mlogloss:2.36312\n",
      "[29]\ttrain-mlogloss:2.3623\ttest-mlogloss:2.362\n",
      "[30]\ttrain-mlogloss:2.36123\ttest-mlogloss:2.36092\n",
      "[31]\ttrain-mlogloss:2.36019\ttest-mlogloss:2.35988\n",
      "[32]\ttrain-mlogloss:2.35919\ttest-mlogloss:2.35887\n",
      "[33]\ttrain-mlogloss:2.35822\ttest-mlogloss:2.3579\n",
      "[34]\ttrain-mlogloss:2.35729\ttest-mlogloss:2.35696\n",
      "[35]\ttrain-mlogloss:2.35638\ttest-mlogloss:2.35604\n",
      "[36]\ttrain-mlogloss:2.35551\ttest-mlogloss:2.35517\n",
      "[37]\ttrain-mlogloss:2.35466\ttest-mlogloss:2.35431\n",
      "[38]\ttrain-mlogloss:2.35384\ttest-mlogloss:2.35349\n",
      "[39]\ttrain-mlogloss:2.35304\ttest-mlogloss:2.35269\n"
     ]
    }
   ],
   "source": [
    "gbm = xgb.train(params, dtrain, 40, evals = watchlist, early_stopping_rounds=25, verbose_eval=True)"
   ]
  },
  {
   "cell_type": "code",
   "execution_count": 68,
   "metadata": {
    "collapsed": true
   },
   "outputs": [],
   "source": [
    "y_pred = gbm.predict(xgb.DMatrix(test_e))"
   ]
  },
  {
   "cell_type": "code",
   "execution_count": 69,
   "metadata": {
    "collapsed": true
   },
   "outputs": [],
   "source": [
    "result = pd.DataFrame(y_pred, columns = le_g.classes_)\n",
    "result['device_id'] = device_id\n",
    "result = result.set_index('device_id')\n",
    "result.to_csv('xg_sun.csv')"
   ]
  }
 ],
 "metadata": {
  "kernelspec": {
   "display_name": "Python 3",
   "language": "python",
   "name": "python3"
  },
  "language_info": {
   "codemirror_mode": {
    "name": "ipython",
    "version": 3
   },
   "file_extension": ".py",
   "mimetype": "text/x-python",
   "name": "python",
   "nbconvert_exporter": "python",
   "pygments_lexer": "ipython3",
   "version": "3.6.2rc1"
  }
 },
 "nbformat": 4,
 "nbformat_minor": 2
}
