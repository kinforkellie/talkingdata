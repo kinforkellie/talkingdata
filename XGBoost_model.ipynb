{
 "cells": [
  {
   "cell_type": "code",
   "execution_count": 10,
   "metadata": {
    "collapsed": true
   },
   "outputs": [],
   "source": [
    "#-*- coding: utf-8 -*-\n",
    "\n",
    "import numpy as np\n",
    "import pandas as pd\n",
    "from matplotlib import pyplot as plt\n",
    "import seaborn as sns\n",
    "from pandas import DataFrame, Series\n",
    "from sklearn.preprocessing import LabelEncoder\n",
    "\n",
    "%matplotlib inline\n",
    "\n",
    "pd.set_option('display.max_columns', None)\n",
    "pd.set_option('display.max_rows', None)"
   ]
  },
  {
   "cell_type": "code",
   "execution_count": 11,
   "metadata": {
    "collapsed": true
   },
   "outputs": [],
   "source": [
    "phone_brand_device_model = pd.read_csv('data/phone_brand_device_model.csv')\n",
    "gender_age_train = pd.read_csv('data/gender_age_train.csv')\n",
    "label_categories = pd.read_csv('data/label_categories.csv')\n",
    "events = pd.read_csv('data/events.csv')\n",
    "app_labels = pd.read_csv('data/app_labels.csv')\n",
    "app_events = pd.read_csv('data/app_events.csv', dtype = {'event_id' : np.int8, 'app_id' : np.int64, \n",
    "                                                   'is_installed' : np.int8, 'is_active' : np.int8})\n",
    "gender_age_test = pd.read_csv('data/gender_age_test.csv')"
   ]
  },
  {
   "cell_type": "markdown",
   "metadata": {},
   "source": [
    "### 명목형 변수 치환"
   ]
  },
  {
   "cell_type": "code",
   "execution_count": 12,
   "metadata": {
    "collapsed": true
   },
   "outputs": [],
   "source": [
    "le_br = LabelEncoder()\n",
    "le_mo = LabelEncoder()\n",
    "\n",
    "\n",
    "phone_brand_device_model['brand'] = le_br.fit_transform(phone_brand_device_model['phone_brand'])\n",
    "phone_brand_device_model['device'] = le_mo.fit_transform(phone_brand_device_model['device_model'])\n",
    "\n",
    "\n",
    "\n",
    "phone_brand_label = phone_brand_device_model.copy()\n",
    "\n",
    "phone_brand_label = phone_brand_label.drop('phone_brand', 1)\n",
    "phone_brand_label = phone_brand_label.drop('device_model', 1)\n",
    "\n",
    "#M = 1, F = 0\n",
    "le_gen = LabelEncoder()\n",
    "gender_age_train['M_F'] = le_gen.fit_transform(gender_age_train['gender'])\n",
    "\n",
    "#group 치환\n",
    "le_g = LabelEncoder()\n",
    "gender_age_train['group_e'] = le_g.fit_transform(gender_age_train['group'])\n",
    "\n",
    "# evnet_id 에서 minus값 제거, memory 사용량 줄이기\n",
    "\n",
    "app_events = app_events[(app_events.event_id > 0)]\n"
   ]
  },
  {
   "cell_type": "markdown",
   "metadata": {},
   "source": [
    "### Data set 기초자료 (train + test)"
   ]
  },
  {
   "cell_type": "code",
   "execution_count": 16,
   "metadata": {
    "collapsed": true
   },
   "outputs": [],
   "source": [
    "tmp_train = pd.merge(gender_age_train, phone_brand_label, how='inner', on = 'device_id')\n",
    "tmp_test = pd.merge(gender_age_test, phone_brand_label,  how='inner', on = 'device_id')\n",
    "\n",
    "tmp_train = tmp_train.drop_duplicates(subset=['device_id'])\n",
    "tmp_test = tmp_test.drop_duplicates(subset=['device_id'])\n",
    "\n",
    "con = pd.concat([tmp_train, tmp_test])\n",
    "\n",
    "tmp = pd.merge(con, events, how='left', on='device_id')\n",
    "\n",
    "tmp = tmp[['device_id', 'age', 'M_F', 'group_e', 'brand', 'device']]"
   ]
  },
  {
   "cell_type": "code",
   "execution_count": 19,
   "metadata": {
    "collapsed": true
   },
   "outputs": [],
   "source": [
    "brand_mf = pd.DataFrame()\n",
    "brand_mf['count'] = tmp.groupby(['brand', 'M_F'])['M_F'].count()\n",
    "brand_mf = brand_mf.reset_index()\n",
    "\n",
    "brand_sum = brand_mf.groupby('brand')['count'].sum()\n",
    "brand_mf = brand_mf.join(brand_sum, on = 'brand', rsuffix='_')\n",
    "brand_mf['brand_ratio'] = brand_mf['count'] / brand_mf['count_']\n",
    "brand_mf = brand_mf.drop(['count', 'count_'], 1)\n",
    "brand_mf = brand_mf.set_index(['brand', 'M_F'])\n",
    "brand_mf = brand_mf.unstack()"
   ]
  },
  {
   "cell_type": "code",
   "execution_count": 20,
   "metadata": {
    "collapsed": true
   },
   "outputs": [],
   "source": [
    "device_mf = pd.DataFrame()\n",
    "device_mf['count'] = tmp.groupby(['device', 'M_F'])['M_F'].count()\n",
    "device_mf = device_mf.reset_index()\n",
    "\n",
    "device_sum = device_mf.groupby('device')['count'].sum()\n",
    "device_mf = device_mf.join(device_sum, on = 'device', rsuffix='_')\n",
    "device_mf['device_ratio'] = device_mf['count'] / device_mf['count_']\n",
    "device_mf = device_mf.drop(['count', 'count_'], 1)\n",
    "device_mf = device_mf.set_index(['device', 'M_F'])\n",
    "device_mf = device_mf.unstack()"
   ]
  },
  {
   "cell_type": "code",
   "execution_count": 21,
   "metadata": {
    "collapsed": true
   },
   "outputs": [],
   "source": [
    "brand_g = pd.DataFrame()\n",
    "brand_g['count'] = tmp.groupby(['brand', 'group_e'])['group_e'].count()\n",
    "brand_g = brand_g.reset_index()\n",
    "\n",
    "brand_sum = brand_g.groupby('brand')['count'].sum()\n",
    "brand_g = brand_g.join(brand_sum, on = 'brand', rsuffix='_')\n",
    "brand_g['bran_g_ratio'] = brand_g['count'] / brand_g['count_']\n",
    "brand_g = brand_g.drop(['count', 'count_'], 1)\n",
    "brand_g = brand_g.set_index(['brand', 'group_e'])\n",
    "brand_g = brand_g.unstack()"
   ]
  },
  {
   "cell_type": "code",
   "execution_count": 22,
   "metadata": {
    "collapsed": true
   },
   "outputs": [],
   "source": [
    "device_g = pd.DataFrame()\n",
    "device_g['count'] = tmp.groupby(['device', 'group_e'])['group_e'].count()\n",
    "device_g = device_g.reset_index()\n",
    "\n",
    "device_sum = device_g.groupby('device')['count'].sum()\n",
    "device_g = device_g.join(device_sum, on = 'device', rsuffix='_')\n",
    "device_g['devi_g_ratio'] = device_g['count'] / device_g['count_']\n",
    "device_g = device_g.drop(['count', 'count_'], 1)\n",
    "device_g = device_g.set_index(['device', 'group_e'])\n",
    "device_g = device_g.unstack()"
   ]
  },
  {
   "cell_type": "code",
   "execution_count": 24,
   "metadata": {
    "collapsed": true
   },
   "outputs": [],
   "source": [
    "brand_mf = brand_mf.reset_index()\n",
    "device_mf = device_mf.reset_index()\n",
    "brand_g = brand_g.reset_index()\n",
    "device_g = device_g.reset_index()"
   ]
  },
  {
   "cell_type": "code",
   "execution_count": 25,
   "metadata": {
    "scrolled": false
   },
   "outputs": [
    {
     "name": "stderr",
     "output_type": "stream",
     "text": [
      "C:\\Python36\\lib\\site-packages\\pandas\\core\\reshape\\merge.py:551: UserWarning: merging between different levels can give an unintended result (1 levels on the left, 2 on the right)\n",
      "  warnings.warn(msg, UserWarning)\n",
      "C:\\Python36\\lib\\site-packages\\pandas\\core\\reshape\\merge.py:862: PerformanceWarning: dropping on a non-lexsorted multi-index without a level parameter may impact performance.\n",
      "  self.right = self.right.drop(right_drop, axis=1)\n"
     ]
    }
   ],
   "source": [
    "tmp = pd.merge(tmp, brand_mf, how='left', on='brand')\n",
    "tmp = pd.merge(tmp, device_mf, how='left', on='device')\n",
    "tmp = pd.merge(tmp, brand_g, how='left', on='brand')\n",
    "tmp = pd.merge(tmp, device_g, how='left', on='device')"
   ]
  },
  {
   "cell_type": "code",
   "execution_count": 92,
   "metadata": {},
   "outputs": [
    {
     "data": {
      "text/html": [
       "<div>\n",
       "<style>\n",
       "    .dataframe thead tr:only-child th {\n",
       "        text-align: right;\n",
       "    }\n",
       "\n",
       "    .dataframe thead th {\n",
       "        text-align: left;\n",
       "    }\n",
       "\n",
       "    .dataframe tbody tr th {\n",
       "        vertical-align: top;\n",
       "    }\n",
       "</style>\n",
       "<table border=\"1\" class=\"dataframe\">\n",
       "  <thead>\n",
       "    <tr style=\"text-align: right;\">\n",
       "      <th></th>\n",
       "      <th>device_id</th>\n",
       "      <th>age</th>\n",
       "      <th>M_F</th>\n",
       "      <th>group_e</th>\n",
       "      <th>brand</th>\n",
       "      <th>device</th>\n",
       "      <th>(brand_ratio, 0.0)</th>\n",
       "      <th>(brand_ratio, 1.0)</th>\n",
       "      <th>(device_ratio, 0.0)</th>\n",
       "      <th>(device_ratio, 1.0)</th>\n",
       "      <th>(bran_g_ratio, 0.0)</th>\n",
       "      <th>(bran_g_ratio, 1.0)</th>\n",
       "      <th>(bran_g_ratio, 2.0)</th>\n",
       "      <th>(bran_g_ratio, 3.0)</th>\n",
       "      <th>(bran_g_ratio, 4.0)</th>\n",
       "      <th>(bran_g_ratio, 5.0)</th>\n",
       "      <th>(bran_g_ratio, 6.0)</th>\n",
       "      <th>(bran_g_ratio, 7.0)</th>\n",
       "      <th>(bran_g_ratio, 8.0)</th>\n",
       "      <th>(bran_g_ratio, 9.0)</th>\n",
       "      <th>(bran_g_ratio, 10.0)</th>\n",
       "      <th>(bran_g_ratio, 11.0)</th>\n",
       "      <th>(devi_g_ratio, 0.0)</th>\n",
       "      <th>(devi_g_ratio, 1.0)</th>\n",
       "      <th>(devi_g_ratio, 2.0)</th>\n",
       "      <th>(devi_g_ratio, 3.0)</th>\n",
       "      <th>(devi_g_ratio, 4.0)</th>\n",
       "      <th>(devi_g_ratio, 5.0)</th>\n",
       "      <th>(devi_g_ratio, 6.0)</th>\n",
       "      <th>(devi_g_ratio, 7.0)</th>\n",
       "      <th>(devi_g_ratio, 8.0)</th>\n",
       "      <th>(devi_g_ratio, 9.0)</th>\n",
       "      <th>(devi_g_ratio, 10.0)</th>\n",
       "      <th>(devi_g_ratio, 11.0)</th>\n",
       "    </tr>\n",
       "  </thead>\n",
       "  <tbody>\n",
       "    <tr>\n",
       "      <th>0</th>\n",
       "      <td>-8076087639492063270</td>\n",
       "      <td>35.0</td>\n",
       "      <td>1.0</td>\n",
       "      <td>10.0</td>\n",
       "      <td>51</td>\n",
       "      <td>749</td>\n",
       "      <td>0.282373</td>\n",
       "      <td>0.717627</td>\n",
       "      <td>0.242489</td>\n",
       "      <td>0.757511</td>\n",
       "      <td>0.028529</td>\n",
       "      <td>0.03191</td>\n",
       "      <td>0.044054</td>\n",
       "      <td>0.051172</td>\n",
       "      <td>0.058799</td>\n",
       "      <td>0.067908</td>\n",
       "      <td>0.070609</td>\n",
       "      <td>0.122662</td>\n",
       "      <td>0.077063</td>\n",
       "      <td>0.124799</td>\n",
       "      <td>0.175053</td>\n",
       "      <td>0.147442</td>\n",
       "      <td>0.028851</td>\n",
       "      <td>0.009299</td>\n",
       "      <td>0.010730</td>\n",
       "      <td>0.021936</td>\n",
       "      <td>0.094182</td>\n",
       "      <td>0.077492</td>\n",
       "      <td>0.021221</td>\n",
       "      <td>0.058417</td>\n",
       "      <td>0.078922</td>\n",
       "      <td>0.048641</td>\n",
       "      <td>0.331426</td>\n",
       "      <td>0.218884</td>\n",
       "    </tr>\n",
       "    <tr>\n",
       "      <th>1</th>\n",
       "      <td>-2897161552818060146</td>\n",
       "      <td>35.0</td>\n",
       "      <td>1.0</td>\n",
       "      <td>10.0</td>\n",
       "      <td>51</td>\n",
       "      <td>749</td>\n",
       "      <td>0.282373</td>\n",
       "      <td>0.717627</td>\n",
       "      <td>0.242489</td>\n",
       "      <td>0.757511</td>\n",
       "      <td>0.028529</td>\n",
       "      <td>0.03191</td>\n",
       "      <td>0.044054</td>\n",
       "      <td>0.051172</td>\n",
       "      <td>0.058799</td>\n",
       "      <td>0.067908</td>\n",
       "      <td>0.070609</td>\n",
       "      <td>0.122662</td>\n",
       "      <td>0.077063</td>\n",
       "      <td>0.124799</td>\n",
       "      <td>0.175053</td>\n",
       "      <td>0.147442</td>\n",
       "      <td>0.028851</td>\n",
       "      <td>0.009299</td>\n",
       "      <td>0.010730</td>\n",
       "      <td>0.021936</td>\n",
       "      <td>0.094182</td>\n",
       "      <td>0.077492</td>\n",
       "      <td>0.021221</td>\n",
       "      <td>0.058417</td>\n",
       "      <td>0.078922</td>\n",
       "      <td>0.048641</td>\n",
       "      <td>0.331426</td>\n",
       "      <td>0.218884</td>\n",
       "    </tr>\n",
       "    <tr>\n",
       "      <th>2</th>\n",
       "      <td>-8260683887967679142</td>\n",
       "      <td>35.0</td>\n",
       "      <td>1.0</td>\n",
       "      <td>10.0</td>\n",
       "      <td>51</td>\n",
       "      <td>749</td>\n",
       "      <td>0.282373</td>\n",
       "      <td>0.717627</td>\n",
       "      <td>0.242489</td>\n",
       "      <td>0.757511</td>\n",
       "      <td>0.028529</td>\n",
       "      <td>0.03191</td>\n",
       "      <td>0.044054</td>\n",
       "      <td>0.051172</td>\n",
       "      <td>0.058799</td>\n",
       "      <td>0.067908</td>\n",
       "      <td>0.070609</td>\n",
       "      <td>0.122662</td>\n",
       "      <td>0.077063</td>\n",
       "      <td>0.124799</td>\n",
       "      <td>0.175053</td>\n",
       "      <td>0.147442</td>\n",
       "      <td>0.028851</td>\n",
       "      <td>0.009299</td>\n",
       "      <td>0.010730</td>\n",
       "      <td>0.021936</td>\n",
       "      <td>0.094182</td>\n",
       "      <td>0.077492</td>\n",
       "      <td>0.021221</td>\n",
       "      <td>0.058417</td>\n",
       "      <td>0.078922</td>\n",
       "      <td>0.048641</td>\n",
       "      <td>0.331426</td>\n",
       "      <td>0.218884</td>\n",
       "    </tr>\n",
       "    <tr>\n",
       "      <th>3</th>\n",
       "      <td>-4938849341048082022</td>\n",
       "      <td>30.0</td>\n",
       "      <td>1.0</td>\n",
       "      <td>9.0</td>\n",
       "      <td>51</td>\n",
       "      <td>1524</td>\n",
       "      <td>0.282373</td>\n",
       "      <td>0.717627</td>\n",
       "      <td>0.379536</td>\n",
       "      <td>0.620464</td>\n",
       "      <td>0.028529</td>\n",
       "      <td>0.03191</td>\n",
       "      <td>0.044054</td>\n",
       "      <td>0.051172</td>\n",
       "      <td>0.058799</td>\n",
       "      <td>0.067908</td>\n",
       "      <td>0.070609</td>\n",
       "      <td>0.122662</td>\n",
       "      <td>0.077063</td>\n",
       "      <td>0.124799</td>\n",
       "      <td>0.175053</td>\n",
       "      <td>0.147442</td>\n",
       "      <td>0.020628</td>\n",
       "      <td>0.027677</td>\n",
       "      <td>0.048997</td>\n",
       "      <td>0.065692</td>\n",
       "      <td>0.077193</td>\n",
       "      <td>0.139349</td>\n",
       "      <td>0.063961</td>\n",
       "      <td>0.098192</td>\n",
       "      <td>0.055428</td>\n",
       "      <td>0.084811</td>\n",
       "      <td>0.115382</td>\n",
       "      <td>0.202691</td>\n",
       "    </tr>\n",
       "    <tr>\n",
       "      <th>4</th>\n",
       "      <td>245133531816851882</td>\n",
       "      <td>30.0</td>\n",
       "      <td>1.0</td>\n",
       "      <td>9.0</td>\n",
       "      <td>51</td>\n",
       "      <td>753</td>\n",
       "      <td>0.282373</td>\n",
       "      <td>0.717627</td>\n",
       "      <td>0.352371</td>\n",
       "      <td>0.647629</td>\n",
       "      <td>0.028529</td>\n",
       "      <td>0.03191</td>\n",
       "      <td>0.044054</td>\n",
       "      <td>0.051172</td>\n",
       "      <td>0.058799</td>\n",
       "      <td>0.067908</td>\n",
       "      <td>0.070609</td>\n",
       "      <td>0.122662</td>\n",
       "      <td>0.077063</td>\n",
       "      <td>0.124799</td>\n",
       "      <td>0.175053</td>\n",
       "      <td>0.147442</td>\n",
       "      <td>0.060376</td>\n",
       "      <td>0.049907</td>\n",
       "      <td>0.044600</td>\n",
       "      <td>0.035398</td>\n",
       "      <td>0.080826</td>\n",
       "      <td>0.081264</td>\n",
       "      <td>0.085695</td>\n",
       "      <td>0.136576</td>\n",
       "      <td>0.060960</td>\n",
       "      <td>0.121774</td>\n",
       "      <td>0.120800</td>\n",
       "      <td>0.121823</td>\n",
       "    </tr>\n",
       "  </tbody>\n",
       "</table>\n",
       "</div>"
      ],
      "text/plain": [
       "             device_id   age  M_F  group_e  brand  device  (brand_ratio, 0.0)  \\\n",
       "0 -8076087639492063270  35.0  1.0     10.0     51     749            0.282373   \n",
       "1 -2897161552818060146  35.0  1.0     10.0     51     749            0.282373   \n",
       "2 -8260683887967679142  35.0  1.0     10.0     51     749            0.282373   \n",
       "3 -4938849341048082022  30.0  1.0      9.0     51    1524            0.282373   \n",
       "4   245133531816851882  30.0  1.0      9.0     51     753            0.282373   \n",
       "\n",
       "   (brand_ratio, 1.0)  (device_ratio, 0.0)  (device_ratio, 1.0)  \\\n",
       "0            0.717627             0.242489             0.757511   \n",
       "1            0.717627             0.242489             0.757511   \n",
       "2            0.717627             0.242489             0.757511   \n",
       "3            0.717627             0.379536             0.620464   \n",
       "4            0.717627             0.352371             0.647629   \n",
       "\n",
       "   (bran_g_ratio, 0.0)  (bran_g_ratio, 1.0)  (bran_g_ratio, 2.0)  \\\n",
       "0             0.028529              0.03191             0.044054   \n",
       "1             0.028529              0.03191             0.044054   \n",
       "2             0.028529              0.03191             0.044054   \n",
       "3             0.028529              0.03191             0.044054   \n",
       "4             0.028529              0.03191             0.044054   \n",
       "\n",
       "   (bran_g_ratio, 3.0)  (bran_g_ratio, 4.0)  (bran_g_ratio, 5.0)  \\\n",
       "0             0.051172             0.058799             0.067908   \n",
       "1             0.051172             0.058799             0.067908   \n",
       "2             0.051172             0.058799             0.067908   \n",
       "3             0.051172             0.058799             0.067908   \n",
       "4             0.051172             0.058799             0.067908   \n",
       "\n",
       "   (bran_g_ratio, 6.0)  (bran_g_ratio, 7.0)  (bran_g_ratio, 8.0)  \\\n",
       "0             0.070609             0.122662             0.077063   \n",
       "1             0.070609             0.122662             0.077063   \n",
       "2             0.070609             0.122662             0.077063   \n",
       "3             0.070609             0.122662             0.077063   \n",
       "4             0.070609             0.122662             0.077063   \n",
       "\n",
       "   (bran_g_ratio, 9.0)  (bran_g_ratio, 10.0)  (bran_g_ratio, 11.0)  \\\n",
       "0             0.124799              0.175053              0.147442   \n",
       "1             0.124799              0.175053              0.147442   \n",
       "2             0.124799              0.175053              0.147442   \n",
       "3             0.124799              0.175053              0.147442   \n",
       "4             0.124799              0.175053              0.147442   \n",
       "\n",
       "   (devi_g_ratio, 0.0)  (devi_g_ratio, 1.0)  (devi_g_ratio, 2.0)  \\\n",
       "0             0.028851             0.009299             0.010730   \n",
       "1             0.028851             0.009299             0.010730   \n",
       "2             0.028851             0.009299             0.010730   \n",
       "3             0.020628             0.027677             0.048997   \n",
       "4             0.060376             0.049907             0.044600   \n",
       "\n",
       "   (devi_g_ratio, 3.0)  (devi_g_ratio, 4.0)  (devi_g_ratio, 5.0)  \\\n",
       "0             0.021936             0.094182             0.077492   \n",
       "1             0.021936             0.094182             0.077492   \n",
       "2             0.021936             0.094182             0.077492   \n",
       "3             0.065692             0.077193             0.139349   \n",
       "4             0.035398             0.080826             0.081264   \n",
       "\n",
       "   (devi_g_ratio, 6.0)  (devi_g_ratio, 7.0)  (devi_g_ratio, 8.0)  \\\n",
       "0             0.021221             0.058417             0.078922   \n",
       "1             0.021221             0.058417             0.078922   \n",
       "2             0.021221             0.058417             0.078922   \n",
       "3             0.063961             0.098192             0.055428   \n",
       "4             0.085695             0.136576             0.060960   \n",
       "\n",
       "   (devi_g_ratio, 9.0)  (devi_g_ratio, 10.0)  (devi_g_ratio, 11.0)  \n",
       "0             0.048641              0.331426              0.218884  \n",
       "1             0.048641              0.331426              0.218884  \n",
       "2             0.048641              0.331426              0.218884  \n",
       "3             0.084811              0.115382              0.202691  \n",
       "4             0.121774              0.120800              0.121823  "
      ]
     },
     "execution_count": 92,
     "metadata": {},
     "output_type": "execute_result"
    }
   ],
   "source": [
    "tmp.head()"
   ]
  },
  {
   "cell_type": "markdown",
   "metadata": {
    "collapsed": true
   },
   "source": [
    "# train / test 분리"
   ]
  },
  {
   "cell_type": "markdown",
   "metadata": {},
   "source": []
  },
  {
   "cell_type": "code",
   "execution_count": 44,
   "metadata": {
    "collapsed": true
   },
   "outputs": [],
   "source": [
    "train = pd.merge(tmp, gender_age_train, on = 'device_id')\n",
    "test = pd.merge(tmp, gender_age_test, on = 'device_id')\n",
    "\n",
    "X = train.copy()\n",
    "\n",
    "y = train.group_e_x\n",
    "\n",
    "X = X.drop(['device_id', 'age_x','M_F_x', 'gender', 'age_y', 'group', 'M_F_y', 'group_e_y', 'group_e_x', 'brand', 'device'], 1)\n",
    "\n",
    "test_e = test.drop(['device_id', 'age', 'M_F', 'group_e', 'brand', 'device'], 1)\n",
    "\n",
    "X = X.fillna(X.mean())\n",
    "\n",
    "test_e = test_e.fillna(test_e.mean())"
   ]
  },
  {
   "cell_type": "markdown",
   "metadata": {},
   "source": [
    "## train_test_split"
   ]
  },
  {
   "cell_type": "code",
   "execution_count": 76,
   "metadata": {
    "collapsed": true
   },
   "outputs": [],
   "source": [
    "from sklearn.model_selection import train_test_split\n",
    "\n",
    "X_train, X_test, y_train, y_test = train_test_split(X, y, random_state = 1)\n",
    "\n",
    "device_id = test[\"device_id\"].values"
   ]
  },
  {
   "cell_type": "markdown",
   "metadata": {
    "collapsed": true
   },
   "source": [
    "# XGBoost"
   ]
  },
  {
   "cell_type": "code",
   "execution_count": 50,
   "metadata": {
    "collapsed": true
   },
   "outputs": [],
   "source": [
    "import xgboost as xgb\n",
    "\n",
    "dtrain = xgb.DMatrix(X_train, y_train)\n",
    "dtest = xgb.DMatrix(X_test, y_test)\n",
    "\n",
    "params = {\n",
    "    'objective' : 'multi:softprob',\n",
    "    'num_class' : 12,\n",
    "    'booster' : 'gblinear',\n",
    "    'max_depth' : 10,\n",
    "    'eval_metric' : 'mlogloss',\n",
    "    'eta' : 0.07,\n",
    "    'silent' : 1,\n",
    "    'alpha' : 3\n",
    "}\n",
    "\n",
    "watchlist = [(dtrain, 'train'), (dtest, 'test')]\n",
    "\n",
    "\n",
    "gbm = xgb.train(params, dtrain, 40, evals = watchlist, early_stopping_rounds=25, verbose_eval=True)"
   ]
  },
  {
   "cell_type": "code",
   "execution_count": 89,
   "metadata": {},
   "outputs": [],
   "source": [
    "y_pred = gbm.predict(xgb.DMatrix(test_e))\n",
    "\n",
    "result = pd.DataFrame(y_pred, columns = le_g.classes_)\n",
    "result['device_id'] = device_id\n",
    "#result = result.drop_duplicates(subset=['device_id'], keep='first')\n",
    "\n",
    "result = result.set_index('device_id')\n",
    "\n",
    "result.to_csv('subm.csv')\n",
    "\n",
    "result.head()"
   ]
  },
  {
   "cell_type": "code",
   "execution_count": null,
   "metadata": {
    "collapsed": true
   },
   "outputs": [],
   "source": []
  }
 ],
 "metadata": {
  "kernelspec": {
   "display_name": "Python 3",
   "language": "python",
   "name": "python3"
  },
  "language_info": {
   "codemirror_mode": {
    "name": "ipython",
    "version": 3
   },
   "file_extension": ".py",
   "mimetype": "text/x-python",
   "name": "python",
   "nbconvert_exporter": "python",
   "pygments_lexer": "ipython3",
   "version": "3.6.2rc1"
  }
 },
 "nbformat": 4,
 "nbformat_minor": 2
}
