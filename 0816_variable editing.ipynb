{
 "cells": [
  {
   "cell_type": "code",
   "execution_count": 1,
   "metadata": {
    "collapsed": true
   },
   "outputs": [],
   "source": [
    "#-*- coding: utf-8 -*-\n",
    "\n",
    "import numpy as np\n",
    "import pandas as pd\n",
    "from matplotlib import pyplot as plt\n",
    "import seaborn as sns\n",
    "from pandas import DataFrame, Series\n",
    "from sklearn.preprocessing import LabelEncoder\n",
    "\n",
    "%matplotlib inline\n",
    "\n",
    "pd.set_option('display.max_columns', None)\n",
    "pd.set_option('display.max_rows', None)"
   ]
  },
  {
   "cell_type": "code",
   "execution_count": 2,
   "metadata": {
    "collapsed": true
   },
   "outputs": [],
   "source": [
    "phone_brand_device_model = pd.read_csv('data/phone_brand_device_model.csv')\n",
    "gender_age_train = pd.read_csv('data/gender_age_train.csv')\n",
    "label_categories = pd.read_csv('data/label_categories.csv')\n",
    "events = pd.read_csv('data/events.csv')\n",
    "app_labels = pd.read_csv('data/app_labels.csv')\n",
    "app_events = pd.read_csv('data/app_events.csv', dtype = {'event_id' : np.int8, 'app_id' : np.int64, \n",
    "                                                   'is_installed' : np.int8, 'is_active' : np.int8})\n",
    "gender_age_test = pd.read_csv('data/gender_age_test.csv')"
   ]
  },
  {
   "cell_type": "markdown",
   "metadata": {},
   "source": [
    "### TimeStamp Split"
   ]
  },
  {
   "cell_type": "code",
   "execution_count": 3,
   "metadata": {
    "collapsed": true
   },
   "outputs": [],
   "source": [
    "events['timestamp'].replace('-', '', regex = True, inplace = True)\n",
    "events['timestamp'].replace(':', '', regex = True, inplace = True)\n",
    "events['timestamp'].replace(' ', '', regex = True, inplace = True)\n",
    "\n",
    "events['year'] = events['timestamp'].map(lambda x: x[0:4])\n",
    "events['month'] = events['timestamp'].map(lambda x: x[4:6])\n",
    "events['day'] = events['timestamp'].map(lambda x: x[6:8])\n",
    "events['time'] = events['timestamp'].map(lambda x: x[8:10])\n",
    "\n",
    "events.drop(['timestamp'], axis = 1, inplace = True)\n",
    "events.drop(['year'], axis = 1, inplace = True)\n",
    "\n"
   ]
  },
  {
   "cell_type": "markdown",
   "metadata": {},
   "source": [
    "### 명목형 변수 치환"
   ]
  },
  {
   "cell_type": "code",
   "execution_count": 4,
   "metadata": {
    "collapsed": true
   },
   "outputs": [],
   "source": [
    "phone_brand_device_model.phone_brand.fillna(phone_brand_device_model.phone_brand.dropna().max(), inplace = True)\n",
    "phone_brand_device_model.device_model.fillna(phone_brand_device_model.device_model.dropna().max(), inplace = True)"
   ]
  },
  {
   "cell_type": "code",
   "execution_count": 5,
   "metadata": {
    "collapsed": true
   },
   "outputs": [],
   "source": [
    "le_br = LabelEncoder()\n",
    "le_mo = LabelEncoder()\n",
    "\n",
    "\n",
    "phone_brand_device_model['brand'] = le_br.fit_transform(phone_brand_device_model['phone_brand'])\n",
    "phone_brand_device_model['device'] = le_mo.fit_transform(phone_brand_device_model['device_model'])\n",
    "\n",
    "\n",
    "\n",
    "phone_brand_label = phone_brand_device_model.copy()\n",
    "\n",
    "phone_brand_label = phone_brand_label.drop('phone_brand', 1)\n",
    "phone_brand_label = phone_brand_label.drop('device_model', 1)"
   ]
  },
  {
   "cell_type": "code",
   "execution_count": 6,
   "metadata": {
    "collapsed": true
   },
   "outputs": [],
   "source": [
    "#M = 1, F = 0\n",
    "le_gen = LabelEncoder()\n",
    "gender_age_train['M_F'] = le_gen.fit_transform(gender_age_train['gender'])"
   ]
  },
  {
   "cell_type": "code",
   "execution_count": 7,
   "metadata": {
    "collapsed": true
   },
   "outputs": [],
   "source": [
    "#group 치환\n",
    "le_g = LabelEncoder()\n",
    "gender_age_train['group_e'] = le_g.fit_transform(gender_age_train['group'])"
   ]
  },
  {
   "cell_type": "code",
   "execution_count": 8,
   "metadata": {
    "collapsed": true
   },
   "outputs": [],
   "source": [
    "# evnet_id 에서 minus 뗴어 내기\n",
    "\n",
    "app_events = app_events[(app_events.event_id > 0)]\n"
   ]
  },
  {
   "cell_type": "code",
   "execution_count": 9,
   "metadata": {},
   "outputs": [
    {
     "data": {
      "text/plain": [
       "(16098186, 4)"
      ]
     },
     "execution_count": 9,
     "metadata": {},
     "output_type": "execute_result"
    }
   ],
   "source": [
    "app_events.shape"
   ]
  },
  {
   "cell_type": "markdown",
   "metadata": {},
   "source": [
    "### Data set 기초자료 (train + test)"
   ]
  },
  {
   "cell_type": "code",
   "execution_count": 10,
   "metadata": {
    "collapsed": true
   },
   "outputs": [],
   "source": [
    "tmp = pd.merge(gender_age_train, phone_brand_label, how='left', on = 'device_id')\n",
    "tmp_ = pd.merge(gender_age_test, phone_brand_label,  how='left', on = 'device_id')"
   ]
  },
  {
   "cell_type": "code",
   "execution_count": 11,
   "metadata": {
    "collapsed": true
   },
   "outputs": [],
   "source": [
    "con = pd.concat([tmp, tmp_])"
   ]
  },
  {
   "cell_type": "code",
   "execution_count": 12,
   "metadata": {
    "collapsed": true
   },
   "outputs": [],
   "source": [
    "tmp = pd.merge(events, con, how='left', on='device_id')"
   ]
  },
  {
   "cell_type": "code",
   "execution_count": 13,
   "metadata": {
    "collapsed": true
   },
   "outputs": [],
   "source": [
    "\n",
    "labels = pd.merge(app_labels, app_events, on='app_id')\n"
   ]
  },
  {
   "cell_type": "code",
   "execution_count": 14,
   "metadata": {
    "collapsed": true
   },
   "outputs": [],
   "source": [
    "labels = labels[['app_id', 'label_id', 'event_id']]"
   ]
  },
  {
   "cell_type": "code",
   "execution_count": 15,
   "metadata": {
    "scrolled": true
   },
   "outputs": [],
   "source": [
    "tmp = tmp[['device_id', 'age', 'M_F', 'group_e', 'brand', 'device', 'event_id', 'time']]"
   ]
  },
  {
   "cell_type": "code",
   "execution_count": 16,
   "metadata": {
    "collapsed": true
   },
   "outputs": [],
   "source": [
    "tmp = pd.merge(tmp, labels, how='left', on='event_id')"
   ]
  },
  {
   "cell_type": "code",
   "execution_count": 17,
   "metadata": {
    "collapsed": true
   },
   "outputs": [],
   "source": [
    "del labels"
   ]
  },
  {
   "cell_type": "code",
   "execution_count": 18,
   "metadata": {
    "collapsed": true
   },
   "outputs": [],
   "source": [
    "tmp = tmp[['device_id', 'age', 'M_F', 'group_e', 'brand', 'device', 'time', 'label_id']]"
   ]
  },
  {
   "cell_type": "code",
   "execution_count": 19,
   "metadata": {
    "collapsed": true
   },
   "outputs": [],
   "source": [
    "tmp = tmp.drop_duplicates(subset=['device_id', 'age', 'M_F', 'group_e', 'brand', 'device', 'time', 'label_id'], keep='first')"
   ]
  },
  {
   "cell_type": "code",
   "execution_count": 20,
   "metadata": {},
   "outputs": [
    {
     "data": {
      "text/plain": [
       "(564683, 8)"
      ]
     },
     "execution_count": 20,
     "metadata": {},
     "output_type": "execute_result"
    }
   ],
   "source": [
    "tmp.shape"
   ]
  },
  {
   "cell_type": "code",
   "execution_count": 21,
   "metadata": {
    "scrolled": true
   },
   "outputs": [
    {
     "data": {
      "text/html": [
       "<div>\n",
       "<style>\n",
       "    .dataframe thead tr:only-child th {\n",
       "        text-align: right;\n",
       "    }\n",
       "\n",
       "    .dataframe thead th {\n",
       "        text-align: left;\n",
       "    }\n",
       "\n",
       "    .dataframe tbody tr th {\n",
       "        vertical-align: top;\n",
       "    }\n",
       "</style>\n",
       "<table border=\"1\" class=\"dataframe\">\n",
       "  <thead>\n",
       "    <tr style=\"text-align: right;\">\n",
       "      <th></th>\n",
       "      <th>device_id</th>\n",
       "      <th>age</th>\n",
       "      <th>M_F</th>\n",
       "      <th>group_e</th>\n",
       "      <th>brand</th>\n",
       "      <th>device</th>\n",
       "      <th>time</th>\n",
       "      <th>label_id</th>\n",
       "    </tr>\n",
       "  </thead>\n",
       "  <tbody>\n",
       "    <tr>\n",
       "      <th>0</th>\n",
       "      <td>29182687948017175</td>\n",
       "      <td>46.0</td>\n",
       "      <td>1.0</td>\n",
       "      <td>11.0</td>\n",
       "      <td>51.0</td>\n",
       "      <td>1524.0</td>\n",
       "      <td>00</td>\n",
       "      <td>251.0</td>\n",
       "    </tr>\n",
       "    <tr>\n",
       "      <th>3</th>\n",
       "      <td>29182687948017175</td>\n",
       "      <td>46.0</td>\n",
       "      <td>1.0</td>\n",
       "      <td>11.0</td>\n",
       "      <td>51.0</td>\n",
       "      <td>1524.0</td>\n",
       "      <td>00</td>\n",
       "      <td>691.0</td>\n",
       "    </tr>\n",
       "    <tr>\n",
       "      <th>6</th>\n",
       "      <td>29182687948017175</td>\n",
       "      <td>46.0</td>\n",
       "      <td>1.0</td>\n",
       "      <td>11.0</td>\n",
       "      <td>51.0</td>\n",
       "      <td>1524.0</td>\n",
       "      <td>00</td>\n",
       "      <td>405.0</td>\n",
       "    </tr>\n",
       "    <tr>\n",
       "      <th>9</th>\n",
       "      <td>29182687948017175</td>\n",
       "      <td>46.0</td>\n",
       "      <td>1.0</td>\n",
       "      <td>11.0</td>\n",
       "      <td>51.0</td>\n",
       "      <td>1524.0</td>\n",
       "      <td>00</td>\n",
       "      <td>730.0</td>\n",
       "    </tr>\n",
       "    <tr>\n",
       "      <th>12</th>\n",
       "      <td>29182687948017175</td>\n",
       "      <td>46.0</td>\n",
       "      <td>1.0</td>\n",
       "      <td>11.0</td>\n",
       "      <td>51.0</td>\n",
       "      <td>1524.0</td>\n",
       "      <td>00</td>\n",
       "      <td>751.0</td>\n",
       "    </tr>\n",
       "  </tbody>\n",
       "</table>\n",
       "</div>"
      ],
      "text/plain": [
       "            device_id   age  M_F  group_e  brand  device time  label_id\n",
       "0   29182687948017175  46.0  1.0     11.0   51.0  1524.0   00     251.0\n",
       "3   29182687948017175  46.0  1.0     11.0   51.0  1524.0   00     691.0\n",
       "6   29182687948017175  46.0  1.0     11.0   51.0  1524.0   00     405.0\n",
       "9   29182687948017175  46.0  1.0     11.0   51.0  1524.0   00     730.0\n",
       "12  29182687948017175  46.0  1.0     11.0   51.0  1524.0   00     751.0"
      ]
     },
     "execution_count": 21,
     "metadata": {},
     "output_type": "execute_result"
    }
   ],
   "source": [
    "tmp.head()"
   ]
  },
  {
   "cell_type": "code",
   "execution_count": null,
   "metadata": {
    "collapsed": true
   },
   "outputs": [],
   "source": []
  },
  {
   "cell_type": "code",
   "execution_count": 22,
   "metadata": {
    "scrolled": true
   },
   "outputs": [],
   "source": [
    "g_sam = pd.DataFrame()\n",
    "\n",
    "g_sam['brand_m']= tmp.groupby(['brand'])['M_F'].mean()\n",
    "g_sam['brand_g']= tmp.groupby(['brand'])['group_e'].mean()\n",
    "\n",
    "g_sam.reset_index()\n",
    "\n",
    "tmp['brand_m'] = tmp.brand.map(g_sam.brand_m)\n",
    "tmp['brand_g'] = tmp.brand.map(g_sam.brand_g)"
   ]
  },
  {
   "cell_type": "code",
   "execution_count": 23,
   "metadata": {
    "collapsed": true
   },
   "outputs": [],
   "source": [
    "g_d = pd.DataFrame()\n",
    "\n",
    "g_d['device_m'] = tmp.groupby(['device'])['M_F'].mean()\n",
    "g_d['device_g']= tmp.groupby(['device'])['group_e'].mean()\n",
    "\n",
    "g_d.reset_index()\n",
    "\n",
    "tmp['device_m'] = tmp.device.map(g_d.device_m)\n",
    "tmp['device_g'] = tmp.device.map(g_d.device_g)"
   ]
  },
  {
   "cell_type": "code",
   "execution_count": 24,
   "metadata": {
    "collapsed": true
   },
   "outputs": [],
   "source": [
    "g_t = pd.DataFrame()\n",
    "\n",
    "g_t['time_m'] = tmp.groupby(['time'])['M_F'].mean()\n",
    "g_t['time_g']= tmp.groupby(['time'])['group_e'].mean()\n",
    "\n",
    "g_t.reset_index()\n",
    "\n",
    "tmp['time_m'] = tmp.time.map(g_t.time_m)\n",
    "tmp['time_g'] = tmp.time.map(g_t.time_g)"
   ]
  },
  {
   "cell_type": "code",
   "execution_count": 25,
   "metadata": {
    "collapsed": true
   },
   "outputs": [],
   "source": [
    "g_l = pd.DataFrame()\n",
    "\n",
    "g_l['label_m'] = tmp.groupby(['label_id'])['M_F'].mean()\n",
    "g_l['label_g']= tmp.groupby(['label_id'])['group_e'].mean()\n",
    "\n",
    "g_l.reset_index()\n",
    "\n",
    "tmp['label_m'] = tmp.label_id.map(g_l.label_m)\n",
    "tmp['label_g'] = tmp.label_id.map(g_l.label_g)"
   ]
  },
  {
   "cell_type": "code",
   "execution_count": 26,
   "metadata": {},
   "outputs": [
    {
     "data": {
      "text/html": [
       "<div>\n",
       "<style>\n",
       "    .dataframe thead tr:only-child th {\n",
       "        text-align: right;\n",
       "    }\n",
       "\n",
       "    .dataframe thead th {\n",
       "        text-align: left;\n",
       "    }\n",
       "\n",
       "    .dataframe tbody tr th {\n",
       "        vertical-align: top;\n",
       "    }\n",
       "</style>\n",
       "<table border=\"1\" class=\"dataframe\">\n",
       "  <thead>\n",
       "    <tr style=\"text-align: right;\">\n",
       "      <th></th>\n",
       "      <th>device_id</th>\n",
       "      <th>age</th>\n",
       "      <th>M_F</th>\n",
       "      <th>group_e</th>\n",
       "      <th>brand</th>\n",
       "      <th>device</th>\n",
       "      <th>time</th>\n",
       "      <th>label_id</th>\n",
       "      <th>brand_m</th>\n",
       "      <th>brand_g</th>\n",
       "      <th>device_m</th>\n",
       "      <th>device_g</th>\n",
       "      <th>time_m</th>\n",
       "      <th>time_g</th>\n",
       "      <th>label_m</th>\n",
       "      <th>label_g</th>\n",
       "    </tr>\n",
       "  </thead>\n",
       "  <tbody>\n",
       "    <tr>\n",
       "      <th>0</th>\n",
       "      <td>29182687948017175</td>\n",
       "      <td>46.0</td>\n",
       "      <td>1.0</td>\n",
       "      <td>11.0</td>\n",
       "      <td>51.0</td>\n",
       "      <td>1524.0</td>\n",
       "      <td>00</td>\n",
       "      <td>251.0</td>\n",
       "      <td>0.704919</td>\n",
       "      <td>7.088218</td>\n",
       "      <td>0.666092</td>\n",
       "      <td>7.270231</td>\n",
       "      <td>0.770939</td>\n",
       "      <td>7.373082</td>\n",
       "      <td>0.8</td>\n",
       "      <td>7.644444</td>\n",
       "    </tr>\n",
       "    <tr>\n",
       "      <th>3</th>\n",
       "      <td>29182687948017175</td>\n",
       "      <td>46.0</td>\n",
       "      <td>1.0</td>\n",
       "      <td>11.0</td>\n",
       "      <td>51.0</td>\n",
       "      <td>1524.0</td>\n",
       "      <td>00</td>\n",
       "      <td>691.0</td>\n",
       "      <td>0.704919</td>\n",
       "      <td>7.088218</td>\n",
       "      <td>0.666092</td>\n",
       "      <td>7.270231</td>\n",
       "      <td>0.770939</td>\n",
       "      <td>7.373082</td>\n",
       "      <td>0.8</td>\n",
       "      <td>7.644444</td>\n",
       "    </tr>\n",
       "    <tr>\n",
       "      <th>6</th>\n",
       "      <td>29182687948017175</td>\n",
       "      <td>46.0</td>\n",
       "      <td>1.0</td>\n",
       "      <td>11.0</td>\n",
       "      <td>51.0</td>\n",
       "      <td>1524.0</td>\n",
       "      <td>00</td>\n",
       "      <td>405.0</td>\n",
       "      <td>0.704919</td>\n",
       "      <td>7.088218</td>\n",
       "      <td>0.666092</td>\n",
       "      <td>7.270231</td>\n",
       "      <td>0.770939</td>\n",
       "      <td>7.373082</td>\n",
       "      <td>0.8</td>\n",
       "      <td>7.644444</td>\n",
       "    </tr>\n",
       "    <tr>\n",
       "      <th>9</th>\n",
       "      <td>29182687948017175</td>\n",
       "      <td>46.0</td>\n",
       "      <td>1.0</td>\n",
       "      <td>11.0</td>\n",
       "      <td>51.0</td>\n",
       "      <td>1524.0</td>\n",
       "      <td>00</td>\n",
       "      <td>730.0</td>\n",
       "      <td>0.704919</td>\n",
       "      <td>7.088218</td>\n",
       "      <td>0.666092</td>\n",
       "      <td>7.270231</td>\n",
       "      <td>0.770939</td>\n",
       "      <td>7.373082</td>\n",
       "      <td>0.8</td>\n",
       "      <td>7.644444</td>\n",
       "    </tr>\n",
       "    <tr>\n",
       "      <th>12</th>\n",
       "      <td>29182687948017175</td>\n",
       "      <td>46.0</td>\n",
       "      <td>1.0</td>\n",
       "      <td>11.0</td>\n",
       "      <td>51.0</td>\n",
       "      <td>1524.0</td>\n",
       "      <td>00</td>\n",
       "      <td>751.0</td>\n",
       "      <td>0.704919</td>\n",
       "      <td>7.088218</td>\n",
       "      <td>0.666092</td>\n",
       "      <td>7.270231</td>\n",
       "      <td>0.770939</td>\n",
       "      <td>7.373082</td>\n",
       "      <td>0.8</td>\n",
       "      <td>7.644444</td>\n",
       "    </tr>\n",
       "  </tbody>\n",
       "</table>\n",
       "</div>"
      ],
      "text/plain": [
       "            device_id   age  M_F  group_e  brand  device time  label_id  \\\n",
       "0   29182687948017175  46.0  1.0     11.0   51.0  1524.0   00     251.0   \n",
       "3   29182687948017175  46.0  1.0     11.0   51.0  1524.0   00     691.0   \n",
       "6   29182687948017175  46.0  1.0     11.0   51.0  1524.0   00     405.0   \n",
       "9   29182687948017175  46.0  1.0     11.0   51.0  1524.0   00     730.0   \n",
       "12  29182687948017175  46.0  1.0     11.0   51.0  1524.0   00     751.0   \n",
       "\n",
       "     brand_m   brand_g  device_m  device_g    time_m    time_g  label_m  \\\n",
       "0   0.704919  7.088218  0.666092  7.270231  0.770939  7.373082      0.8   \n",
       "3   0.704919  7.088218  0.666092  7.270231  0.770939  7.373082      0.8   \n",
       "6   0.704919  7.088218  0.666092  7.270231  0.770939  7.373082      0.8   \n",
       "9   0.704919  7.088218  0.666092  7.270231  0.770939  7.373082      0.8   \n",
       "12  0.704919  7.088218  0.666092  7.270231  0.770939  7.373082      0.8   \n",
       "\n",
       "     label_g  \n",
       "0   7.644444  \n",
       "3   7.644444  \n",
       "6   7.644444  \n",
       "9   7.644444  \n",
       "12  7.644444  "
      ]
     },
     "execution_count": 26,
     "metadata": {},
     "output_type": "execute_result"
    }
   ],
   "source": [
    "tmp.head()"
   ]
  },
  {
   "cell_type": "code",
   "execution_count": 24,
   "metadata": {},
   "outputs": [
    {
     "data": {
      "text/plain": [
       "(564683, 16)"
      ]
     },
     "execution_count": 24,
     "metadata": {},
     "output_type": "execute_result"
    }
   ],
   "source": [
    "tmp.shape"
   ]
  },
  {
   "cell_type": "markdown",
   "metadata": {
    "collapsed": true
   },
   "source": [
    "### test set 기초자료"
   ]
  },
  {
   "cell_type": "code",
   "execution_count": 7,
   "metadata": {
    "collapsed": true
   },
   "outputs": [],
   "source": [
    "t1 = pd.merge(gender_age_test, phone_brand_device_model, on = 'device_id')\n",
    "t2 = pd.merge(t1, events, on = 'device_id')\n",
    "t3 = pd.merge(t2, app_events, on = 'event_id')\n",
    "t4 = pd.merge(t3, app_labels, on = 'app_id')\n"
   ]
  },
  {
   "cell_type": "code",
   "execution_count": 13,
   "metadata": {
    "collapsed": true
   },
   "outputs": [],
   "source": [
    "t4 = t4.loc[:, ['device_id', 'event_id', 'app_id', 'label_id', 'phone_brand', 'device_model', 'time']]"
   ]
  },
  {
   "cell_type": "code",
   "execution_count": 14,
   "metadata": {
    "collapsed": true
   },
   "outputs": [],
   "source": [
    "del t1, t2, t3"
   ]
  },
  {
   "cell_type": "code",
   "execution_count": 20,
   "metadata": {},
   "outputs": [
    {
     "data": {
      "text/html": [
       "<div>\n",
       "<style>\n",
       "    .dataframe thead tr:only-child th {\n",
       "        text-align: right;\n",
       "    }\n",
       "\n",
       "    .dataframe thead th {\n",
       "        text-align: left;\n",
       "    }\n",
       "\n",
       "    .dataframe tbody tr th {\n",
       "        vertical-align: top;\n",
       "    }\n",
       "</style>\n",
       "<table border=\"1\" class=\"dataframe\">\n",
       "  <thead>\n",
       "    <tr style=\"text-align: right;\">\n",
       "      <th></th>\n",
       "      <th>device_id</th>\n",
       "      <th>event_id</th>\n",
       "      <th>app_id</th>\n",
       "      <th>label_id</th>\n",
       "      <th>brand</th>\n",
       "      <th>device</th>\n",
       "      <th>time</th>\n",
       "    </tr>\n",
       "  </thead>\n",
       "  <tbody>\n",
       "    <tr>\n",
       "      <th>0</th>\n",
       "      <td>5317828258152702819</td>\n",
       "      <td>114</td>\n",
       "      <td>-7377004479023402858</td>\n",
       "      <td>549</td>\n",
       "      <td>13</td>\n",
       "      <td>1259</td>\n",
       "      <td>00</td>\n",
       "    </tr>\n",
       "    <tr>\n",
       "      <th>1</th>\n",
       "      <td>5317828258152702819</td>\n",
       "      <td>114</td>\n",
       "      <td>-7377004479023402858</td>\n",
       "      <td>721</td>\n",
       "      <td>13</td>\n",
       "      <td>1259</td>\n",
       "      <td>00</td>\n",
       "    </tr>\n",
       "    <tr>\n",
       "      <th>2</th>\n",
       "      <td>5317828258152702819</td>\n",
       "      <td>114</td>\n",
       "      <td>-7377004479023402858</td>\n",
       "      <td>704</td>\n",
       "      <td>13</td>\n",
       "      <td>1259</td>\n",
       "      <td>00</td>\n",
       "    </tr>\n",
       "    <tr>\n",
       "      <th>3</th>\n",
       "      <td>5317828258152702819</td>\n",
       "      <td>114</td>\n",
       "      <td>-7377004479023402858</td>\n",
       "      <td>302</td>\n",
       "      <td>13</td>\n",
       "      <td>1259</td>\n",
       "      <td>00</td>\n",
       "    </tr>\n",
       "    <tr>\n",
       "      <th>4</th>\n",
       "      <td>5317828258152702819</td>\n",
       "      <td>114</td>\n",
       "      <td>-7377004479023402858</td>\n",
       "      <td>303</td>\n",
       "      <td>13</td>\n",
       "      <td>1259</td>\n",
       "      <td>00</td>\n",
       "    </tr>\n",
       "  </tbody>\n",
       "</table>\n",
       "</div>"
      ],
      "text/plain": [
       "             device_id  event_id               app_id  label_id  brand  \\\n",
       "0  5317828258152702819       114 -7377004479023402858       549     13   \n",
       "1  5317828258152702819       114 -7377004479023402858       721     13   \n",
       "2  5317828258152702819       114 -7377004479023402858       704     13   \n",
       "3  5317828258152702819       114 -7377004479023402858       302     13   \n",
       "4  5317828258152702819       114 -7377004479023402858       303     13   \n",
       "\n",
       "   device time  \n",
       "0    1259   00  \n",
       "1    1259   00  \n",
       "2    1259   00  \n",
       "3    1259   00  \n",
       "4    1259   00  "
      ]
     },
     "execution_count": 20,
     "metadata": {},
     "output_type": "execute_result"
    }
   ],
   "source": [
    "t4.head()"
   ]
  },
  {
   "cell_type": "markdown",
   "metadata": {},
   "source": [
    "### brand 별 연령대 (미사용)"
   ]
  },
  {
   "cell_type": "code",
   "execution_count": 23,
   "metadata": {
    "collapsed": true
   },
   "outputs": [],
   "source": [
    "age_brand = pd.merge(phone_brand_device_model, gender_age_train, how = 'left', on = 'device_id')"
   ]
  },
  {
   "cell_type": "code",
   "execution_count": 24,
   "metadata": {
    "collapsed": true
   },
   "outputs": [],
   "source": [
    "age_bran_time = pd.merge(age_brand, events, how = 'left', on = 'device_id') "
   ]
  },
  {
   "cell_type": "code",
   "execution_count": 25,
   "metadata": {
    "collapsed": true
   },
   "outputs": [],
   "source": [
    "# 명목 변수 제거\n",
    "\n",
    "age_bran_time_e = age_bran_time[['device_id', 'brand', 'device', 'age', 'M_F', 'group_e', 'event_id', 'longitude', 'latitude', 'time']]"
   ]
  },
  {
   "cell_type": "code",
   "execution_count": 26,
   "metadata": {},
   "outputs": [
    {
     "data": {
      "text/html": [
       "<div>\n",
       "<style>\n",
       "    .dataframe thead tr:only-child th {\n",
       "        text-align: right;\n",
       "    }\n",
       "\n",
       "    .dataframe thead th {\n",
       "        text-align: left;\n",
       "    }\n",
       "\n",
       "    .dataframe tbody tr th {\n",
       "        vertical-align: top;\n",
       "    }\n",
       "</style>\n",
       "<table border=\"1\" class=\"dataframe\">\n",
       "  <thead>\n",
       "    <tr style=\"text-align: right;\">\n",
       "      <th></th>\n",
       "      <th>device_id</th>\n",
       "      <th>brand</th>\n",
       "      <th>device</th>\n",
       "      <th>age</th>\n",
       "      <th>M_F</th>\n",
       "      <th>group_e</th>\n",
       "      <th>event_id</th>\n",
       "      <th>longitude</th>\n",
       "      <th>latitude</th>\n",
       "      <th>time</th>\n",
       "    </tr>\n",
       "  </thead>\n",
       "  <tbody>\n",
       "    <tr>\n",
       "      <th>0</th>\n",
       "      <td>-8890648629457979026</td>\n",
       "      <td>51</td>\n",
       "      <td>1517</td>\n",
       "      <td>33.0</td>\n",
       "      <td>1.0</td>\n",
       "      <td>10.0</td>\n",
       "      <td>NaN</td>\n",
       "      <td>NaN</td>\n",
       "      <td>NaN</td>\n",
       "      <td>NaN</td>\n",
       "    </tr>\n",
       "    <tr>\n",
       "      <th>1</th>\n",
       "      <td>1277779817574759137</td>\n",
       "      <td>51</td>\n",
       "      <td>749</td>\n",
       "      <td>26.0</td>\n",
       "      <td>1.0</td>\n",
       "      <td>7.0</td>\n",
       "      <td>NaN</td>\n",
       "      <td>NaN</td>\n",
       "      <td>NaN</td>\n",
       "      <td>NaN</td>\n",
       "    </tr>\n",
       "    <tr>\n",
       "      <th>2</th>\n",
       "      <td>5137427614288105724</td>\n",
       "      <td>15</td>\n",
       "      <td>560</td>\n",
       "      <td>NaN</td>\n",
       "      <td>NaN</td>\n",
       "      <td>NaN</td>\n",
       "      <td>571915.0</td>\n",
       "      <td>0.0</td>\n",
       "      <td>0.0</td>\n",
       "      <td>08</td>\n",
       "    </tr>\n",
       "    <tr>\n",
       "      <th>3</th>\n",
       "      <td>5137427614288105724</td>\n",
       "      <td>15</td>\n",
       "      <td>560</td>\n",
       "      <td>NaN</td>\n",
       "      <td>NaN</td>\n",
       "      <td>NaN</td>\n",
       "      <td>1414484.0</td>\n",
       "      <td>0.0</td>\n",
       "      <td>0.0</td>\n",
       "      <td>22</td>\n",
       "    </tr>\n",
       "    <tr>\n",
       "      <th>4</th>\n",
       "      <td>5137427614288105724</td>\n",
       "      <td>15</td>\n",
       "      <td>560</td>\n",
       "      <td>NaN</td>\n",
       "      <td>NaN</td>\n",
       "      <td>NaN</td>\n",
       "      <td>3049420.0</td>\n",
       "      <td>0.0</td>\n",
       "      <td>0.0</td>\n",
       "      <td>08</td>\n",
       "    </tr>\n",
       "  </tbody>\n",
       "</table>\n",
       "</div>"
      ],
      "text/plain": [
       "             device_id  brand  device   age  M_F  group_e   event_id  \\\n",
       "0 -8890648629457979026     51    1517  33.0  1.0     10.0        NaN   \n",
       "1  1277779817574759137     51     749  26.0  1.0      7.0        NaN   \n",
       "2  5137427614288105724     15     560   NaN  NaN      NaN   571915.0   \n",
       "3  5137427614288105724     15     560   NaN  NaN      NaN  1414484.0   \n",
       "4  5137427614288105724     15     560   NaN  NaN      NaN  3049420.0   \n",
       "\n",
       "   longitude  latitude time  \n",
       "0        NaN       NaN  NaN  \n",
       "1        NaN       NaN  NaN  \n",
       "2        0.0       0.0   08  \n",
       "3        0.0       0.0   22  \n",
       "4        0.0       0.0   08  "
      ]
     },
     "execution_count": 26,
     "metadata": {},
     "output_type": "execute_result"
    }
   ],
   "source": [
    "age_bran_time_e.head()"
   ]
  },
  {
   "cell_type": "markdown",
   "metadata": {
    "collapsed": true
   },
   "source": [
    "## 변수 추가\n",
    "* brand별 연령대\n",
    "* model별 연령대\n",
    "* time(hour)별 연령대\n",
    "* label별 연령대"
   ]
  },
  {
   "cell_type": "code",
   "execution_count": 27,
   "metadata": {
    "collapsed": true
   },
   "outputs": [],
   "source": [
    "tmp_sam = tmp[['device_id', 'age', 'M_F', 'group_e', 'brand', 'device', 'time', 'label_id']]"
   ]
  },
  {
   "cell_type": "code",
   "execution_count": 28,
   "metadata": {},
   "outputs": [],
   "source": [
    "g_brand = pd.DataFrame()\n",
    "g_model = pd.DataFrame()\n",
    "\n",
    "g_brand_tmp = pd.DataFrame()\n",
    "g_model_tmp = pd.DataFrame()\n",
    "\n",
    "# phone_brand 평균 연령대\n",
    "\n",
    "g_brand['brand_group_count'] = tmp_sam.groupby(['brand','group_e'])['group_e'].count()\n",
    "g_brand_tmp['brand_group_sum'] = tmp_sam.groupby('brand')['group_e'].sum()\n",
    "\n",
    "g_brand = g_brand.reset_index()\n",
    "g_brand_tmp = g_brand_tmp.reset_index()\n",
    "g_brand_rate = pd.merge(g_brand, g_brand_tmp, how = 'left', on = 'brand')\n",
    "\n",
    "g_model['model_group_count'] = tmp_sam.groupby(['device', 'group_e'])['group_e'].count()\n",
    "g_model_tmp['model_group_sum'] = tmp_sam.groupby('device')['group_e'].sum()\n",
    "\n",
    "g_model = g_model.reset_index()\n",
    "g_model_tmp = g_model_tmp.reset_index()\n",
    "g_model_rate= pd.merge(g_model, g_model_tmp, how = 'left', on = 'device')\n",
    "\n",
    "g_brand_rate['brand_ratio'] = g_brand_rate.brand_group_count / g_brand_rate.brand_group_sum\n",
    "g_model_rate['device_ratio'] = g_model_rate.model_group_count / g_model_rate.model_group_sum"
   ]
  },
  {
   "cell_type": "code",
   "execution_count": 29,
   "metadata": {},
   "outputs": [
    {
     "name": "stderr",
     "output_type": "stream",
     "text": [
      "C:\\Python36\\lib\\site-packages\\pandas\\core\\reshape\\merge.py:551: UserWarning: merging between different levels can give an unintended result (1 levels on the left, 2 on the right)\n",
      "  warnings.warn(msg, UserWarning)\n"
     ]
    }
   ],
   "source": [
    "g_brand_rate = g_brand_rate.drop(['brand_group_count', 'brand_group_sum'], 1)\n",
    "\n",
    "g_brand_rate['brand_ratio'] = g_brand_rate.group_e + g_brand_rate.brand_ratio\n",
    "\n",
    "g_brand_rate = g_brand_rate.set_index(['brand', 'group_e']).unstack('group_e')\n",
    "\n",
    "tmp = tmp.join(g_brand_rate, how='left')\n",
    "\n",
    "#tmp['g_brand_rate'] = tmp['brand', 'group_e'].map(g_brand_rate.brand_ratio)"
   ]
  },
  {
   "cell_type": "code",
   "execution_count": 37,
   "metadata": {},
   "outputs": [
    {
     "data": {
      "text/html": [
       "<div>\n",
       "<style>\n",
       "    .dataframe thead tr:only-child th {\n",
       "        text-align: right;\n",
       "    }\n",
       "\n",
       "    .dataframe thead th {\n",
       "        text-align: left;\n",
       "    }\n",
       "\n",
       "    .dataframe tbody tr th {\n",
       "        vertical-align: top;\n",
       "    }\n",
       "</style>\n",
       "<table border=\"1\" class=\"dataframe\">\n",
       "  <thead>\n",
       "    <tr style=\"text-align: right;\">\n",
       "      <th></th>\n",
       "      <th>device</th>\n",
       "      <th>group_e</th>\n",
       "      <th>model_group_count</th>\n",
       "      <th>model_group_sum</th>\n",
       "      <th>device_ratio</th>\n",
       "    </tr>\n",
       "  </thead>\n",
       "  <tbody>\n",
       "    <tr>\n",
       "      <th>0</th>\n",
       "      <td>0.0</td>\n",
       "      <td>3.0</td>\n",
       "      <td>22</td>\n",
       "      <td>66.0</td>\n",
       "      <td>0.333333</td>\n",
       "    </tr>\n",
       "    <tr>\n",
       "      <th>1</th>\n",
       "      <td>1.0</td>\n",
       "      <td>2.0</td>\n",
       "      <td>1</td>\n",
       "      <td>935.0</td>\n",
       "      <td>0.001070</td>\n",
       "    </tr>\n",
       "    <tr>\n",
       "      <th>2</th>\n",
       "      <td>1.0</td>\n",
       "      <td>3.0</td>\n",
       "      <td>5</td>\n",
       "      <td>935.0</td>\n",
       "      <td>0.005348</td>\n",
       "    </tr>\n",
       "    <tr>\n",
       "      <th>3</th>\n",
       "      <td>1.0</td>\n",
       "      <td>4.0</td>\n",
       "      <td>21</td>\n",
       "      <td>935.0</td>\n",
       "      <td>0.022460</td>\n",
       "    </tr>\n",
       "    <tr>\n",
       "      <th>4</th>\n",
       "      <td>1.0</td>\n",
       "      <td>6.0</td>\n",
       "      <td>1</td>\n",
       "      <td>935.0</td>\n",
       "      <td>0.001070</td>\n",
       "    </tr>\n",
       "  </tbody>\n",
       "</table>\n",
       "</div>"
      ],
      "text/plain": [
       "   device  group_e  model_group_count  model_group_sum  device_ratio\n",
       "0     0.0      3.0                 22             66.0      0.333333\n",
       "1     1.0      2.0                  1            935.0      0.001070\n",
       "2     1.0      3.0                  5            935.0      0.005348\n",
       "3     1.0      4.0                 21            935.0      0.022460\n",
       "4     1.0      6.0                  1            935.0      0.001070"
      ]
     },
     "execution_count": 37,
     "metadata": {},
     "output_type": "execute_result"
    }
   ],
   "source": [
    "g_model_rate.head()"
   ]
  },
  {
   "cell_type": "code",
   "execution_count": 30,
   "metadata": {},
   "outputs": [
    {
     "name": "stderr",
     "output_type": "stream",
     "text": [
      "C:\\Python36\\lib\\site-packages\\pandas\\core\\reshape\\merge.py:551: UserWarning: merging between different levels can give an unintended result (1 levels on the left, 2 on the right)\n",
      "  warnings.warn(msg, UserWarning)\n"
     ]
    }
   ],
   "source": [
    "g_model_rate = g_model_rate.drop(['model_group_count', 'model_group_sum'], 1)\n",
    "\n",
    "g_model_rate['device_ratio'] = g_model_rate.group_e + g_model_rate.device_ratio\n",
    "\n",
    "g_model_rate = g_model_rate.set_index(['device', 'group_e']).unstack('group_e')\n",
    "\n",
    "tmp = tmp.join(g_model_rate, how='left')"
   ]
  },
  {
   "cell_type": "markdown",
   "metadata": {},
   "source": [
    "### time별 그룹 비율"
   ]
  },
  {
   "cell_type": "code",
   "execution_count": 33,
   "metadata": {},
   "outputs": [],
   "source": [
    "g_time_sum = pd.DataFrame()\n",
    "g_tmp = pd.DataFrame()\n",
    "\n",
    "g_tmp['group_size'] = tmp_sam.groupby(['time', 'group_e'])['group_e'].size()\n",
    "g_time_sum['time_sum'] = tmp_sam.groupby('time')['group_e'].count()\n",
    "\n",
    "g_tmp = g_tmp.reset_index()\n",
    "\n",
    "g_time_sum = g_time_sum.reset_index()\n",
    "\n",
    "g_time_rate = pd.merge(g_tmp, g_time_sum, on = 'time')\n",
    "\n",
    "# 시간대별 사용자그룹 분포\n",
    "g_time_rate['time_ratio'] = g_time_rate.group_size / g_time_rate.time_sum"
   ]
  },
  {
   "cell_type": "code",
   "execution_count": 34,
   "metadata": {
    "scrolled": true
   },
   "outputs": [
    {
     "name": "stderr",
     "output_type": "stream",
     "text": [
      "C:\\Python36\\lib\\site-packages\\pandas\\core\\reshape\\merge.py:551: UserWarning: merging between different levels can give an unintended result (1 levels on the left, 2 on the right)\n",
      "  warnings.warn(msg, UserWarning)\n"
     ]
    }
   ],
   "source": [
    "g_time_rate = g_time_rate.drop(['group_size', 'time_sum'], 1)\n",
    "\n",
    "g_time_rate['time_ratio'] = g_time_rate.group_e + g_time_rate.time_ratio\n",
    "\n",
    "g_time_rate = g_time_rate.set_index(['time', 'group_e']).unstack('group_e')\n",
    "\n",
    "tmp = tmp.join(g_time_rate, how='left')"
   ]
  },
  {
   "cell_type": "code",
   "execution_count": null,
   "metadata": {
    "collapsed": true
   },
   "outputs": [],
   "source": []
  },
  {
   "cell_type": "markdown",
   "metadata": {},
   "source": [
    "### label별 그룹 ratio"
   ]
  },
  {
   "cell_type": "code",
   "execution_count": 35,
   "metadata": {
    "collapsed": true
   },
   "outputs": [],
   "source": [
    "g_app_label = pd.DataFrame()\n",
    "g_app_label_sum = pd.DataFrame()\n",
    "\n",
    "g_app_label['count'] = tmp_sam.groupby(['label_id', 'group_e'])['group_e'].count()\n",
    "g_app_label_sum['sum'] = tmp_sam.groupby('label_id')['group_e'].sum()\n",
    "\n",
    "g_app_label = g_app_label.reset_index()\n",
    "g_app_label_sum = g_app_label_sum.reset_index()\n",
    "\n",
    "g_label_group = pd.merge(g_app_label, g_app_label_sum, how = 'left', on = 'label_id')\n",
    "\n",
    "g_label_group['label_ratio'] = g_label_group['count'] / g_label_group['sum']"
   ]
  },
  {
   "cell_type": "code",
   "execution_count": 36,
   "metadata": {
    "collapsed": true
   },
   "outputs": [],
   "source": [
    "g_label_group = g_label_group.drop(['count', 'sum'], 1)"
   ]
  },
  {
   "cell_type": "code",
   "execution_count": 37,
   "metadata": {},
   "outputs": [
    {
     "name": "stderr",
     "output_type": "stream",
     "text": [
      "C:\\Python36\\lib\\site-packages\\pandas\\core\\reshape\\merge.py:551: UserWarning: merging between different levels can give an unintended result (1 levels on the left, 2 on the right)\n",
      "  warnings.warn(msg, UserWarning)\n"
     ]
    }
   ],
   "source": [
    "g_label_group['label_ratio'] = g_label_group.group_e + g_label_group.label_ratio\n",
    "\n",
    "g_label_group = g_label_group.set_index(['label_id', 'group_e']).unstack('group_e')\n",
    "\n",
    "tmp = tmp.join(g_label_group, how='left')"
   ]
  },
  {
   "cell_type": "code",
   "execution_count": null,
   "metadata": {
    "collapsed": true
   },
   "outputs": [],
   "source": []
  },
  {
   "cell_type": "code",
   "execution_count": 38,
   "metadata": {},
   "outputs": [
    {
     "data": {
      "text/html": [
       "<div>\n",
       "<style>\n",
       "    .dataframe thead tr:only-child th {\n",
       "        text-align: right;\n",
       "    }\n",
       "\n",
       "    .dataframe thead th {\n",
       "        text-align: left;\n",
       "    }\n",
       "\n",
       "    .dataframe tbody tr th {\n",
       "        vertical-align: top;\n",
       "    }\n",
       "</style>\n",
       "<table border=\"1\" class=\"dataframe\">\n",
       "  <thead>\n",
       "    <tr style=\"text-align: right;\">\n",
       "      <th></th>\n",
       "      <th>device_id</th>\n",
       "      <th>age</th>\n",
       "      <th>M_F</th>\n",
       "      <th>group_e</th>\n",
       "      <th>brand</th>\n",
       "      <th>device</th>\n",
       "      <th>time</th>\n",
       "      <th>label_id</th>\n",
       "      <th>brand_m</th>\n",
       "      <th>brand_g</th>\n",
       "      <th>device_m</th>\n",
       "      <th>device_g</th>\n",
       "      <th>time_m</th>\n",
       "      <th>time_g</th>\n",
       "      <th>label_m</th>\n",
       "      <th>label_g</th>\n",
       "      <th>(brand_ratio, 0.0)</th>\n",
       "      <th>(brand_ratio, 1.0)</th>\n",
       "      <th>(brand_ratio, 2.0)</th>\n",
       "      <th>(brand_ratio, 3.0)</th>\n",
       "      <th>(brand_ratio, 4.0)</th>\n",
       "      <th>(brand_ratio, 5.0)</th>\n",
       "      <th>(brand_ratio, 6.0)</th>\n",
       "      <th>(brand_ratio, 7.0)</th>\n",
       "      <th>(brand_ratio, 8.0)</th>\n",
       "      <th>(brand_ratio, 9.0)</th>\n",
       "      <th>(brand_ratio, 10.0)</th>\n",
       "      <th>(brand_ratio, 11.0)</th>\n",
       "      <th>(device_ratio, 0.0)</th>\n",
       "      <th>(device_ratio, 1.0)</th>\n",
       "      <th>(device_ratio, 2.0)</th>\n",
       "      <th>(device_ratio, 3.0)</th>\n",
       "      <th>(device_ratio, 4.0)</th>\n",
       "      <th>(device_ratio, 5.0)</th>\n",
       "      <th>(device_ratio, 6.0)</th>\n",
       "      <th>(device_ratio, 7.0)</th>\n",
       "      <th>(device_ratio, 8.0)</th>\n",
       "      <th>(device_ratio, 9.0)</th>\n",
       "      <th>(device_ratio, 10.0)</th>\n",
       "      <th>(device_ratio, 11.0)</th>\n",
       "      <th>(time_ratio, 0.0)</th>\n",
       "      <th>(time_ratio, 1.0)</th>\n",
       "      <th>(time_ratio, 2.0)</th>\n",
       "      <th>(time_ratio, 3.0)</th>\n",
       "      <th>(time_ratio, 4.0)</th>\n",
       "      <th>(time_ratio, 5.0)</th>\n",
       "      <th>(time_ratio, 6.0)</th>\n",
       "      <th>(time_ratio, 7.0)</th>\n",
       "      <th>(time_ratio, 8.0)</th>\n",
       "      <th>(time_ratio, 9.0)</th>\n",
       "      <th>(time_ratio, 10.0)</th>\n",
       "      <th>(time_ratio, 11.0)</th>\n",
       "      <th>(label_ratio, 0.0)</th>\n",
       "      <th>(label_ratio, 2.0)</th>\n",
       "      <th>(label_ratio, 3.0)</th>\n",
       "      <th>(label_ratio, 5.0)</th>\n",
       "      <th>(label_ratio, 6.0)</th>\n",
       "      <th>(label_ratio, 7.0)</th>\n",
       "      <th>(label_ratio, 8.0)</th>\n",
       "      <th>(label_ratio, 9.0)</th>\n",
       "      <th>(label_ratio, 10.0)</th>\n",
       "      <th>(label_ratio, 11.0)</th>\n",
       "    </tr>\n",
       "  </thead>\n",
       "  <tbody>\n",
       "    <tr>\n",
       "      <th>0</th>\n",
       "      <td>29182687948017175</td>\n",
       "      <td>46.0</td>\n",
       "      <td>1.0</td>\n",
       "      <td>11.0</td>\n",
       "      <td>51.0</td>\n",
       "      <td>1524.0</td>\n",
       "      <td>00</td>\n",
       "      <td>251.0</td>\n",
       "      <td>0.704919</td>\n",
       "      <td>7.088218</td>\n",
       "      <td>0.666092</td>\n",
       "      <td>7.270231</td>\n",
       "      <td>0.770939</td>\n",
       "      <td>7.373082</td>\n",
       "      <td>0.8</td>\n",
       "      <td>7.644444</td>\n",
       "      <td>NaN</td>\n",
       "      <td>NaN</td>\n",
       "      <td>NaN</td>\n",
       "      <td>NaN</td>\n",
       "      <td>NaN</td>\n",
       "      <td>NaN</td>\n",
       "      <td>NaN</td>\n",
       "      <td>NaN</td>\n",
       "      <td>NaN</td>\n",
       "      <td>NaN</td>\n",
       "      <td>NaN</td>\n",
       "      <td>NaN</td>\n",
       "      <td>NaN</td>\n",
       "      <td>NaN</td>\n",
       "      <td>NaN</td>\n",
       "      <td>3.333333</td>\n",
       "      <td>NaN</td>\n",
       "      <td>NaN</td>\n",
       "      <td>NaN</td>\n",
       "      <td>NaN</td>\n",
       "      <td>NaN</td>\n",
       "      <td>NaN</td>\n",
       "      <td>NaN</td>\n",
       "      <td>NaN</td>\n",
       "      <td>NaN</td>\n",
       "      <td>NaN</td>\n",
       "      <td>NaN</td>\n",
       "      <td>NaN</td>\n",
       "      <td>NaN</td>\n",
       "      <td>NaN</td>\n",
       "      <td>NaN</td>\n",
       "      <td>NaN</td>\n",
       "      <td>NaN</td>\n",
       "      <td>NaN</td>\n",
       "      <td>NaN</td>\n",
       "      <td>NaN</td>\n",
       "      <td>NaN</td>\n",
       "      <td>NaN</td>\n",
       "      <td>NaN</td>\n",
       "      <td>NaN</td>\n",
       "      <td>NaN</td>\n",
       "      <td>NaN</td>\n",
       "      <td>NaN</td>\n",
       "      <td>NaN</td>\n",
       "      <td>NaN</td>\n",
       "      <td>NaN</td>\n",
       "    </tr>\n",
       "    <tr>\n",
       "      <th>3</th>\n",
       "      <td>29182687948017175</td>\n",
       "      <td>46.0</td>\n",
       "      <td>1.0</td>\n",
       "      <td>11.0</td>\n",
       "      <td>51.0</td>\n",
       "      <td>1524.0</td>\n",
       "      <td>00</td>\n",
       "      <td>691.0</td>\n",
       "      <td>0.704919</td>\n",
       "      <td>7.088218</td>\n",
       "      <td>0.666092</td>\n",
       "      <td>7.270231</td>\n",
       "      <td>0.770939</td>\n",
       "      <td>7.373082</td>\n",
       "      <td>0.8</td>\n",
       "      <td>7.644444</td>\n",
       "      <td>NaN</td>\n",
       "      <td>1.002399</td>\n",
       "      <td>2.074696</td>\n",
       "      <td>3.004159</td>\n",
       "      <td>4.005918</td>\n",
       "      <td>5.000960</td>\n",
       "      <td>6.002879</td>\n",
       "      <td>7.013436</td>\n",
       "      <td>8.010077</td>\n",
       "      <td>9.015035</td>\n",
       "      <td>10.028471</td>\n",
       "      <td>11.017754</td>\n",
       "      <td>NaN</td>\n",
       "      <td>1.104167</td>\n",
       "      <td>NaN</td>\n",
       "      <td>NaN</td>\n",
       "      <td>4.114583</td>\n",
       "      <td>NaN</td>\n",
       "      <td>NaN</td>\n",
       "      <td>7.062500</td>\n",
       "      <td>NaN</td>\n",
       "      <td>NaN</td>\n",
       "      <td>NaN</td>\n",
       "      <td>NaN</td>\n",
       "      <td>NaN</td>\n",
       "      <td>NaN</td>\n",
       "      <td>NaN</td>\n",
       "      <td>NaN</td>\n",
       "      <td>NaN</td>\n",
       "      <td>NaN</td>\n",
       "      <td>NaN</td>\n",
       "      <td>NaN</td>\n",
       "      <td>NaN</td>\n",
       "      <td>NaN</td>\n",
       "      <td>NaN</td>\n",
       "      <td>NaN</td>\n",
       "      <td>NaN</td>\n",
       "      <td>NaN</td>\n",
       "      <td>NaN</td>\n",
       "      <td>NaN</td>\n",
       "      <td>NaN</td>\n",
       "      <td>NaN</td>\n",
       "      <td>NaN</td>\n",
       "      <td>NaN</td>\n",
       "      <td>NaN</td>\n",
       "      <td>NaN</td>\n",
       "    </tr>\n",
       "    <tr>\n",
       "      <th>6</th>\n",
       "      <td>29182687948017175</td>\n",
       "      <td>46.0</td>\n",
       "      <td>1.0</td>\n",
       "      <td>11.0</td>\n",
       "      <td>51.0</td>\n",
       "      <td>1524.0</td>\n",
       "      <td>00</td>\n",
       "      <td>405.0</td>\n",
       "      <td>0.704919</td>\n",
       "      <td>7.088218</td>\n",
       "      <td>0.666092</td>\n",
       "      <td>7.270231</td>\n",
       "      <td>0.770939</td>\n",
       "      <td>7.373082</td>\n",
       "      <td>0.8</td>\n",
       "      <td>7.644444</td>\n",
       "      <td>NaN</td>\n",
       "      <td>NaN</td>\n",
       "      <td>NaN</td>\n",
       "      <td>NaN</td>\n",
       "      <td>NaN</td>\n",
       "      <td>NaN</td>\n",
       "      <td>NaN</td>\n",
       "      <td>NaN</td>\n",
       "      <td>NaN</td>\n",
       "      <td>NaN</td>\n",
       "      <td>NaN</td>\n",
       "      <td>NaN</td>\n",
       "      <td>NaN</td>\n",
       "      <td>NaN</td>\n",
       "      <td>2.001965</td>\n",
       "      <td>NaN</td>\n",
       "      <td>4.003929</td>\n",
       "      <td>NaN</td>\n",
       "      <td>6.008841</td>\n",
       "      <td>7.006876</td>\n",
       "      <td>8.018664</td>\n",
       "      <td>9.000982</td>\n",
       "      <td>10.06778</td>\n",
       "      <td>11.003929</td>\n",
       "      <td>NaN</td>\n",
       "      <td>NaN</td>\n",
       "      <td>NaN</td>\n",
       "      <td>NaN</td>\n",
       "      <td>NaN</td>\n",
       "      <td>NaN</td>\n",
       "      <td>NaN</td>\n",
       "      <td>NaN</td>\n",
       "      <td>NaN</td>\n",
       "      <td>NaN</td>\n",
       "      <td>NaN</td>\n",
       "      <td>NaN</td>\n",
       "      <td>0.005814</td>\n",
       "      <td>2.008721</td>\n",
       "      <td>3.005814</td>\n",
       "      <td>5.005814</td>\n",
       "      <td>6.008721</td>\n",
       "      <td>7.017442</td>\n",
       "      <td>8.017442</td>\n",
       "      <td>9.017442</td>\n",
       "      <td>10.014535</td>\n",
       "      <td>11.02907</td>\n",
       "    </tr>\n",
       "    <tr>\n",
       "      <th>9</th>\n",
       "      <td>29182687948017175</td>\n",
       "      <td>46.0</td>\n",
       "      <td>1.0</td>\n",
       "      <td>11.0</td>\n",
       "      <td>51.0</td>\n",
       "      <td>1524.0</td>\n",
       "      <td>00</td>\n",
       "      <td>730.0</td>\n",
       "      <td>0.704919</td>\n",
       "      <td>7.088218</td>\n",
       "      <td>0.666092</td>\n",
       "      <td>7.270231</td>\n",
       "      <td>0.770939</td>\n",
       "      <td>7.373082</td>\n",
       "      <td>0.8</td>\n",
       "      <td>7.644444</td>\n",
       "      <td>NaN</td>\n",
       "      <td>NaN</td>\n",
       "      <td>NaN</td>\n",
       "      <td>NaN</td>\n",
       "      <td>NaN</td>\n",
       "      <td>NaN</td>\n",
       "      <td>NaN</td>\n",
       "      <td>NaN</td>\n",
       "      <td>NaN</td>\n",
       "      <td>NaN</td>\n",
       "      <td>NaN</td>\n",
       "      <td>NaN</td>\n",
       "      <td>NaN</td>\n",
       "      <td>NaN</td>\n",
       "      <td>NaN</td>\n",
       "      <td>NaN</td>\n",
       "      <td>NaN</td>\n",
       "      <td>NaN</td>\n",
       "      <td>NaN</td>\n",
       "      <td>NaN</td>\n",
       "      <td>NaN</td>\n",
       "      <td>NaN</td>\n",
       "      <td>NaN</td>\n",
       "      <td>NaN</td>\n",
       "      <td>NaN</td>\n",
       "      <td>NaN</td>\n",
       "      <td>NaN</td>\n",
       "      <td>NaN</td>\n",
       "      <td>NaN</td>\n",
       "      <td>NaN</td>\n",
       "      <td>NaN</td>\n",
       "      <td>NaN</td>\n",
       "      <td>NaN</td>\n",
       "      <td>NaN</td>\n",
       "      <td>NaN</td>\n",
       "      <td>NaN</td>\n",
       "      <td>0.005814</td>\n",
       "      <td>2.008721</td>\n",
       "      <td>3.005814</td>\n",
       "      <td>5.005814</td>\n",
       "      <td>6.008721</td>\n",
       "      <td>7.017442</td>\n",
       "      <td>8.017442</td>\n",
       "      <td>9.017442</td>\n",
       "      <td>10.014535</td>\n",
       "      <td>11.02907</td>\n",
       "    </tr>\n",
       "    <tr>\n",
       "      <th>12</th>\n",
       "      <td>29182687948017175</td>\n",
       "      <td>46.0</td>\n",
       "      <td>1.0</td>\n",
       "      <td>11.0</td>\n",
       "      <td>51.0</td>\n",
       "      <td>1524.0</td>\n",
       "      <td>00</td>\n",
       "      <td>751.0</td>\n",
       "      <td>0.704919</td>\n",
       "      <td>7.088218</td>\n",
       "      <td>0.666092</td>\n",
       "      <td>7.270231</td>\n",
       "      <td>0.770939</td>\n",
       "      <td>7.373082</td>\n",
       "      <td>0.8</td>\n",
       "      <td>7.644444</td>\n",
       "      <td>NaN</td>\n",
       "      <td>NaN</td>\n",
       "      <td>2.007484</td>\n",
       "      <td>3.000312</td>\n",
       "      <td>4.004989</td>\n",
       "      <td>5.004365</td>\n",
       "      <td>6.000312</td>\n",
       "      <td>7.020892</td>\n",
       "      <td>8.009978</td>\n",
       "      <td>9.016526</td>\n",
       "      <td>10.020892</td>\n",
       "      <td>11.032429</td>\n",
       "      <td>NaN</td>\n",
       "      <td>NaN</td>\n",
       "      <td>NaN</td>\n",
       "      <td>NaN</td>\n",
       "      <td>4.250000</td>\n",
       "      <td>NaN</td>\n",
       "      <td>NaN</td>\n",
       "      <td>NaN</td>\n",
       "      <td>NaN</td>\n",
       "      <td>NaN</td>\n",
       "      <td>NaN</td>\n",
       "      <td>NaN</td>\n",
       "      <td>NaN</td>\n",
       "      <td>NaN</td>\n",
       "      <td>NaN</td>\n",
       "      <td>NaN</td>\n",
       "      <td>NaN</td>\n",
       "      <td>NaN</td>\n",
       "      <td>NaN</td>\n",
       "      <td>NaN</td>\n",
       "      <td>NaN</td>\n",
       "      <td>NaN</td>\n",
       "      <td>NaN</td>\n",
       "      <td>NaN</td>\n",
       "      <td>0.005814</td>\n",
       "      <td>2.008721</td>\n",
       "      <td>3.005814</td>\n",
       "      <td>5.005814</td>\n",
       "      <td>6.008721</td>\n",
       "      <td>7.017442</td>\n",
       "      <td>8.017442</td>\n",
       "      <td>9.017442</td>\n",
       "      <td>10.014535</td>\n",
       "      <td>11.02907</td>\n",
       "    </tr>\n",
       "  </tbody>\n",
       "</table>\n",
       "</div>"
      ],
      "text/plain": [
       "            device_id   age  M_F  group_e  brand  device time  label_id  \\\n",
       "0   29182687948017175  46.0  1.0     11.0   51.0  1524.0   00     251.0   \n",
       "3   29182687948017175  46.0  1.0     11.0   51.0  1524.0   00     691.0   \n",
       "6   29182687948017175  46.0  1.0     11.0   51.0  1524.0   00     405.0   \n",
       "9   29182687948017175  46.0  1.0     11.0   51.0  1524.0   00     730.0   \n",
       "12  29182687948017175  46.0  1.0     11.0   51.0  1524.0   00     751.0   \n",
       "\n",
       "     brand_m   brand_g  device_m  device_g    time_m    time_g  label_m  \\\n",
       "0   0.704919  7.088218  0.666092  7.270231  0.770939  7.373082      0.8   \n",
       "3   0.704919  7.088218  0.666092  7.270231  0.770939  7.373082      0.8   \n",
       "6   0.704919  7.088218  0.666092  7.270231  0.770939  7.373082      0.8   \n",
       "9   0.704919  7.088218  0.666092  7.270231  0.770939  7.373082      0.8   \n",
       "12  0.704919  7.088218  0.666092  7.270231  0.770939  7.373082      0.8   \n",
       "\n",
       "     label_g  (brand_ratio, 0.0)  (brand_ratio, 1.0)  (brand_ratio, 2.0)  \\\n",
       "0   7.644444                 NaN                 NaN                 NaN   \n",
       "3   7.644444                 NaN            1.002399            2.074696   \n",
       "6   7.644444                 NaN                 NaN                 NaN   \n",
       "9   7.644444                 NaN                 NaN                 NaN   \n",
       "12  7.644444                 NaN                 NaN            2.007484   \n",
       "\n",
       "    (brand_ratio, 3.0)  (brand_ratio, 4.0)  (brand_ratio, 5.0)  \\\n",
       "0                  NaN                 NaN                 NaN   \n",
       "3             3.004159            4.005918            5.000960   \n",
       "6                  NaN                 NaN                 NaN   \n",
       "9                  NaN                 NaN                 NaN   \n",
       "12            3.000312            4.004989            5.004365   \n",
       "\n",
       "    (brand_ratio, 6.0)  (brand_ratio, 7.0)  (brand_ratio, 8.0)  \\\n",
       "0                  NaN                 NaN                 NaN   \n",
       "3             6.002879            7.013436            8.010077   \n",
       "6                  NaN                 NaN                 NaN   \n",
       "9                  NaN                 NaN                 NaN   \n",
       "12            6.000312            7.020892            8.009978   \n",
       "\n",
       "    (brand_ratio, 9.0)  (brand_ratio, 10.0)  (brand_ratio, 11.0)  \\\n",
       "0                  NaN                  NaN                  NaN   \n",
       "3             9.015035            10.028471            11.017754   \n",
       "6                  NaN                  NaN                  NaN   \n",
       "9                  NaN                  NaN                  NaN   \n",
       "12            9.016526            10.020892            11.032429   \n",
       "\n",
       "    (device_ratio, 0.0)  (device_ratio, 1.0)  (device_ratio, 2.0)  \\\n",
       "0                   NaN                  NaN                  NaN   \n",
       "3                   NaN             1.104167                  NaN   \n",
       "6                   NaN                  NaN             2.001965   \n",
       "9                   NaN                  NaN                  NaN   \n",
       "12                  NaN                  NaN                  NaN   \n",
       "\n",
       "    (device_ratio, 3.0)  (device_ratio, 4.0)  (device_ratio, 5.0)  \\\n",
       "0              3.333333                  NaN                  NaN   \n",
       "3                   NaN             4.114583                  NaN   \n",
       "6                   NaN             4.003929                  NaN   \n",
       "9                   NaN                  NaN                  NaN   \n",
       "12                  NaN             4.250000                  NaN   \n",
       "\n",
       "    (device_ratio, 6.0)  (device_ratio, 7.0)  (device_ratio, 8.0)  \\\n",
       "0                   NaN                  NaN                  NaN   \n",
       "3                   NaN             7.062500                  NaN   \n",
       "6              6.008841             7.006876             8.018664   \n",
       "9                   NaN                  NaN                  NaN   \n",
       "12                  NaN                  NaN                  NaN   \n",
       "\n",
       "    (device_ratio, 9.0)  (device_ratio, 10.0)  (device_ratio, 11.0)  \\\n",
       "0                   NaN                   NaN                   NaN   \n",
       "3                   NaN                   NaN                   NaN   \n",
       "6              9.000982              10.06778             11.003929   \n",
       "9                   NaN                   NaN                   NaN   \n",
       "12                  NaN                   NaN                   NaN   \n",
       "\n",
       "    (time_ratio, 0.0)  (time_ratio, 1.0)  (time_ratio, 2.0)  \\\n",
       "0                 NaN                NaN                NaN   \n",
       "3                 NaN                NaN                NaN   \n",
       "6                 NaN                NaN                NaN   \n",
       "9                 NaN                NaN                NaN   \n",
       "12                NaN                NaN                NaN   \n",
       "\n",
       "    (time_ratio, 3.0)  (time_ratio, 4.0)  (time_ratio, 5.0)  \\\n",
       "0                 NaN                NaN                NaN   \n",
       "3                 NaN                NaN                NaN   \n",
       "6                 NaN                NaN                NaN   \n",
       "9                 NaN                NaN                NaN   \n",
       "12                NaN                NaN                NaN   \n",
       "\n",
       "    (time_ratio, 6.0)  (time_ratio, 7.0)  (time_ratio, 8.0)  \\\n",
       "0                 NaN                NaN                NaN   \n",
       "3                 NaN                NaN                NaN   \n",
       "6                 NaN                NaN                NaN   \n",
       "9                 NaN                NaN                NaN   \n",
       "12                NaN                NaN                NaN   \n",
       "\n",
       "    (time_ratio, 9.0)  (time_ratio, 10.0)  (time_ratio, 11.0)  \\\n",
       "0                 NaN                 NaN                 NaN   \n",
       "3                 NaN                 NaN                 NaN   \n",
       "6                 NaN                 NaN                 NaN   \n",
       "9                 NaN                 NaN                 NaN   \n",
       "12                NaN                 NaN                 NaN   \n",
       "\n",
       "    (label_ratio, 0.0)  (label_ratio, 2.0)  (label_ratio, 3.0)  \\\n",
       "0                  NaN                 NaN                 NaN   \n",
       "3                  NaN                 NaN                 NaN   \n",
       "6             0.005814            2.008721            3.005814   \n",
       "9             0.005814            2.008721            3.005814   \n",
       "12            0.005814            2.008721            3.005814   \n",
       "\n",
       "    (label_ratio, 5.0)  (label_ratio, 6.0)  (label_ratio, 7.0)  \\\n",
       "0                  NaN                 NaN                 NaN   \n",
       "3                  NaN                 NaN                 NaN   \n",
       "6             5.005814            6.008721            7.017442   \n",
       "9             5.005814            6.008721            7.017442   \n",
       "12            5.005814            6.008721            7.017442   \n",
       "\n",
       "    (label_ratio, 8.0)  (label_ratio, 9.0)  (label_ratio, 10.0)  \\\n",
       "0                  NaN                 NaN                  NaN   \n",
       "3                  NaN                 NaN                  NaN   \n",
       "6             8.017442            9.017442            10.014535   \n",
       "9             8.017442            9.017442            10.014535   \n",
       "12            8.017442            9.017442            10.014535   \n",
       "\n",
       "    (label_ratio, 11.0)  \n",
       "0                   NaN  \n",
       "3                   NaN  \n",
       "6              11.02907  \n",
       "9              11.02907  \n",
       "12             11.02907  "
      ]
     },
     "execution_count": 38,
     "metadata": {},
     "output_type": "execute_result"
    }
   ],
   "source": [
    "tmp.head()"
   ]
  },
  {
   "cell_type": "code",
   "execution_count": null,
   "metadata": {
    "collapsed": true
   },
   "outputs": [],
   "source": []
  },
  {
   "cell_type": "markdown",
   "metadata": {},
   "source": [
    "### MERGE 본체"
   ]
  },
  {
   "cell_type": "code",
   "execution_count": 45,
   "metadata": {
    "collapsed": true
   },
   "outputs": [],
   "source": [
    "total = age_bran_time_app_label[['device_id', 'phone_brand', 'device_model', 'brand', 'device', 'M_F','age', 'group_e', 'event_id',\n",
    "                                'longitude', 'latitude', 'time', 'app_id', 'label_id']]"
   ]
  },
  {
   "cell_type": "code",
   "execution_count": 46,
   "metadata": {
    "collapsed": true
   },
   "outputs": [],
   "source": [
    "total_b = pd.merge(total, g_brand_rate, how = 'left', on = ['phone_brand', 'group_e'])"
   ]
  },
  {
   "cell_type": "code",
   "execution_count": 47,
   "metadata": {
    "collapsed": true
   },
   "outputs": [],
   "source": [
    "total_m = pd.merge(total_b, g_model_rate, how = 'left', on = ['device_model', 'group_e'])"
   ]
  },
  {
   "cell_type": "code",
   "execution_count": 48,
   "metadata": {
    "collapsed": true
   },
   "outputs": [],
   "source": [
    "total_all = pd.merge(total_m, g_label_group, how = 'left', on = ['label_id', 'group_e'])"
   ]
  },
  {
   "cell_type": "code",
   "execution_count": null,
   "metadata": {
    "collapsed": true
   },
   "outputs": [],
   "source": []
  },
  {
   "cell_type": "code",
   "execution_count": 49,
   "metadata": {
    "collapsed": true
   },
   "outputs": [],
   "source": [
    "tmp = pd.merge(age_bran_time_e, g_tmp_, how = 'left', on = ['group_e', 'time'])\n",
    "\n",
    "#tmp = tmp[['device_id', 'brand', 'device', 'age', 'M_F', 'group_e', 'event_id', 'longitude', 'latitude', 'time', 'time_g_ratio']]"
   ]
  },
  {
   "cell_type": "code",
   "execution_count": 156,
   "metadata": {},
   "outputs": [
    {
     "data": {
      "text/html": [
       "<div>\n",
       "<style>\n",
       "    .dataframe thead tr:only-child th {\n",
       "        text-align: right;\n",
       "    }\n",
       "\n",
       "    .dataframe thead th {\n",
       "        text-align: left;\n",
       "    }\n",
       "\n",
       "    .dataframe tbody tr th {\n",
       "        vertical-align: top;\n",
       "    }\n",
       "</style>\n",
       "<table border=\"1\" class=\"dataframe\">\n",
       "  <thead>\n",
       "    <tr style=\"text-align: right;\">\n",
       "      <th></th>\n",
       "      <th>device_id</th>\n",
       "      <th>phone_brand</th>\n",
       "      <th>device_model</th>\n",
       "      <th>brand</th>\n",
       "      <th>device</th>\n",
       "      <th>M_F</th>\n",
       "      <th>age</th>\n",
       "      <th>group_e</th>\n",
       "      <th>event_id</th>\n",
       "      <th>longitude</th>\n",
       "      <th>latitude</th>\n",
       "      <th>time</th>\n",
       "      <th>app_id</th>\n",
       "      <th>label_id</th>\n",
       "      <th>brand_group_count</th>\n",
       "      <th>brand_group_sum</th>\n",
       "      <th>brand_ratio</th>\n",
       "      <th>model_group_count</th>\n",
       "      <th>model_group_sum</th>\n",
       "      <th>device_ratio</th>\n",
       "      <th>count</th>\n",
       "      <th>sum</th>\n",
       "      <th>label_ratio</th>\n",
       "    </tr>\n",
       "  </thead>\n",
       "  <tbody>\n",
       "    <tr>\n",
       "      <th>0</th>\n",
       "      <td>-8890648629457979026</td>\n",
       "      <td>小米</td>\n",
       "      <td>红米</td>\n",
       "      <td>51</td>\n",
       "      <td>1517</td>\n",
       "      <td>1.0</td>\n",
       "      <td>33.0</td>\n",
       "      <td>10.0</td>\n",
       "      <td>NaN</td>\n",
       "      <td>NaN</td>\n",
       "      <td>NaN</td>\n",
       "      <td>NaN</td>\n",
       "      <td>NaN</td>\n",
       "      <td>NaN</td>\n",
       "      <td>2147.0</td>\n",
       "      <td>111483.0</td>\n",
       "      <td>0.019259</td>\n",
       "      <td>129.0</td>\n",
       "      <td>6300.0</td>\n",
       "      <td>0.020476</td>\n",
       "      <td>NaN</td>\n",
       "      <td>NaN</td>\n",
       "      <td>NaN</td>\n",
       "    </tr>\n",
       "    <tr>\n",
       "      <th>1</th>\n",
       "      <td>1277779817574759137</td>\n",
       "      <td>小米</td>\n",
       "      <td>MI 2</td>\n",
       "      <td>51</td>\n",
       "      <td>749</td>\n",
       "      <td>1.0</td>\n",
       "      <td>26.0</td>\n",
       "      <td>7.0</td>\n",
       "      <td>NaN</td>\n",
       "      <td>NaN</td>\n",
       "      <td>NaN</td>\n",
       "      <td>NaN</td>\n",
       "      <td>NaN</td>\n",
       "      <td>NaN</td>\n",
       "      <td>2440.0</td>\n",
       "      <td>111483.0</td>\n",
       "      <td>0.021887</td>\n",
       "      <td>88.0</td>\n",
       "      <td>3476.0</td>\n",
       "      <td>0.025316</td>\n",
       "      <td>NaN</td>\n",
       "      <td>NaN</td>\n",
       "      <td>NaN</td>\n",
       "    </tr>\n",
       "    <tr>\n",
       "      <th>2</th>\n",
       "      <td>5137427614288105724</td>\n",
       "      <td>三星</td>\n",
       "      <td>Galaxy S4</td>\n",
       "      <td>15</td>\n",
       "      <td>560</td>\n",
       "      <td>NaN</td>\n",
       "      <td>NaN</td>\n",
       "      <td>NaN</td>\n",
       "      <td>571915</td>\n",
       "      <td>0.0</td>\n",
       "      <td>0.0</td>\n",
       "      <td>08</td>\n",
       "      <td>NaN</td>\n",
       "      <td>NaN</td>\n",
       "      <td>NaN</td>\n",
       "      <td>NaN</td>\n",
       "      <td>NaN</td>\n",
       "      <td>NaN</td>\n",
       "      <td>NaN</td>\n",
       "      <td>NaN</td>\n",
       "      <td>NaN</td>\n",
       "      <td>NaN</td>\n",
       "      <td>NaN</td>\n",
       "    </tr>\n",
       "    <tr>\n",
       "      <th>3</th>\n",
       "      <td>5137427614288105724</td>\n",
       "      <td>三星</td>\n",
       "      <td>Galaxy S4</td>\n",
       "      <td>15</td>\n",
       "      <td>560</td>\n",
       "      <td>NaN</td>\n",
       "      <td>NaN</td>\n",
       "      <td>NaN</td>\n",
       "      <td>1.41448e+06</td>\n",
       "      <td>0.0</td>\n",
       "      <td>0.0</td>\n",
       "      <td>22</td>\n",
       "      <td>NaN</td>\n",
       "      <td>NaN</td>\n",
       "      <td>NaN</td>\n",
       "      <td>NaN</td>\n",
       "      <td>NaN</td>\n",
       "      <td>NaN</td>\n",
       "      <td>NaN</td>\n",
       "      <td>NaN</td>\n",
       "      <td>NaN</td>\n",
       "      <td>NaN</td>\n",
       "      <td>NaN</td>\n",
       "    </tr>\n",
       "    <tr>\n",
       "      <th>4</th>\n",
       "      <td>5137427614288105724</td>\n",
       "      <td>三星</td>\n",
       "      <td>Galaxy S4</td>\n",
       "      <td>15</td>\n",
       "      <td>560</td>\n",
       "      <td>NaN</td>\n",
       "      <td>NaN</td>\n",
       "      <td>NaN</td>\n",
       "      <td>3.04942e+06</td>\n",
       "      <td>0.0</td>\n",
       "      <td>0.0</td>\n",
       "      <td>08</td>\n",
       "      <td>NaN</td>\n",
       "      <td>NaN</td>\n",
       "      <td>NaN</td>\n",
       "      <td>NaN</td>\n",
       "      <td>NaN</td>\n",
       "      <td>NaN</td>\n",
       "      <td>NaN</td>\n",
       "      <td>NaN</td>\n",
       "      <td>NaN</td>\n",
       "      <td>NaN</td>\n",
       "      <td>NaN</td>\n",
       "    </tr>\n",
       "  </tbody>\n",
       "</table>\n",
       "</div>"
      ],
      "text/plain": [
       "             device_id phone_brand device_model  brand  device  M_F   age  \\\n",
       "0 -8890648629457979026          小米           红米     51    1517  1.0  33.0   \n",
       "1  1277779817574759137          小米         MI 2     51     749  1.0  26.0   \n",
       "2  5137427614288105724          三星    Galaxy S4     15     560  NaN   NaN   \n",
       "3  5137427614288105724          三星    Galaxy S4     15     560  NaN   NaN   \n",
       "4  5137427614288105724          三星    Galaxy S4     15     560  NaN   NaN   \n",
       "\n",
       "   group_e     event_id  longitude  latitude time app_id  label_id  \\\n",
       "0     10.0          NaN        NaN       NaN  NaN    NaN       NaN   \n",
       "1      7.0          NaN        NaN       NaN  NaN    NaN       NaN   \n",
       "2      NaN       571915        0.0       0.0   08    NaN       NaN   \n",
       "3      NaN  1.41448e+06        0.0       0.0   22    NaN       NaN   \n",
       "4      NaN  3.04942e+06        0.0       0.0   08    NaN       NaN   \n",
       "\n",
       "   brand_group_count  brand_group_sum  brand_ratio  model_group_count  \\\n",
       "0             2147.0         111483.0     0.019259              129.0   \n",
       "1             2440.0         111483.0     0.021887               88.0   \n",
       "2                NaN              NaN          NaN                NaN   \n",
       "3                NaN              NaN          NaN                NaN   \n",
       "4                NaN              NaN          NaN                NaN   \n",
       "\n",
       "   model_group_sum  device_ratio  count  sum  label_ratio  \n",
       "0           6300.0      0.020476    NaN  NaN          NaN  \n",
       "1           3476.0      0.025316    NaN  NaN          NaN  \n",
       "2              NaN           NaN    NaN  NaN          NaN  \n",
       "3              NaN           NaN    NaN  NaN          NaN  \n",
       "4              NaN           NaN    NaN  NaN          NaN  "
      ]
     },
     "execution_count": 156,
     "metadata": {},
     "output_type": "execute_result"
    }
   ],
   "source": [
    "total_all.head()"
   ]
  },
  {
   "cell_type": "code",
   "execution_count": 53,
   "metadata": {},
   "outputs": [
    {
     "ename": "MemoryError",
     "evalue": "",
     "output_type": "error",
     "traceback": [
      "\u001b[1;31m---------------------------------------------------------------------------\u001b[0m",
      "\u001b[1;31mMemoryError\u001b[0m                               Traceback (most recent call last)",
      "\u001b[1;32m<ipython-input-53-9496ff19e18c>\u001b[0m in \u001b[0;36m<module>\u001b[1;34m()\u001b[0m\n\u001b[0;32m      1\u001b[0m total_e = total_all.loc[:,['group_e', 'device_id', 'app_id', 'label_id', 'brand', 'device', 'M_F', 'age',  'time',  'brand_ratio', \n\u001b[1;32m----> 2\u001b[1;33m                            'device_ratio', 'label_ratio']]\n\u001b[0m",
      "\u001b[1;32mC:\\Python36\\lib\\site-packages\\pandas\\core\\indexing.py\u001b[0m in \u001b[0;36m__getitem__\u001b[1;34m(self, key)\u001b[0m\n\u001b[0;32m   1323\u001b[0m             \u001b[1;32mexcept\u001b[0m \u001b[1;33m(\u001b[0m\u001b[0mKeyError\u001b[0m\u001b[1;33m,\u001b[0m \u001b[0mIndexError\u001b[0m\u001b[1;33m)\u001b[0m\u001b[1;33m:\u001b[0m\u001b[1;33m\u001b[0m\u001b[0m\n\u001b[0;32m   1324\u001b[0m                 \u001b[1;32mpass\u001b[0m\u001b[1;33m\u001b[0m\u001b[0m\n\u001b[1;32m-> 1325\u001b[1;33m             \u001b[1;32mreturn\u001b[0m \u001b[0mself\u001b[0m\u001b[1;33m.\u001b[0m\u001b[0m_getitem_tuple\u001b[0m\u001b[1;33m(\u001b[0m\u001b[0mkey\u001b[0m\u001b[1;33m)\u001b[0m\u001b[1;33m\u001b[0m\u001b[0m\n\u001b[0m\u001b[0;32m   1326\u001b[0m         \u001b[1;32melse\u001b[0m\u001b[1;33m:\u001b[0m\u001b[1;33m\u001b[0m\u001b[0m\n\u001b[0;32m   1327\u001b[0m             \u001b[0mkey\u001b[0m \u001b[1;33m=\u001b[0m \u001b[0mcom\u001b[0m\u001b[1;33m.\u001b[0m\u001b[0m_apply_if_callable\u001b[0m\u001b[1;33m(\u001b[0m\u001b[0mkey\u001b[0m\u001b[1;33m,\u001b[0m \u001b[0mself\u001b[0m\u001b[1;33m.\u001b[0m\u001b[0mobj\u001b[0m\u001b[1;33m)\u001b[0m\u001b[1;33m\u001b[0m\u001b[0m\n",
      "\u001b[1;32mC:\\Python36\\lib\\site-packages\\pandas\\core\\indexing.py\u001b[0m in \u001b[0;36m_getitem_tuple\u001b[1;34m(self, tup)\u001b[0m\n\u001b[0;32m    854\u001b[0m                 \u001b[1;32mcontinue\u001b[0m\u001b[1;33m\u001b[0m\u001b[0m\n\u001b[0;32m    855\u001b[0m \u001b[1;33m\u001b[0m\u001b[0m\n\u001b[1;32m--> 856\u001b[1;33m             \u001b[0mretval\u001b[0m \u001b[1;33m=\u001b[0m \u001b[0mgetattr\u001b[0m\u001b[1;33m(\u001b[0m\u001b[0mretval\u001b[0m\u001b[1;33m,\u001b[0m \u001b[0mself\u001b[0m\u001b[1;33m.\u001b[0m\u001b[0mname\u001b[0m\u001b[1;33m)\u001b[0m\u001b[1;33m.\u001b[0m\u001b[0m_getitem_axis\u001b[0m\u001b[1;33m(\u001b[0m\u001b[0mkey\u001b[0m\u001b[1;33m,\u001b[0m \u001b[0maxis\u001b[0m\u001b[1;33m=\u001b[0m\u001b[0mi\u001b[0m\u001b[1;33m)\u001b[0m\u001b[1;33m\u001b[0m\u001b[0m\n\u001b[0m\u001b[0;32m    857\u001b[0m \u001b[1;33m\u001b[0m\u001b[0m\n\u001b[0;32m    858\u001b[0m         \u001b[1;32mreturn\u001b[0m \u001b[0mretval\u001b[0m\u001b[1;33m\u001b[0m\u001b[0m\n",
      "\u001b[1;32mC:\\Python36\\lib\\site-packages\\pandas\\core\\indexing.py\u001b[0m in \u001b[0;36m_getitem_axis\u001b[1;34m(self, key, axis)\u001b[0m\n\u001b[0;32m   1539\u001b[0m                     \u001b[1;32mraise\u001b[0m \u001b[0mValueError\u001b[0m\u001b[1;33m(\u001b[0m\u001b[1;34m'Cannot index with multidimensional key'\u001b[0m\u001b[1;33m)\u001b[0m\u001b[1;33m\u001b[0m\u001b[0m\n\u001b[0;32m   1540\u001b[0m \u001b[1;33m\u001b[0m\u001b[0m\n\u001b[1;32m-> 1541\u001b[1;33m                 \u001b[1;32mreturn\u001b[0m \u001b[0mself\u001b[0m\u001b[1;33m.\u001b[0m\u001b[0m_getitem_iterable\u001b[0m\u001b[1;33m(\u001b[0m\u001b[0mkey\u001b[0m\u001b[1;33m,\u001b[0m \u001b[0maxis\u001b[0m\u001b[1;33m=\u001b[0m\u001b[0maxis\u001b[0m\u001b[1;33m)\u001b[0m\u001b[1;33m\u001b[0m\u001b[0m\n\u001b[0m\u001b[0;32m   1542\u001b[0m \u001b[1;33m\u001b[0m\u001b[0m\n\u001b[0;32m   1543\u001b[0m             \u001b[1;31m# nested tuple slicing\u001b[0m\u001b[1;33m\u001b[0m\u001b[1;33m\u001b[0m\u001b[0m\n",
      "\u001b[1;32mC:\\Python36\\lib\\site-packages\\pandas\\core\\indexing.py\u001b[0m in \u001b[0;36m_getitem_iterable\u001b[1;34m(self, key, axis)\u001b[0m\n\u001b[0;32m   1099\u001b[0m \u001b[1;33m\u001b[0m\u001b[0m\n\u001b[0;32m   1100\u001b[0m                 \u001b[1;32mtry\u001b[0m\u001b[1;33m:\u001b[0m\u001b[1;33m\u001b[0m\u001b[0m\n\u001b[1;32m-> 1101\u001b[1;33m                     \u001b[1;32mreturn\u001b[0m \u001b[0mself\u001b[0m\u001b[1;33m.\u001b[0m\u001b[0mobj\u001b[0m\u001b[1;33m.\u001b[0m\u001b[0mreindex_axis\u001b[0m\u001b[1;33m(\u001b[0m\u001b[0mkeyarr\u001b[0m\u001b[1;33m,\u001b[0m \u001b[0maxis\u001b[0m\u001b[1;33m=\u001b[0m\u001b[0maxis\u001b[0m\u001b[1;33m)\u001b[0m\u001b[1;33m\u001b[0m\u001b[0m\n\u001b[0m\u001b[0;32m   1102\u001b[0m                 \u001b[1;32mexcept\u001b[0m \u001b[0mAttributeError\u001b[0m\u001b[1;33m:\u001b[0m\u001b[1;33m\u001b[0m\u001b[0m\n\u001b[0;32m   1103\u001b[0m \u001b[1;33m\u001b[0m\u001b[0m\n",
      "\u001b[1;32mC:\\Python36\\lib\\site-packages\\pandas\\core\\frame.py\u001b[0m in \u001b[0;36mreindex_axis\u001b[1;34m(self, labels, axis, method, level, copy, limit, fill_value)\u001b[0m\n\u001b[0;32m   2739\u001b[0m                      \u001b[0mself\u001b[0m\u001b[1;33m)\u001b[0m\u001b[1;33m.\u001b[0m\u001b[0mreindex_axis\u001b[0m\u001b[1;33m(\u001b[0m\u001b[0mlabels\u001b[0m\u001b[1;33m=\u001b[0m\u001b[0mlabels\u001b[0m\u001b[1;33m,\u001b[0m \u001b[0maxis\u001b[0m\u001b[1;33m=\u001b[0m\u001b[0maxis\u001b[0m\u001b[1;33m,\u001b[0m\u001b[1;33m\u001b[0m\u001b[0m\n\u001b[0;32m   2740\u001b[0m                                         \u001b[0mmethod\u001b[0m\u001b[1;33m=\u001b[0m\u001b[0mmethod\u001b[0m\u001b[1;33m,\u001b[0m \u001b[0mlevel\u001b[0m\u001b[1;33m=\u001b[0m\u001b[0mlevel\u001b[0m\u001b[1;33m,\u001b[0m \u001b[0mcopy\u001b[0m\u001b[1;33m=\u001b[0m\u001b[0mcopy\u001b[0m\u001b[1;33m,\u001b[0m\u001b[1;33m\u001b[0m\u001b[0m\n\u001b[1;32m-> 2741\u001b[1;33m                                         limit=limit, fill_value=fill_value)\n\u001b[0m\u001b[0;32m   2742\u001b[0m \u001b[1;33m\u001b[0m\u001b[0m\n\u001b[0;32m   2743\u001b[0m     \u001b[1;33m@\u001b[0m\u001b[0mAppender\u001b[0m\u001b[1;33m(\u001b[0m\u001b[0m_shared_docs\u001b[0m\u001b[1;33m[\u001b[0m\u001b[1;34m'rename'\u001b[0m\u001b[1;33m]\u001b[0m \u001b[1;33m%\u001b[0m \u001b[0m_shared_doc_kwargs\u001b[0m\u001b[1;33m)\u001b[0m\u001b[1;33m\u001b[0m\u001b[0m\n",
      "\u001b[1;32mC:\\Python36\\lib\\site-packages\\pandas\\core\\generic.py\u001b[0m in \u001b[0;36mreindex_axis\u001b[1;34m(self, labels, axis, method, level, copy, limit, fill_value)\u001b[0m\n\u001b[0;32m   2594\u001b[0m     def reindex_axis(self, labels, axis=0, method=None, level=None, copy=True,\n\u001b[0;32m   2595\u001b[0m                      limit=None, fill_value=np.nan):\n\u001b[1;32m-> 2596\u001b[1;33m         \u001b[0mself\u001b[0m\u001b[1;33m.\u001b[0m\u001b[0m_consolidate_inplace\u001b[0m\u001b[1;33m(\u001b[0m\u001b[1;33m)\u001b[0m\u001b[1;33m\u001b[0m\u001b[0m\n\u001b[0m\u001b[0;32m   2597\u001b[0m \u001b[1;33m\u001b[0m\u001b[0m\n\u001b[0;32m   2598\u001b[0m         \u001b[0maxis_name\u001b[0m \u001b[1;33m=\u001b[0m \u001b[0mself\u001b[0m\u001b[1;33m.\u001b[0m\u001b[0m_get_axis_name\u001b[0m\u001b[1;33m(\u001b[0m\u001b[0maxis\u001b[0m\u001b[1;33m)\u001b[0m\u001b[1;33m\u001b[0m\u001b[0m\n",
      "\u001b[1;32mC:\\Python36\\lib\\site-packages\\pandas\\core\\generic.py\u001b[0m in \u001b[0;36m_consolidate_inplace\u001b[1;34m(self)\u001b[0m\n\u001b[0;32m   3136\u001b[0m             \u001b[0mself\u001b[0m\u001b[1;33m.\u001b[0m\u001b[0m_data\u001b[0m \u001b[1;33m=\u001b[0m \u001b[0mself\u001b[0m\u001b[1;33m.\u001b[0m\u001b[0m_data\u001b[0m\u001b[1;33m.\u001b[0m\u001b[0mconsolidate\u001b[0m\u001b[1;33m(\u001b[0m\u001b[1;33m)\u001b[0m\u001b[1;33m\u001b[0m\u001b[0m\n\u001b[0;32m   3137\u001b[0m \u001b[1;33m\u001b[0m\u001b[0m\n\u001b[1;32m-> 3138\u001b[1;33m         \u001b[0mself\u001b[0m\u001b[1;33m.\u001b[0m\u001b[0m_protect_consolidate\u001b[0m\u001b[1;33m(\u001b[0m\u001b[0mf\u001b[0m\u001b[1;33m)\u001b[0m\u001b[1;33m\u001b[0m\u001b[0m\n\u001b[0m\u001b[0;32m   3139\u001b[0m \u001b[1;33m\u001b[0m\u001b[0m\n\u001b[0;32m   3140\u001b[0m     \u001b[1;32mdef\u001b[0m \u001b[0m_consolidate\u001b[0m\u001b[1;33m(\u001b[0m\u001b[0mself\u001b[0m\u001b[1;33m,\u001b[0m \u001b[0minplace\u001b[0m\u001b[1;33m=\u001b[0m\u001b[1;32mFalse\u001b[0m\u001b[1;33m)\u001b[0m\u001b[1;33m:\u001b[0m\u001b[1;33m\u001b[0m\u001b[0m\n",
      "\u001b[1;32mC:\\Python36\\lib\\site-packages\\pandas\\core\\generic.py\u001b[0m in \u001b[0;36m_protect_consolidate\u001b[1;34m(self, f)\u001b[0m\n\u001b[0;32m   3125\u001b[0m         \"\"\"\n\u001b[0;32m   3126\u001b[0m         \u001b[0mblocks_before\u001b[0m \u001b[1;33m=\u001b[0m \u001b[0mlen\u001b[0m\u001b[1;33m(\u001b[0m\u001b[0mself\u001b[0m\u001b[1;33m.\u001b[0m\u001b[0m_data\u001b[0m\u001b[1;33m.\u001b[0m\u001b[0mblocks\u001b[0m\u001b[1;33m)\u001b[0m\u001b[1;33m\u001b[0m\u001b[0m\n\u001b[1;32m-> 3127\u001b[1;33m         \u001b[0mresult\u001b[0m \u001b[1;33m=\u001b[0m \u001b[0mf\u001b[0m\u001b[1;33m(\u001b[0m\u001b[1;33m)\u001b[0m\u001b[1;33m\u001b[0m\u001b[0m\n\u001b[0m\u001b[0;32m   3128\u001b[0m         \u001b[1;32mif\u001b[0m \u001b[0mlen\u001b[0m\u001b[1;33m(\u001b[0m\u001b[0mself\u001b[0m\u001b[1;33m.\u001b[0m\u001b[0m_data\u001b[0m\u001b[1;33m.\u001b[0m\u001b[0mblocks\u001b[0m\u001b[1;33m)\u001b[0m \u001b[1;33m!=\u001b[0m \u001b[0mblocks_before\u001b[0m\u001b[1;33m:\u001b[0m\u001b[1;33m\u001b[0m\u001b[0m\n\u001b[0;32m   3129\u001b[0m             \u001b[0mself\u001b[0m\u001b[1;33m.\u001b[0m\u001b[0m_clear_item_cache\u001b[0m\u001b[1;33m(\u001b[0m\u001b[1;33m)\u001b[0m\u001b[1;33m\u001b[0m\u001b[0m\n",
      "\u001b[1;32mC:\\Python36\\lib\\site-packages\\pandas\\core\\generic.py\u001b[0m in \u001b[0;36mf\u001b[1;34m()\u001b[0m\n\u001b[0;32m   3134\u001b[0m \u001b[1;33m\u001b[0m\u001b[0m\n\u001b[0;32m   3135\u001b[0m         \u001b[1;32mdef\u001b[0m \u001b[0mf\u001b[0m\u001b[1;33m(\u001b[0m\u001b[1;33m)\u001b[0m\u001b[1;33m:\u001b[0m\u001b[1;33m\u001b[0m\u001b[0m\n\u001b[1;32m-> 3136\u001b[1;33m             \u001b[0mself\u001b[0m\u001b[1;33m.\u001b[0m\u001b[0m_data\u001b[0m \u001b[1;33m=\u001b[0m \u001b[0mself\u001b[0m\u001b[1;33m.\u001b[0m\u001b[0m_data\u001b[0m\u001b[1;33m.\u001b[0m\u001b[0mconsolidate\u001b[0m\u001b[1;33m(\u001b[0m\u001b[1;33m)\u001b[0m\u001b[1;33m\u001b[0m\u001b[0m\n\u001b[0m\u001b[0;32m   3137\u001b[0m \u001b[1;33m\u001b[0m\u001b[0m\n\u001b[0;32m   3138\u001b[0m         \u001b[0mself\u001b[0m\u001b[1;33m.\u001b[0m\u001b[0m_protect_consolidate\u001b[0m\u001b[1;33m(\u001b[0m\u001b[0mf\u001b[0m\u001b[1;33m)\u001b[0m\u001b[1;33m\u001b[0m\u001b[0m\n",
      "\u001b[1;32mC:\\Python36\\lib\\site-packages\\pandas\\core\\internals.py\u001b[0m in \u001b[0;36mconsolidate\u001b[1;34m(self)\u001b[0m\n\u001b[0;32m   3571\u001b[0m         \u001b[0mbm\u001b[0m \u001b[1;33m=\u001b[0m \u001b[0mself\u001b[0m\u001b[1;33m.\u001b[0m\u001b[0m__class__\u001b[0m\u001b[1;33m(\u001b[0m\u001b[0mself\u001b[0m\u001b[1;33m.\u001b[0m\u001b[0mblocks\u001b[0m\u001b[1;33m,\u001b[0m \u001b[0mself\u001b[0m\u001b[1;33m.\u001b[0m\u001b[0maxes\u001b[0m\u001b[1;33m)\u001b[0m\u001b[1;33m\u001b[0m\u001b[0m\n\u001b[0;32m   3572\u001b[0m         \u001b[0mbm\u001b[0m\u001b[1;33m.\u001b[0m\u001b[0m_is_consolidated\u001b[0m \u001b[1;33m=\u001b[0m \u001b[1;32mFalse\u001b[0m\u001b[1;33m\u001b[0m\u001b[0m\n\u001b[1;32m-> 3573\u001b[1;33m         \u001b[0mbm\u001b[0m\u001b[1;33m.\u001b[0m\u001b[0m_consolidate_inplace\u001b[0m\u001b[1;33m(\u001b[0m\u001b[1;33m)\u001b[0m\u001b[1;33m\u001b[0m\u001b[0m\n\u001b[0m\u001b[0;32m   3574\u001b[0m         \u001b[1;32mreturn\u001b[0m \u001b[0mbm\u001b[0m\u001b[1;33m\u001b[0m\u001b[0m\n\u001b[0;32m   3575\u001b[0m \u001b[1;33m\u001b[0m\u001b[0m\n",
      "\u001b[1;32mC:\\Python36\\lib\\site-packages\\pandas\\core\\internals.py\u001b[0m in \u001b[0;36m_consolidate_inplace\u001b[1;34m(self)\u001b[0m\n\u001b[0;32m   3576\u001b[0m     \u001b[1;32mdef\u001b[0m \u001b[0m_consolidate_inplace\u001b[0m\u001b[1;33m(\u001b[0m\u001b[0mself\u001b[0m\u001b[1;33m)\u001b[0m\u001b[1;33m:\u001b[0m\u001b[1;33m\u001b[0m\u001b[0m\n\u001b[0;32m   3577\u001b[0m         \u001b[1;32mif\u001b[0m \u001b[1;32mnot\u001b[0m \u001b[0mself\u001b[0m\u001b[1;33m.\u001b[0m\u001b[0mis_consolidated\u001b[0m\u001b[1;33m(\u001b[0m\u001b[1;33m)\u001b[0m\u001b[1;33m:\u001b[0m\u001b[1;33m\u001b[0m\u001b[0m\n\u001b[1;32m-> 3578\u001b[1;33m             \u001b[0mself\u001b[0m\u001b[1;33m.\u001b[0m\u001b[0mblocks\u001b[0m \u001b[1;33m=\u001b[0m \u001b[0mtuple\u001b[0m\u001b[1;33m(\u001b[0m\u001b[0m_consolidate\u001b[0m\u001b[1;33m(\u001b[0m\u001b[0mself\u001b[0m\u001b[1;33m.\u001b[0m\u001b[0mblocks\u001b[0m\u001b[1;33m)\u001b[0m\u001b[1;33m)\u001b[0m\u001b[1;33m\u001b[0m\u001b[0m\n\u001b[0m\u001b[0;32m   3579\u001b[0m             \u001b[0mself\u001b[0m\u001b[1;33m.\u001b[0m\u001b[0m_is_consolidated\u001b[0m \u001b[1;33m=\u001b[0m \u001b[1;32mTrue\u001b[0m\u001b[1;33m\u001b[0m\u001b[0m\n\u001b[0;32m   3580\u001b[0m             \u001b[0mself\u001b[0m\u001b[1;33m.\u001b[0m\u001b[0m_known_consolidated\u001b[0m \u001b[1;33m=\u001b[0m \u001b[1;32mTrue\u001b[0m\u001b[1;33m\u001b[0m\u001b[0m\n",
      "\u001b[1;32mC:\\Python36\\lib\\site-packages\\pandas\\core\\internals.py\u001b[0m in \u001b[0;36m_consolidate\u001b[1;34m(blocks)\u001b[0m\n\u001b[0;32m   4523\u001b[0m     \u001b[1;32mfor\u001b[0m \u001b[1;33m(\u001b[0m\u001b[0m_can_consolidate\u001b[0m\u001b[1;33m,\u001b[0m \u001b[0mdtype\u001b[0m\u001b[1;33m)\u001b[0m\u001b[1;33m,\u001b[0m \u001b[0mgroup_blocks\u001b[0m \u001b[1;32min\u001b[0m \u001b[0mgrouper\u001b[0m\u001b[1;33m:\u001b[0m\u001b[1;33m\u001b[0m\u001b[0m\n\u001b[0;32m   4524\u001b[0m         merged_blocks = _merge_blocks(list(group_blocks), dtype=dtype,\n\u001b[1;32m-> 4525\u001b[1;33m                                       _can_consolidate=_can_consolidate)\n\u001b[0m\u001b[0;32m   4526\u001b[0m         \u001b[0mnew_blocks\u001b[0m \u001b[1;33m=\u001b[0m \u001b[0m_extend_blocks\u001b[0m\u001b[1;33m(\u001b[0m\u001b[0mmerged_blocks\u001b[0m\u001b[1;33m,\u001b[0m \u001b[0mnew_blocks\u001b[0m\u001b[1;33m)\u001b[0m\u001b[1;33m\u001b[0m\u001b[0m\n\u001b[0;32m   4527\u001b[0m     \u001b[1;32mreturn\u001b[0m \u001b[0mnew_blocks\u001b[0m\u001b[1;33m\u001b[0m\u001b[0m\n",
      "\u001b[1;32mC:\\Python36\\lib\\site-packages\\pandas\\core\\internals.py\u001b[0m in \u001b[0;36m_merge_blocks\u001b[1;34m(blocks, dtype, _can_consolidate)\u001b[0m\n\u001b[0;32m   4543\u001b[0m         \u001b[1;31m# combination of those slices is a slice, too.\u001b[0m\u001b[1;33m\u001b[0m\u001b[1;33m\u001b[0m\u001b[0m\n\u001b[0;32m   4544\u001b[0m         \u001b[0mnew_mgr_locs\u001b[0m \u001b[1;33m=\u001b[0m \u001b[0mnp\u001b[0m\u001b[1;33m.\u001b[0m\u001b[0mconcatenate\u001b[0m\u001b[1;33m(\u001b[0m\u001b[1;33m[\u001b[0m\u001b[0mb\u001b[0m\u001b[1;33m.\u001b[0m\u001b[0mmgr_locs\u001b[0m\u001b[1;33m.\u001b[0m\u001b[0mas_array\u001b[0m \u001b[1;32mfor\u001b[0m \u001b[0mb\u001b[0m \u001b[1;32min\u001b[0m \u001b[0mblocks\u001b[0m\u001b[1;33m]\u001b[0m\u001b[1;33m)\u001b[0m\u001b[1;33m\u001b[0m\u001b[0m\n\u001b[1;32m-> 4545\u001b[1;33m         \u001b[0mnew_values\u001b[0m \u001b[1;33m=\u001b[0m \u001b[0m_vstack\u001b[0m\u001b[1;33m(\u001b[0m\u001b[1;33m[\u001b[0m\u001b[0mb\u001b[0m\u001b[1;33m.\u001b[0m\u001b[0mvalues\u001b[0m \u001b[1;32mfor\u001b[0m \u001b[0mb\u001b[0m \u001b[1;32min\u001b[0m \u001b[0mblocks\u001b[0m\u001b[1;33m]\u001b[0m\u001b[1;33m,\u001b[0m \u001b[0mdtype\u001b[0m\u001b[1;33m)\u001b[0m\u001b[1;33m\u001b[0m\u001b[0m\n\u001b[0m\u001b[0;32m   4546\u001b[0m \u001b[1;33m\u001b[0m\u001b[0m\n\u001b[0;32m   4547\u001b[0m         \u001b[0margsort\u001b[0m \u001b[1;33m=\u001b[0m \u001b[0mnp\u001b[0m\u001b[1;33m.\u001b[0m\u001b[0margsort\u001b[0m\u001b[1;33m(\u001b[0m\u001b[0mnew_mgr_locs\u001b[0m\u001b[1;33m)\u001b[0m\u001b[1;33m\u001b[0m\u001b[0m\n",
      "\u001b[1;32mC:\\Python36\\lib\\site-packages\\pandas\\core\\internals.py\u001b[0m in \u001b[0;36m_vstack\u001b[1;34m(to_stack, dtype)\u001b[0m\n\u001b[0;32m   4589\u001b[0m \u001b[1;33m\u001b[0m\u001b[0m\n\u001b[0;32m   4590\u001b[0m     \u001b[1;32melse\u001b[0m\u001b[1;33m:\u001b[0m\u001b[1;33m\u001b[0m\u001b[0m\n\u001b[1;32m-> 4591\u001b[1;33m         \u001b[1;32mreturn\u001b[0m \u001b[0mnp\u001b[0m\u001b[1;33m.\u001b[0m\u001b[0mvstack\u001b[0m\u001b[1;33m(\u001b[0m\u001b[0mto_stack\u001b[0m\u001b[1;33m)\u001b[0m\u001b[1;33m\u001b[0m\u001b[0m\n\u001b[0m\u001b[0;32m   4592\u001b[0m \u001b[1;33m\u001b[0m\u001b[0m\n\u001b[0;32m   4593\u001b[0m \u001b[1;33m\u001b[0m\u001b[0m\n",
      "\u001b[1;32mC:\\Python36\\lib\\site-packages\\numpy\\core\\shape_base.py\u001b[0m in \u001b[0;36mvstack\u001b[1;34m(tup)\u001b[0m\n\u001b[0;32m    235\u001b[0m \u001b[1;33m\u001b[0m\u001b[0m\n\u001b[0;32m    236\u001b[0m     \"\"\"\n\u001b[1;32m--> 237\u001b[1;33m     \u001b[1;32mreturn\u001b[0m \u001b[0m_nx\u001b[0m\u001b[1;33m.\u001b[0m\u001b[0mconcatenate\u001b[0m\u001b[1;33m(\u001b[0m\u001b[1;33m[\u001b[0m\u001b[0matleast_2d\u001b[0m\u001b[1;33m(\u001b[0m\u001b[0m_m\u001b[0m\u001b[1;33m)\u001b[0m \u001b[1;32mfor\u001b[0m \u001b[0m_m\u001b[0m \u001b[1;32min\u001b[0m \u001b[0mtup\u001b[0m\u001b[1;33m]\u001b[0m\u001b[1;33m,\u001b[0m \u001b[1;36m0\u001b[0m\u001b[1;33m)\u001b[0m\u001b[1;33m\u001b[0m\u001b[0m\n\u001b[0m\u001b[0;32m    238\u001b[0m \u001b[1;33m\u001b[0m\u001b[0m\n\u001b[0;32m    239\u001b[0m \u001b[1;32mdef\u001b[0m \u001b[0mhstack\u001b[0m\u001b[1;33m(\u001b[0m\u001b[0mtup\u001b[0m\u001b[1;33m)\u001b[0m\u001b[1;33m:\u001b[0m\u001b[1;33m\u001b[0m\u001b[0m\n",
      "\u001b[1;31mMemoryError\u001b[0m: "
     ]
    }
   ],
   "source": [
    "total_e = total_all.loc[:,['group_e', 'device_id', 'app_id', 'label_id', 'brand', 'device', 'M_F', 'age',  'time',  'brand_ratio', \n",
    "                           'device_ratio', 'label_ratio']]"
   ]
  },
  {
   "cell_type": "code",
   "execution_count": null,
   "metadata": {
    "collapsed": true
   },
   "outputs": [],
   "source": [
    "# train / test 분리"
   ]
  },
  {
   "cell_type": "code",
   "execution_count": 159,
   "metadata": {
    "collapsed": true
   },
   "outputs": [],
   "source": [
    "total_train = pd.merge(gender_age_train, total_e, on = 'device_id')\n",
    "total_test = pd.merge(gender_age_test, total_e, on = 'device_id')"
   ]
  },
  {
   "cell_type": "code",
   "execution_count": 160,
   "metadata": {},
   "outputs": [
    {
     "data": {
      "text/html": [
       "<div>\n",
       "<style>\n",
       "    .dataframe thead tr:only-child th {\n",
       "        text-align: right;\n",
       "    }\n",
       "\n",
       "    .dataframe thead th {\n",
       "        text-align: left;\n",
       "    }\n",
       "\n",
       "    .dataframe tbody tr th {\n",
       "        vertical-align: top;\n",
       "    }\n",
       "</style>\n",
       "<table border=\"1\" class=\"dataframe\">\n",
       "  <thead>\n",
       "    <tr style=\"text-align: right;\">\n",
       "      <th></th>\n",
       "      <th>device_id</th>\n",
       "      <th>gender</th>\n",
       "      <th>age_x</th>\n",
       "      <th>group</th>\n",
       "      <th>M_F_x</th>\n",
       "      <th>group_e_x</th>\n",
       "      <th>group_e_y</th>\n",
       "      <th>app_id</th>\n",
       "      <th>label_id</th>\n",
       "      <th>brand</th>\n",
       "      <th>device</th>\n",
       "      <th>M_F_y</th>\n",
       "      <th>age_y</th>\n",
       "      <th>time</th>\n",
       "      <th>brand_ratio</th>\n",
       "      <th>device_ratio</th>\n",
       "      <th>label_ratio</th>\n",
       "    </tr>\n",
       "  </thead>\n",
       "  <tbody>\n",
       "    <tr>\n",
       "      <th>0</th>\n",
       "      <td>-8076087639492063270</td>\n",
       "      <td>M</td>\n",
       "      <td>35</td>\n",
       "      <td>M32-38</td>\n",
       "      <td>1</td>\n",
       "      <td>10</td>\n",
       "      <td>10.0</td>\n",
       "      <td>NaN</td>\n",
       "      <td>NaN</td>\n",
       "      <td>51</td>\n",
       "      <td>749</td>\n",
       "      <td>1.0</td>\n",
       "      <td>35.0</td>\n",
       "      <td>NaN</td>\n",
       "      <td>0.019259</td>\n",
       "      <td>0.022727</td>\n",
       "      <td>NaN</td>\n",
       "    </tr>\n",
       "    <tr>\n",
       "      <th>1</th>\n",
       "      <td>-2897161552818060146</td>\n",
       "      <td>M</td>\n",
       "      <td>35</td>\n",
       "      <td>M32-38</td>\n",
       "      <td>1</td>\n",
       "      <td>10</td>\n",
       "      <td>10.0</td>\n",
       "      <td>NaN</td>\n",
       "      <td>NaN</td>\n",
       "      <td>51</td>\n",
       "      <td>749</td>\n",
       "      <td>1.0</td>\n",
       "      <td>35.0</td>\n",
       "      <td>NaN</td>\n",
       "      <td>0.019259</td>\n",
       "      <td>0.022727</td>\n",
       "      <td>NaN</td>\n",
       "    </tr>\n",
       "    <tr>\n",
       "      <th>2</th>\n",
       "      <td>-8260683887967679142</td>\n",
       "      <td>M</td>\n",
       "      <td>35</td>\n",
       "      <td>M32-38</td>\n",
       "      <td>1</td>\n",
       "      <td>10</td>\n",
       "      <td>10.0</td>\n",
       "      <td>NaN</td>\n",
       "      <td>NaN</td>\n",
       "      <td>51</td>\n",
       "      <td>749</td>\n",
       "      <td>1.0</td>\n",
       "      <td>35.0</td>\n",
       "      <td>14</td>\n",
       "      <td>0.019259</td>\n",
       "      <td>0.022727</td>\n",
       "      <td>NaN</td>\n",
       "    </tr>\n",
       "    <tr>\n",
       "      <th>3</th>\n",
       "      <td>-4938849341048082022</td>\n",
       "      <td>M</td>\n",
       "      <td>30</td>\n",
       "      <td>M29-31</td>\n",
       "      <td>1</td>\n",
       "      <td>9</td>\n",
       "      <td>9.0</td>\n",
       "      <td>NaN</td>\n",
       "      <td>NaN</td>\n",
       "      <td>51</td>\n",
       "      <td>1524</td>\n",
       "      <td>1.0</td>\n",
       "      <td>30.0</td>\n",
       "      <td>NaN</td>\n",
       "      <td>0.015841</td>\n",
       "      <td>0.015513</td>\n",
       "      <td>NaN</td>\n",
       "    </tr>\n",
       "    <tr>\n",
       "      <th>4</th>\n",
       "      <td>245133531816851882</td>\n",
       "      <td>M</td>\n",
       "      <td>30</td>\n",
       "      <td>M29-31</td>\n",
       "      <td>1</td>\n",
       "      <td>9</td>\n",
       "      <td>9.0</td>\n",
       "      <td>NaN</td>\n",
       "      <td>NaN</td>\n",
       "      <td>51</td>\n",
       "      <td>753</td>\n",
       "      <td>1.0</td>\n",
       "      <td>30.0</td>\n",
       "      <td>NaN</td>\n",
       "      <td>0.015841</td>\n",
       "      <td>0.016329</td>\n",
       "      <td>NaN</td>\n",
       "    </tr>\n",
       "  </tbody>\n",
       "</table>\n",
       "</div>"
      ],
      "text/plain": [
       "             device_id gender  age_x   group  M_F_x  group_e_x  group_e_y  \\\n",
       "0 -8076087639492063270      M     35  M32-38      1         10       10.0   \n",
       "1 -2897161552818060146      M     35  M32-38      1         10       10.0   \n",
       "2 -8260683887967679142      M     35  M32-38      1         10       10.0   \n",
       "3 -4938849341048082022      M     30  M29-31      1          9        9.0   \n",
       "4   245133531816851882      M     30  M29-31      1          9        9.0   \n",
       "\n",
       "  app_id  label_id  brand  device  M_F_y  age_y time  brand_ratio  \\\n",
       "0    NaN       NaN     51     749    1.0   35.0  NaN     0.019259   \n",
       "1    NaN       NaN     51     749    1.0   35.0  NaN     0.019259   \n",
       "2    NaN       NaN     51     749    1.0   35.0   14     0.019259   \n",
       "3    NaN       NaN     51    1524    1.0   30.0  NaN     0.015841   \n",
       "4    NaN       NaN     51     753    1.0   30.0  NaN     0.015841   \n",
       "\n",
       "   device_ratio  label_ratio  \n",
       "0      0.022727          NaN  \n",
       "1      0.022727          NaN  \n",
       "2      0.022727          NaN  \n",
       "3      0.015513          NaN  \n",
       "4      0.016329          NaN  "
      ]
     },
     "execution_count": 160,
     "metadata": {},
     "output_type": "execute_result"
    }
   ],
   "source": [
    "total_train.head()"
   ]
  },
  {
   "cell_type": "code",
   "execution_count": 22,
   "metadata": {},
   "outputs": [
    {
     "ename": "NameError",
     "evalue": "name 'total_test' is not defined",
     "output_type": "error",
     "traceback": [
      "\u001b[1;31m---------------------------------------------------------------------------\u001b[0m",
      "\u001b[1;31mNameError\u001b[0m                                 Traceback (most recent call last)",
      "\u001b[1;32m<ipython-input-22-0766f3c6db1d>\u001b[0m in \u001b[0;36m<module>\u001b[1;34m()\u001b[0m\n\u001b[1;32m----> 1\u001b[1;33m \u001b[0mtotal_test\u001b[0m\u001b[1;33m.\u001b[0m\u001b[0mhead\u001b[0m\u001b[1;33m(\u001b[0m\u001b[1;36m300\u001b[0m\u001b[1;33m)\u001b[0m\u001b[1;33m\u001b[0m\u001b[0m\n\u001b[0m",
      "\u001b[1;31mNameError\u001b[0m: name 'total_test' is not defined"
     ]
    }
   ],
   "source": [
    "total_test.head(300)"
   ]
  },
  {
   "cell_type": "code",
   "execution_count": 21,
   "metadata": {},
   "outputs": [
    {
     "ename": "NameError",
     "evalue": "name 'total_test' is not defined",
     "output_type": "error",
     "traceback": [
      "\u001b[1;31m---------------------------------------------------------------------------\u001b[0m",
      "\u001b[1;31mNameError\u001b[0m                                 Traceback (most recent call last)",
      "\u001b[1;32m<ipython-input-21-a2aa36804ad8>\u001b[0m in \u001b[0;36m<module>\u001b[1;34m()\u001b[0m\n\u001b[1;32m----> 1\u001b[1;33m \u001b[0mtotal_test\u001b[0m\u001b[1;33m.\u001b[0m\u001b[0misnull\u001b[0m\u001b[1;33m(\u001b[0m\u001b[1;33m)\u001b[0m\u001b[1;33m.\u001b[0m\u001b[0msum\u001b[0m\u001b[1;33m(\u001b[0m\u001b[1;33m)\u001b[0m\u001b[1;33m\u001b[0m\u001b[0m\n\u001b[0m",
      "\u001b[1;31mNameError\u001b[0m: name 'total_test' is not defined"
     ]
    }
   ],
   "source": [
    "total_test.isnull().sum()"
   ]
  },
  {
   "cell_type": "markdown",
   "metadata": {
    "collapsed": true
   },
   "source": [
    "### device_id 1개로 줄이기 (보류)"
   ]
  },
  {
   "cell_type": "code",
   "execution_count": 157,
   "metadata": {
    "collapsed": true
   },
   "outputs": [],
   "source": [
    "from sklearn.preprocessing import OneHotEncoder"
   ]
  },
  {
   "cell_type": "code",
   "execution_count": null,
   "metadata": {
    "collapsed": true
   },
   "outputs": [],
   "source": [
    "oh = OneHotEncoder(categorical_features = )"
   ]
  },
  {
   "cell_type": "code",
   "execution_count": null,
   "metadata": {
    "collapsed": true
   },
   "outputs": [],
   "source": []
  },
  {
   "cell_type": "code",
   "execution_count": null,
   "metadata": {
    "collapsed": true
   },
   "outputs": [],
   "source": []
  },
  {
   "cell_type": "code",
   "execution_count": null,
   "metadata": {
    "collapsed": true
   },
   "outputs": [],
   "source": []
  },
  {
   "cell_type": "code",
   "execution_count": 22,
   "metadata": {
    "collapsed": true
   },
   "outputs": [],
   "source": [
    "age_brand = age_brand.join(g_user, on = 'phone_brand', rsuffix = '_')"
   ]
  },
  {
   "cell_type": "code",
   "execution_count": 24,
   "metadata": {
    "collapsed": true
   },
   "outputs": [],
   "source": [
    "age_brand = age_brand.drop('brand_age', 1)"
   ]
  },
  {
   "cell_type": "code",
   "execution_count": 25,
   "metadata": {},
   "outputs": [
    {
     "data": {
      "text/html": [
       "<div>\n",
       "<style>\n",
       "    .dataframe thead tr:only-child th {\n",
       "        text-align: right;\n",
       "    }\n",
       "\n",
       "    .dataframe thead th {\n",
       "        text-align: left;\n",
       "    }\n",
       "\n",
       "    .dataframe tbody tr th {\n",
       "        vertical-align: top;\n",
       "    }\n",
       "</style>\n",
       "<table border=\"1\" class=\"dataframe\">\n",
       "  <thead>\n",
       "    <tr style=\"text-align: right;\">\n",
       "      <th></th>\n",
       "      <th>device_id</th>\n",
       "      <th>phone_brand</th>\n",
       "      <th>device_model</th>\n",
       "      <th>brand</th>\n",
       "      <th>device</th>\n",
       "      <th>gender</th>\n",
       "      <th>age</th>\n",
       "      <th>group</th>\n",
       "      <th>brand_age_</th>\n",
       "    </tr>\n",
       "  </thead>\n",
       "  <tbody>\n",
       "    <tr>\n",
       "      <th>0</th>\n",
       "      <td>-8890648629457979026</td>\n",
       "      <td>小米</td>\n",
       "      <td>红米</td>\n",
       "      <td>51</td>\n",
       "      <td>1517</td>\n",
       "      <td>M</td>\n",
       "      <td>33.0</td>\n",
       "      <td>M32-38</td>\n",
       "      <td>30.986849</td>\n",
       "    </tr>\n",
       "    <tr>\n",
       "      <th>1</th>\n",
       "      <td>1277779817574759137</td>\n",
       "      <td>小米</td>\n",
       "      <td>MI 2</td>\n",
       "      <td>51</td>\n",
       "      <td>749</td>\n",
       "      <td>M</td>\n",
       "      <td>26.0</td>\n",
       "      <td>M23-26</td>\n",
       "      <td>30.986849</td>\n",
       "    </tr>\n",
       "    <tr>\n",
       "      <th>2</th>\n",
       "      <td>5137427614288105724</td>\n",
       "      <td>三星</td>\n",
       "      <td>Galaxy S4</td>\n",
       "      <td>15</td>\n",
       "      <td>560</td>\n",
       "      <td>NaN</td>\n",
       "      <td>NaN</td>\n",
       "      <td>NaN</td>\n",
       "      <td>32.966949</td>\n",
       "    </tr>\n",
       "    <tr>\n",
       "      <th>3</th>\n",
       "      <td>3669464369358936369</td>\n",
       "      <td>SUGAR</td>\n",
       "      <td>时尚手机</td>\n",
       "      <td>9</td>\n",
       "      <td>1503</td>\n",
       "      <td>NaN</td>\n",
       "      <td>NaN</td>\n",
       "      <td>NaN</td>\n",
       "      <td>28.500000</td>\n",
       "    </tr>\n",
       "    <tr>\n",
       "      <th>4</th>\n",
       "      <td>-5019277647504317457</td>\n",
       "      <td>三星</td>\n",
       "      <td>Galaxy Note 2</td>\n",
       "      <td>15</td>\n",
       "      <td>536</td>\n",
       "      <td>F</td>\n",
       "      <td>32.0</td>\n",
       "      <td>F29-32</td>\n",
       "      <td>32.966949</td>\n",
       "    </tr>\n",
       "  </tbody>\n",
       "</table>\n",
       "</div>"
      ],
      "text/plain": [
       "             device_id phone_brand   device_model  brand  device gender   age  \\\n",
       "0 -8890648629457979026          小米             红米     51    1517      M  33.0   \n",
       "1  1277779817574759137          小米           MI 2     51     749      M  26.0   \n",
       "2  5137427614288105724          三星      Galaxy S4     15     560    NaN   NaN   \n",
       "3  3669464369358936369       SUGAR           时尚手机      9    1503    NaN   NaN   \n",
       "4 -5019277647504317457          三星  Galaxy Note 2     15     536      F  32.0   \n",
       "\n",
       "    group  brand_age_  \n",
       "0  M32-38   30.986849  \n",
       "1  M23-26   30.986849  \n",
       "2     NaN   32.966949  \n",
       "3     NaN   28.500000  \n",
       "4  F29-32   32.966949  "
      ]
     },
     "execution_count": 25,
     "metadata": {},
     "output_type": "execute_result"
    }
   ],
   "source": [
    "age_brand.head()"
   ]
  },
  {
   "cell_type": "code",
   "execution_count": null,
   "metadata": {
    "collapsed": true
   },
   "outputs": [],
   "source": []
  },
  {
   "cell_type": "code",
   "execution_count": null,
   "metadata": {
    "collapsed": true
   },
   "outputs": [],
   "source": []
  },
  {
   "cell_type": "code",
   "execution_count": null,
   "metadata": {
    "collapsed": true
   },
   "outputs": [],
   "source": []
  },
  {
   "cell_type": "code",
   "execution_count": null,
   "metadata": {
    "collapsed": true
   },
   "outputs": [],
   "source": []
  },
  {
   "cell_type": "markdown",
   "metadata": {
    "collapsed": true
   },
   "source": [
    "### test set 구성"
   ]
  },
  {
   "cell_type": "code",
   "execution_count": null,
   "metadata": {
    "collapsed": true
   },
   "outputs": [],
   "source": [
    "age_even = pd.merge(gender_age_train, events_tude_mean, how = 'left', on = 'device_id')\n",
    "age_app = pd.merge(age_even, app_events, how = 'left', on = 'event_id')\n",
    "age_label = pd.merge(age_app, app_labels, how='left', on='app_id')\n",
    "age_model = pd.merge(age_label, phone_brand_label, how = 'left', on = 'device_id')\n",
    "\n",
    "train_f = age_model.loc[:, ['device_id', 'label_id', 'brand', 'device']] # time 붙일 수 있다.\n",
    "\n",
    "X = train_f\n",
    "\n",
    "age_model['group_label'] = le.fit_transform(age_model['group'])\n",
    "y = age_model.group_label\n",
    "\n",
    "X.fillna(-1, inplace = True)\n",
    "y.fillna(-1, inplace = True)"
   ]
  },
  {
   "cell_type": "markdown",
   "metadata": {},
   "source": [
    "### test set 구성"
   ]
  },
  {
   "cell_type": "code",
   "execution_count": 153,
   "metadata": {
    "collapsed": true
   },
   "outputs": [],
   "source": [
    "test_e = pd.merge(gender_age_test, events_tude_mean, how = 'left', on = 'device_id')\n",
    "test_app = pd.merge(test_e, app_events, how = 'left', on = 'event_id')\n",
    "test_app_label = pd.merge(test_app, app_labels, how='left', on = 'app_id')\n",
    "test_model = pd.merge(test_app_label, phone_brand_label, how = 'left', on = 'device_id')\n",
    "\n",
    "test_model.fillna(-1, inplace = True)"
   ]
  },
  {
   "cell_type": "code",
   "execution_count": 155,
   "metadata": {},
   "outputs": [
    {
     "data": {
      "text/html": [
       "<div>\n",
       "<style>\n",
       "    .dataframe thead tr:only-child th {\n",
       "        text-align: right;\n",
       "    }\n",
       "\n",
       "    .dataframe thead th {\n",
       "        text-align: left;\n",
       "    }\n",
       "\n",
       "    .dataframe tbody tr th {\n",
       "        vertical-align: top;\n",
       "    }\n",
       "</style>\n",
       "<table border=\"1\" class=\"dataframe\">\n",
       "  <thead>\n",
       "    <tr style=\"text-align: right;\">\n",
       "      <th></th>\n",
       "      <th>device_id</th>\n",
       "      <th>event_id</th>\n",
       "      <th>month</th>\n",
       "      <th>day</th>\n",
       "      <th>time</th>\n",
       "      <th>longitude_y</th>\n",
       "      <th>latitude_y</th>\n",
       "      <th>app_id</th>\n",
       "      <th>is_installed</th>\n",
       "      <th>is_active</th>\n",
       "      <th>label_id</th>\n",
       "      <th>brand</th>\n",
       "      <th>device</th>\n",
       "    </tr>\n",
       "  </thead>\n",
       "  <tbody>\n",
       "    <tr>\n",
       "      <th>0</th>\n",
       "      <td>1002079943728939269</td>\n",
       "      <td>460577.0</td>\n",
       "      <td>05</td>\n",
       "      <td>03</td>\n",
       "      <td>21</td>\n",
       "      <td>0.0</td>\n",
       "      <td>0.0</td>\n",
       "      <td>-1.0</td>\n",
       "      <td>-1.0</td>\n",
       "      <td>-1.0</td>\n",
       "      <td>-1.0</td>\n",
       "      <td>51</td>\n",
       "      <td>1482</td>\n",
       "    </tr>\n",
       "    <tr>\n",
       "      <th>1</th>\n",
       "      <td>1002079943728939269</td>\n",
       "      <td>755837.0</td>\n",
       "      <td>05</td>\n",
       "      <td>05</td>\n",
       "      <td>22</td>\n",
       "      <td>0.0</td>\n",
       "      <td>0.0</td>\n",
       "      <td>-1.0</td>\n",
       "      <td>-1.0</td>\n",
       "      <td>-1.0</td>\n",
       "      <td>-1.0</td>\n",
       "      <td>51</td>\n",
       "      <td>1482</td>\n",
       "    </tr>\n",
       "    <tr>\n",
       "      <th>2</th>\n",
       "      <td>1002079943728939269</td>\n",
       "      <td>1171252.0</td>\n",
       "      <td>05</td>\n",
       "      <td>02</td>\n",
       "      <td>08</td>\n",
       "      <td>0.0</td>\n",
       "      <td>0.0</td>\n",
       "      <td>-1.0</td>\n",
       "      <td>-1.0</td>\n",
       "      <td>-1.0</td>\n",
       "      <td>-1.0</td>\n",
       "      <td>51</td>\n",
       "      <td>1482</td>\n",
       "    </tr>\n",
       "    <tr>\n",
       "      <th>3</th>\n",
       "      <td>1002079943728939269</td>\n",
       "      <td>1805074.0</td>\n",
       "      <td>05</td>\n",
       "      <td>01</td>\n",
       "      <td>16</td>\n",
       "      <td>0.0</td>\n",
       "      <td>0.0</td>\n",
       "      <td>-1.0</td>\n",
       "      <td>-1.0</td>\n",
       "      <td>-1.0</td>\n",
       "      <td>-1.0</td>\n",
       "      <td>51</td>\n",
       "      <td>1482</td>\n",
       "    </tr>\n",
       "    <tr>\n",
       "      <th>4</th>\n",
       "      <td>1002079943728939269</td>\n",
       "      <td>2145937.0</td>\n",
       "      <td>05</td>\n",
       "      <td>05</td>\n",
       "      <td>08</td>\n",
       "      <td>0.0</td>\n",
       "      <td>0.0</td>\n",
       "      <td>-1.0</td>\n",
       "      <td>-1.0</td>\n",
       "      <td>-1.0</td>\n",
       "      <td>-1.0</td>\n",
       "      <td>51</td>\n",
       "      <td>1482</td>\n",
       "    </tr>\n",
       "    <tr>\n",
       "      <th>5</th>\n",
       "      <td>1002079943728939269</td>\n",
       "      <td>2774265.0</td>\n",
       "      <td>05</td>\n",
       "      <td>07</td>\n",
       "      <td>09</td>\n",
       "      <td>0.0</td>\n",
       "      <td>0.0</td>\n",
       "      <td>-1.0</td>\n",
       "      <td>-1.0</td>\n",
       "      <td>-1.0</td>\n",
       "      <td>-1.0</td>\n",
       "      <td>51</td>\n",
       "      <td>1482</td>\n",
       "    </tr>\n",
       "    <tr>\n",
       "      <th>6</th>\n",
       "      <td>1002079943728939269</td>\n",
       "      <td>3127685.0</td>\n",
       "      <td>05</td>\n",
       "      <td>06</td>\n",
       "      <td>22</td>\n",
       "      <td>0.0</td>\n",
       "      <td>0.0</td>\n",
       "      <td>-1.0</td>\n",
       "      <td>-1.0</td>\n",
       "      <td>-1.0</td>\n",
       "      <td>-1.0</td>\n",
       "      <td>51</td>\n",
       "      <td>1482</td>\n",
       "    </tr>\n",
       "    <tr>\n",
       "      <th>7</th>\n",
       "      <td>-1547860181818787117</td>\n",
       "      <td>185516.0</td>\n",
       "      <td>05</td>\n",
       "      <td>03</td>\n",
       "      <td>20</td>\n",
       "      <td>0.0</td>\n",
       "      <td>0.0</td>\n",
       "      <td>-1.0</td>\n",
       "      <td>-1.0</td>\n",
       "      <td>-1.0</td>\n",
       "      <td>-1.0</td>\n",
       "      <td>51</td>\n",
       "      <td>1519</td>\n",
       "    </tr>\n",
       "    <tr>\n",
       "      <th>8</th>\n",
       "      <td>-1547860181818787117</td>\n",
       "      <td>202176.0</td>\n",
       "      <td>05</td>\n",
       "      <td>01</td>\n",
       "      <td>13</td>\n",
       "      <td>0.0</td>\n",
       "      <td>0.0</td>\n",
       "      <td>-1.0</td>\n",
       "      <td>-1.0</td>\n",
       "      <td>-1.0</td>\n",
       "      <td>-1.0</td>\n",
       "      <td>51</td>\n",
       "      <td>1519</td>\n",
       "    </tr>\n",
       "    <tr>\n",
       "      <th>9</th>\n",
       "      <td>-1547860181818787117</td>\n",
       "      <td>604418.0</td>\n",
       "      <td>05</td>\n",
       "      <td>01</td>\n",
       "      <td>13</td>\n",
       "      <td>0.0</td>\n",
       "      <td>0.0</td>\n",
       "      <td>-1.0</td>\n",
       "      <td>-1.0</td>\n",
       "      <td>-1.0</td>\n",
       "      <td>-1.0</td>\n",
       "      <td>51</td>\n",
       "      <td>1519</td>\n",
       "    </tr>\n",
       "  </tbody>\n",
       "</table>\n",
       "</div>"
      ],
      "text/plain": [
       "             device_id   event_id month day time  longitude_y  latitude_y  \\\n",
       "0  1002079943728939269   460577.0    05  03   21          0.0         0.0   \n",
       "1  1002079943728939269   755837.0    05  05   22          0.0         0.0   \n",
       "2  1002079943728939269  1171252.0    05  02   08          0.0         0.0   \n",
       "3  1002079943728939269  1805074.0    05  01   16          0.0         0.0   \n",
       "4  1002079943728939269  2145937.0    05  05   08          0.0         0.0   \n",
       "5  1002079943728939269  2774265.0    05  07   09          0.0         0.0   \n",
       "6  1002079943728939269  3127685.0    05  06   22          0.0         0.0   \n",
       "7 -1547860181818787117   185516.0    05  03   20          0.0         0.0   \n",
       "8 -1547860181818787117   202176.0    05  01   13          0.0         0.0   \n",
       "9 -1547860181818787117   604418.0    05  01   13          0.0         0.0   \n",
       "\n",
       "   app_id  is_installed  is_active  label_id  brand  device  \n",
       "0    -1.0          -1.0       -1.0      -1.0     51    1482  \n",
       "1    -1.0          -1.0       -1.0      -1.0     51    1482  \n",
       "2    -1.0          -1.0       -1.0      -1.0     51    1482  \n",
       "3    -1.0          -1.0       -1.0      -1.0     51    1482  \n",
       "4    -1.0          -1.0       -1.0      -1.0     51    1482  \n",
       "5    -1.0          -1.0       -1.0      -1.0     51    1482  \n",
       "6    -1.0          -1.0       -1.0      -1.0     51    1482  \n",
       "7    -1.0          -1.0       -1.0      -1.0     51    1519  \n",
       "8    -1.0          -1.0       -1.0      -1.0     51    1519  \n",
       "9    -1.0          -1.0       -1.0      -1.0     51    1519  "
      ]
     },
     "execution_count": 155,
     "metadata": {},
     "output_type": "execute_result"
    }
   ],
   "source": [
    "test_model.head(10)"
   ]
  },
  {
   "cell_type": "code",
   "execution_count": null,
   "metadata": {
    "collapsed": true
   },
   "outputs": [],
   "source": []
  },
  {
   "cell_type": "markdown",
   "metadata": {},
   "source": [
    "## train_test_split"
   ]
  },
  {
   "cell_type": "code",
   "execution_count": null,
   "metadata": {
    "collapsed": true
   },
   "outputs": [],
   "source": [
    "from sklearn.model_selection import train_test_split"
   ]
  },
  {
   "cell_type": "code",
   "execution_count": null,
   "metadata": {
    "collapsed": true
   },
   "outputs": [],
   "source": [
    "X_train, X_test, y_train, y_test = train_test_split(X, y, random_state = 1)"
   ]
  },
  {
   "cell_type": "markdown",
   "metadata": {},
   "source": [
    "# Random Forest"
   ]
  },
  {
   "cell_type": "code",
   "execution_count": null,
   "metadata": {
    "collapsed": true
   },
   "outputs": [],
   "source": [
    "from sklearn.ensemble import RandomForestClassifier"
   ]
  },
  {
   "cell_type": "code",
   "execution_count": null,
   "metadata": {
    "collapsed": true
   },
   "outputs": [],
   "source": [
    "forest = RandomForestClassifier(criterion = 'gini', n_estimators = 10, random_state = 1, n_jobs = -1)"
   ]
  },
  {
   "cell_type": "code",
   "execution_count": null,
   "metadata": {
    "collapsed": true
   },
   "outputs": [],
   "source": [
    "forest.fit(X_train[['label_id', 'brand', 'device']], y_train)"
   ]
  },
  {
   "cell_type": "code",
   "execution_count": null,
   "metadata": {
    "collapsed": true
   },
   "outputs": [],
   "source": [
    "forest.feature_importances_"
   ]
  },
  {
   "cell_type": "code",
   "execution_count": null,
   "metadata": {
    "collapsed": true
   },
   "outputs": [],
   "source": [
    "result_rf = pd.DataFrame(y_prona_rf_test, columns = le.classes_)\n",
    "device_id = test_model[\"device_id\"].values\n",
    "result_rf['device_id'] = device_id  \n",
    "result_rf = result_rf.set_index('device_id')\n",
    "result_rf = result_rf.drop_duplicates(['device_id'], keep='first')\n",
    "\n"
   ]
  },
  {
   "cell_type": "markdown",
   "metadata": {},
   "source": [
    "# 예측"
   ]
  },
  {
   "cell_type": "code",
   "execution_count": null,
   "metadata": {
    "collapsed": true
   },
   "outputs": [],
   "source": [
    "y_prona_rf_test = forest.predict_proba(test_model[['label_id', 'brand', 'device']])"
   ]
  },
  {
   "cell_type": "code",
   "execution_count": null,
   "metadata": {
    "collapsed": true
   },
   "outputs": [],
   "source": []
  },
  {
   "cell_type": "code",
   "execution_count": null,
   "metadata": {
    "collapsed": true
   },
   "outputs": [],
   "source": [
    "from sklearn.metrics import accuracy_score"
   ]
  },
  {
   "cell_type": "code",
   "execution_count": null,
   "metadata": {
    "collapsed": true
   },
   "outputs": [],
   "source": []
  },
  {
   "cell_type": "code",
   "execution_count": null,
   "metadata": {
    "collapsed": true
   },
   "outputs": [],
   "source": []
  }
 ],
 "metadata": {
  "kernelspec": {
   "display_name": "Python 3",
   "language": "python",
   "name": "python3"
  },
  "language_info": {
   "codemirror_mode": {
    "name": "ipython",
    "version": 3
   },
   "file_extension": ".py",
   "mimetype": "text/x-python",
   "name": "python",
   "nbconvert_exporter": "python",
   "pygments_lexer": "ipython3",
   "version": "3.6.2rc1"
  }
 },
 "nbformat": 4,
 "nbformat_minor": 2
}
